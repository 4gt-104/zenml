{
 "cells": [
  {
   "cell_type": "code",
   "execution_count": 1,
   "metadata": {},
   "outputs": [],
   "source": [
    "import os\n",
    "from zenml.repo import Repository\n",
    "from zenml.datasources import CSVDatasource\n",
    "from zenml.pipelines import TrainingPipeline\n",
    "from zenml.steps.evaluator import TFMAEvaluator\n",
    "from zenml.steps.preprocesser import StandardPreprocesser\n",
    "from zenml.steps.split import RandomSplit\n",
    "from zenml.steps.trainer import TFFeedForwardTrainer\n",
    "from zenml.repo import Repository, ArtifactStore\n",
    "from zenml.utils.naming_utils import transformed_label_name\n",
    "from zenml.steps.deployer import GCAIPDeployer\n",
    "from zenml.steps.deployer import CortexDeployer\n",
    "from examples.cortex.predictor.tf import TensorFlowPredictor\n",
    "from zenml.backends.orchestrator import OrchestratorGCPBackend\n",
    "from zenml.metadata import MySQLMetadataStore\n",
    "from zenml.backends.processing import ProcessingDataFlowBackend\n",
    "from zenml.backends.training import SingleGPUTrainingGCAIPBackend"
   ]
  },
  {
   "cell_type": "markdown",
   "metadata": {},
   "source": [
    "# Set up some variables"
   ]
  },
  {
   "cell_type": "code",
   "execution_count": 2,
   "metadata": {},
   "outputs": [
    {
     "ename": "TypeError",
     "evalue": "expected str, bytes or os.PathLike object, not NoneType",
     "output_type": "error",
     "traceback": [
      "\u001b[0;31m---------------------------------------------------------------------------\u001b[0m",
      "\u001b[0;31mTypeError\u001b[0m                                 Traceback (most recent call last)",
      "\u001b[0;32m<ipython-input-2-c49ef8a1856b>\u001b[0m in \u001b[0;36m<module>\u001b[0;34m\u001b[0m\n\u001b[1;32m     11\u001b[0m \u001b[0mMYSQL_HOST\u001b[0m\u001b[0;34m=\u001b[0m\u001b[0mos\u001b[0m\u001b[0;34m.\u001b[0m\u001b[0mgetenv\u001b[0m\u001b[0;34m(\u001b[0m\u001b[0;34m'MYSQL_HOST'\u001b[0m\u001b[0;34m)\u001b[0m\u001b[0;34m\u001b[0m\u001b[0;34m\u001b[0m\u001b[0m\n\u001b[1;32m     12\u001b[0m \u001b[0mCONNECTION_NAME\u001b[0m \u001b[0;34m=\u001b[0m \u001b[0;34mf'{GCP_PROJECT}:{GCP_REGION}:{GCP_CLOUD_SQL_INSTANCE_NAME}'\u001b[0m\u001b[0;34m\u001b[0m\u001b[0;34m\u001b[0m\u001b[0m\n\u001b[0;32m---> 13\u001b[0;31m \u001b[0mTRAINING_JOB_DIR\u001b[0m \u001b[0;34m=\u001b[0m \u001b[0mos\u001b[0m\u001b[0;34m.\u001b[0m\u001b[0mpath\u001b[0m\u001b[0;34m.\u001b[0m\u001b[0mjoin\u001b[0m\u001b[0;34m(\u001b[0m\u001b[0mGCP_BUCKET\u001b[0m\u001b[0;34m,\u001b[0m \u001b[0;34m'gcp_gcaip_training/staging'\u001b[0m\u001b[0;34m)\u001b[0m\u001b[0;34m\u001b[0m\u001b[0;34m\u001b[0m\u001b[0m\n\u001b[0m",
      "\u001b[0;32m/usr/lib/python3.6/posixpath.py\u001b[0m in \u001b[0;36mjoin\u001b[0;34m(a, *p)\u001b[0m\n\u001b[1;32m     78\u001b[0m     \u001b[0mwill\u001b[0m \u001b[0mbe\u001b[0m \u001b[0mdiscarded\u001b[0m\u001b[0;34m.\u001b[0m  \u001b[0mAn\u001b[0m \u001b[0mempty\u001b[0m \u001b[0mlast\u001b[0m \u001b[0mpart\u001b[0m \u001b[0mwill\u001b[0m \u001b[0mresult\u001b[0m \u001b[0;32min\u001b[0m \u001b[0ma\u001b[0m \u001b[0mpath\u001b[0m \u001b[0mthat\u001b[0m\u001b[0;34m\u001b[0m\u001b[0;34m\u001b[0m\u001b[0m\n\u001b[1;32m     79\u001b[0m     ends with a separator.\"\"\"\n\u001b[0;32m---> 80\u001b[0;31m     \u001b[0ma\u001b[0m \u001b[0;34m=\u001b[0m \u001b[0mos\u001b[0m\u001b[0;34m.\u001b[0m\u001b[0mfspath\u001b[0m\u001b[0;34m(\u001b[0m\u001b[0ma\u001b[0m\u001b[0;34m)\u001b[0m\u001b[0;34m\u001b[0m\u001b[0;34m\u001b[0m\u001b[0m\n\u001b[0m\u001b[1;32m     81\u001b[0m     \u001b[0msep\u001b[0m \u001b[0;34m=\u001b[0m \u001b[0m_get_sep\u001b[0m\u001b[0;34m(\u001b[0m\u001b[0ma\u001b[0m\u001b[0;34m)\u001b[0m\u001b[0;34m\u001b[0m\u001b[0;34m\u001b[0m\u001b[0m\n\u001b[1;32m     82\u001b[0m     \u001b[0mpath\u001b[0m \u001b[0;34m=\u001b[0m \u001b[0ma\u001b[0m\u001b[0;34m\u001b[0m\u001b[0;34m\u001b[0m\u001b[0m\n",
      "\u001b[0;31mTypeError\u001b[0m: expected str, bytes or os.PathLike object, not NoneType"
     ]
    }
   ],
   "source": [
    "GCP_BUCKET=os.getenv('GCP_BUCKET')\n",
    "GCP_PROJECT=os.getenv('GCP_PROJECT')\n",
    "GCP_REGION=os.getenv('GCP_REGION')\n",
    "GCP_CLOUD_SQL_INSTANCE_NAME=os.getenv('GCP_CLOUD_SQL_INSTANCE_NAME')\n",
    "MODEL_NAME=os.getenv('MODEL_NAME')\n",
    "CORTEX_ENV=os.getenv('CORTEX_ENV')\n",
    "MYSQL_DB=os.getenv('MYSQL_DB')\n",
    "MYSQL_USER=os.getenv('MYSQL_USER')\n",
    "MYSQL_PWD=os.getenv('MYSQL_PWD')\n",
    "MYSQL_PORT=os.getenv('MYSQL_PORT')\n",
    "MYSQL_HOST=os.getenv('MYSQL_HOST')\n",
    "CONNECTION_NAME = f'{GCP_PROJECT}:{GCP_REGION}:{GCP_CLOUD_SQL_INSTANCE_NAME}'\n",
    "TRAINING_JOB_DIR = os.path.join(GCP_BUCKET, 'gcp_gcaip_training/staging')"
   ]
  },
  {
   "cell_type": "code",
   "execution_count": 4,
   "metadata": {},
   "outputs": [],
   "source": [
    "repo: Repository = Repository.get_instance()\n",
    "    \n",
    "artifact_store = ArtifactStore(os.path.join(GCP_BUCKET, 'all_feature_demo'))"
   ]
  },
  {
   "cell_type": "markdown",
   "metadata": {},
   "source": [
    "# Create first pipeline"
   ]
  },
  {
   "cell_type": "code",
   "execution_count": 6,
   "metadata": {},
   "outputs": [
    {
     "name": "stdout",
     "output_type": "stream",
     "text": [
      "2021-04-27 10:46:30,928 — zenml.pipelines.base_pipeline — INFO — Pipeline Experiment 1 created.\n"
     ]
    }
   ],
   "source": [
    "training_pipeline = TrainingPipeline(name='Experiment 1')"
   ]
  },
  {
   "cell_type": "markdown",
   "metadata": {},
   "source": [
    "#### Add a datasource. This will automatically track and version it."
   ]
  },
  {
   "cell_type": "code",
   "execution_count": 7,
   "metadata": {},
   "outputs": [
    {
     "name": "stdout",
     "output_type": "stream",
     "text": [
      "2021-04-27 10:46:32,371 — zenml.datasources.base_datasource — INFO — Datasource Pima Indians Diabetes created.\n"
     ]
    }
   ],
   "source": [
    "try:\n",
    "    ds = CSVDatasource(name='Pima Indians Diabetes', path='gs://zenml_quickstart/diabetes.csv')\n",
    "except:\n",
    "    repo: Repository = Repository.get_instance()\n",
    "    ds = repo.get_datasource_by_name('Pima Indians Diabetes')\n",
    "training_pipeline.add_datasource(ds)"
   ]
  },
  {
   "cell_type": "markdown",
   "metadata": {},
   "source": [
    "#### Add a split step to partition data into train and eval"
   ]
  },
  {
   "cell_type": "code",
   "execution_count": 8,
   "metadata": {},
   "outputs": [],
   "source": [
    "training_pipeline.add_split(RandomSplit(split_map={'train': 0.7, 'eval': 0.2, 'test':0.1}))"
   ]
  },
  {
   "cell_type": "markdown",
   "metadata": {},
   "source": [
    "#### Add a preprocessing step to transform data to be ML-capable"
   ]
  },
  {
   "cell_type": "code",
   "execution_count": 9,
   "metadata": {},
   "outputs": [],
   "source": [
    "training_pipeline.add_preprocesser(\n",
    "    StandardPreprocesser(\n",
    "        features=['times_pregnant', 'pgc', 'dbp', 'tst', 'insulin', 'bmi',\n",
    "                  'pedigree', 'age'],\n",
    "        labels=['has_diabetes'],\n",
    "        overwrite={'has_diabetes': {\n",
    "            'transform': [{'method': 'no_transform', 'parameters': {}}]}}\n",
    "    ))"
   ]
  },
  {
   "cell_type": "markdown",
   "metadata": {},
   "source": [
    "#### Add a trainer which defines model and training"
   ]
  },
  {
   "cell_type": "code",
   "execution_count": 10,
   "metadata": {},
   "outputs": [],
   "source": [
    "training_pipeline.add_trainer(TFFeedForwardTrainer(\n",
    "    loss='binary_crossentropy',\n",
    "    last_activation='sigmoid',\n",
    "    output_units=1,\n",
    "    metrics=['accuracy'],\n",
    "    epochs=5))"
   ]
  },
  {
   "cell_type": "markdown",
   "metadata": {},
   "source": [
    "#### Add an evaluator to calculate slicing metrics"
   ]
  },
  {
   "cell_type": "code",
   "execution_count": 11,
   "metadata": {},
   "outputs": [],
   "source": [
    "training_pipeline.add_evaluator(\n",
    "    TFMAEvaluator(slices=[['has_diabetes']],\n",
    "                  metrics={transformed_label_name('has_diabetes'):\n",
    "                     ['binary_crossentropy', 'binary_accuracy']}))"
   ]
  },
  {
   "cell_type": "markdown",
   "metadata": {},
   "source": [
    "#### Run and evaluate"
   ]
  },
  {
   "cell_type": "code",
   "execution_count": 12,
   "metadata": {
    "scrolled": false
   },
   "outputs": [
    {
     "name": "stdout",
     "output_type": "stream",
     "text": [
      "2021-04-27 10:46:38,771 — zenml.pipelines.training_pipeline — INFO — Datasource Pima Indians Diabetes has no commits. Creating the first one..\n",
      "2021-04-27 10:46:38,774 — zenml.pipelines.base_pipeline — INFO — Pipeline 1619513198774 created.\n",
      "2021-04-27 10:46:38,821 — zenml.backends.orchestrator.base.zenml_local_orchestrator — INFO — Component DataGen is running.\n",
      "2021-04-27 10:46:39,401 — zenml.datasources.csv_datasource — INFO — Matched 1: ['gs://zenml_quickstart/diabetes.csv']\n",
      "2021-04-27 10:46:39,406 — zenml.datasources.csv_datasource — INFO — Using header from file: gs://zenml_quickstart/diabetes.csv.\n",
      "2021-04-27 10:46:39,797 — zenml.datasources.csv_datasource — INFO — Header: ['times_pregnant', 'pgc', 'dbp', 'tst', 'insulin', 'bmi', 'pedigree', 'age', 'has_diabetes'].\n"
     ]
    },
    {
     "name": "stderr",
     "output_type": "stream",
     "text": [
      "2021-04-27 10:46:42,833 — apache_beam.internal.gcp.auth — WARNING — Unable to find default credentials to use: The Application Default Credentials are not available. They are available if running in Google Compute Engine. Otherwise, the environment variable GOOGLE_APPLICATION_CREDENTIALS must be defined pointing to a file defining the credentials. See https://developers.google.com/accounts/docs/application-default-credentials for more information.\n",
      "Connecting anonymously.\n",
      "2021-04-27 10:46:43,277 — apache_beam.runners.interactive.interactive_environment — WARNING — Dependencies required for Interactive Beam PCollection visualization are not available, please use: `pip install apache-beam[interactive]` to install necessary dependencies to enable all data visualization features.\n"
     ]
    },
    {
     "data": {
      "application/javascript": [
       "\n",
       "        if (typeof window.interactive_beam_jquery == 'undefined') {\n",
       "          var jqueryScript = document.createElement('script');\n",
       "          jqueryScript.src = 'https://code.jquery.com/jquery-3.4.1.slim.min.js';\n",
       "          jqueryScript.type = 'text/javascript';\n",
       "          jqueryScript.onload = function() {\n",
       "            var datatableScript = document.createElement('script');\n",
       "            datatableScript.src = 'https://cdn.datatables.net/1.10.20/js/jquery.dataTables.min.js';\n",
       "            datatableScript.type = 'text/javascript';\n",
       "            datatableScript.onload = function() {\n",
       "              window.interactive_beam_jquery = jQuery.noConflict(true);\n",
       "              window.interactive_beam_jquery(document).ready(function($){\n",
       "                \n",
       "              });\n",
       "            }\n",
       "            document.head.appendChild(datatableScript);\n",
       "          };\n",
       "          document.head.appendChild(jqueryScript);\n",
       "        } else {\n",
       "          window.interactive_beam_jquery(document).ready(function($){\n",
       "            \n",
       "          });\n",
       "        }"
      ]
     },
     "metadata": {},
     "output_type": "display_data"
    },
    {
     "name": "stderr",
     "output_type": "stream",
     "text": [
      "2021-04-27 10:46:45,237 — apache_beam.io.tfrecordio — WARNING — Couldn't find python-snappy so the implementation of _TFRecordUtil._masked_crc32c is not as fast as it could be.\n"
     ]
    },
    {
     "name": "stdout",
     "output_type": "stream",
     "text": [
      "2021-04-27 10:46:45,473 — zenml.backends.orchestrator.base.zenml_local_orchestrator — INFO — Component DataGen is finished.\n",
      "2021-04-27 10:46:45,481 — zenml.backends.orchestrator.base.zenml_local_orchestrator — INFO — Component DataStatistics is running.\n",
      "2021-04-27 10:46:46,799 — zenml.backends.orchestrator.base.zenml_local_orchestrator — INFO — Component DataStatistics is finished.\n",
      "2021-04-27 10:46:46,802 — zenml.backends.orchestrator.base.zenml_local_orchestrator — INFO — Component DataSchema is running.\n"
     ]
    },
    {
     "name": "stderr",
     "output_type": "stream",
     "text": [
      "2021-04-27 10:46:46,843 — tensorflow — WARNING — From /home/hamza/.virtualenvs/zenml_main/lib/python3.6/site-packages/tensorflow_data_validation/utils/stats_util.py:247: tf_record_iterator (from tensorflow.python.lib.io.tf_record) is deprecated and will be removed in a future version.\n",
      "Instructions for updating:\n",
      "Use eager execution and: \n",
      "`tf.data.TFRecordDataset(path)`\n"
     ]
    },
    {
     "name": "stdout",
     "output_type": "stream",
     "text": [
      "2021-04-27 10:46:46,857 — zenml.backends.orchestrator.base.zenml_local_orchestrator — INFO — Component DataSchema is finished.\n",
      "2021-04-27 10:46:46,992 — zenml.backends.orchestrator.base.zenml_local_orchestrator — INFO — Component ImporterNode.DataGen is running.\n",
      "2021-04-27 10:46:47,040 — zenml.backends.orchestrator.base.zenml_local_orchestrator — INFO — Component ImporterNode.DataGen is finished.\n",
      "2021-04-27 10:46:47,042 — zenml.backends.orchestrator.base.zenml_local_orchestrator — INFO — Component ImporterNode.DataSchema is running.\n",
      "2021-04-27 10:46:47,073 — zenml.backends.orchestrator.base.zenml_local_orchestrator — INFO — Component ImporterNode.DataSchema is finished.\n",
      "2021-04-27 10:46:47,075 — zenml.backends.orchestrator.base.zenml_local_orchestrator — INFO — Component ImporterNode.DataStatistics is running.\n",
      "2021-04-27 10:46:47,100 — zenml.backends.orchestrator.base.zenml_local_orchestrator — INFO — Component ImporterNode.DataStatistics is finished.\n",
      "2021-04-27 10:46:47,101 — zenml.backends.orchestrator.base.zenml_local_orchestrator — INFO — Component SplitGen is running.\n",
      "2021-04-27 10:46:48,365 — zenml.backends.orchestrator.base.zenml_local_orchestrator — INFO — Component SplitGen is finished.\n",
      "2021-04-27 10:46:48,367 — zenml.backends.orchestrator.base.zenml_local_orchestrator — INFO — Component SplitStatistics is running.\n",
      "2021-04-27 10:46:51,516 — zenml.backends.orchestrator.base.zenml_local_orchestrator — INFO — Component SplitStatistics is finished.\n",
      "2021-04-27 10:46:51,518 — zenml.backends.orchestrator.base.zenml_local_orchestrator — INFO — Component SplitSchema is running.\n",
      "2021-04-27 10:46:51,566 — zenml.backends.orchestrator.base.zenml_local_orchestrator — INFO — Component SplitSchema is finished.\n",
      "2021-04-27 10:46:51,568 — zenml.backends.orchestrator.base.zenml_local_orchestrator — INFO — Component Transform is running.\n"
     ]
    },
    {
     "name": "stderr",
     "output_type": "stream",
     "text": [
      "2021-04-27 10:46:51,618 — tensorflow — WARNING — From /home/hamza/.virtualenvs/zenml_main/lib/python3.6/site-packages/tfx/components/transform/executor.py:541: Schema (from tensorflow_transform.tf_metadata.dataset_schema) is deprecated and will be removed in a future version.\n",
      "Instructions for updating:\n",
      "Schema is a deprecated, use schema_utils.schema_from_feature_spec to create a `Schema`\n",
      "2021-04-27 10:46:51,872 — tensorflow — WARNING — From /home/hamza/.virtualenvs/zenml_main/lib/python3.6/site-packages/tensorflow_transform/tf_utils.py:261: Tensor.experimental_ref (from tensorflow.python.framework.ops) is deprecated and will be removed in a future version.\n",
      "Instructions for updating:\n",
      "Use ref() instead.\n",
      "2021-04-27 10:46:52,444 — tensorflow — WARNING — TFT beam APIs accept both the TFXIO format and the instance dict format now. There is no need to set use_tfxio any more and it will be removed soon.\n",
      "2021-04-27 10:46:52,470 — root — WARNING — This output type hint will be ignored and not used for type-checking purposes. Typically, output type hints for a PTransform are single (or nested) types wrapped by a PCollection, PDone, or None. Got: Tuple[Dict[str, Union[NoneType, _Dataset]], Union[Dict[str, Dict[str, PCollection]], NoneType]] instead.\n",
      "2021-04-27 10:46:52,964 — root — WARNING — This output type hint will be ignored and not used for type-checking purposes. Typically, output type hints for a PTransform are single (or nested) types wrapped by a PCollection, PDone, or None. Got: Tuple[Dict[str, Union[NoneType, _Dataset]], Union[Dict[str, Dict[str, PCollection]], NoneType]] instead.\n",
      "2021-04-27 10:46:53,015 — tensorflow — WARNING — Tensorflow version (2.3.2) found. Note that Tensorflow Transform support for TF 2.0 is currently in beta, and features such as tf.function may not work as intended. \n",
      "2021-04-27 10:46:53,385 — tensorflow — WARNING — From /home/hamza/.virtualenvs/zenml_main/lib/python3.6/site-packages/tensorflow/python/saved_model/signature_def_utils_impl.py:201: build_tensor_info (from tensorflow.python.saved_model.utils_impl) is deprecated and will be removed in a future version.\n",
      "Instructions for updating:\n",
      "This function will only be available through the v1 compatibility library as tf.compat.v1.saved_model.utils.build_tensor_info or tf.compat.v1.saved_model.build_tensor_info.\n",
      "2021-04-27 10:46:53,411 — tensorflow — WARNING — Issue encountered when serializing tft_analyzer_use.\n",
      "Type is unsupported, or the types of the items don't match field type in CollectionDef. Note this is a warning and probably safe to ignore.\n",
      "'Counter' object has no attribute 'name'\n",
      "2021-04-27 10:46:53,411 — tensorflow — WARNING — Issue encountered when serializing tft_mapper_use.\n",
      "Type is unsupported, or the types of the items don't match field type in CollectionDef. Note this is a warning and probably safe to ignore.\n",
      "'Counter' object has no attribute 'name'\n",
      "2021-04-27 10:46:54,067 — tensorflow — WARNING — Issue encountered when serializing tft_analyzer_use.\n",
      "Type is unsupported, or the types of the items don't match field type in CollectionDef. Note this is a warning and probably safe to ignore.\n",
      "'Counter' object has no attribute 'name'\n",
      "2021-04-27 10:46:54,068 — tensorflow — WARNING — Issue encountered when serializing tft_mapper_use.\n",
      "Type is unsupported, or the types of the items don't match field type in CollectionDef. Note this is a warning and probably safe to ignore.\n",
      "'Counter' object has no attribute 'name'\n",
      "2021-04-27 10:46:54,671 — tensorflow — WARNING — Issue encountered when serializing tft_analyzer_use.\n",
      "Type is unsupported, or the types of the items don't match field type in CollectionDef. Note this is a warning and probably safe to ignore.\n",
      "'Counter' object has no attribute 'name'\n",
      "2021-04-27 10:46:54,671 — tensorflow — WARNING — Issue encountered when serializing tft_mapper_use.\n",
      "Type is unsupported, or the types of the items don't match field type in CollectionDef. Note this is a warning and probably safe to ignore.\n",
      "'Counter' object has no attribute 'name'\n",
      "2021-04-27 10:46:55,636 — tensorflow — WARNING — Tensorflow version (2.3.2) found. Note that Tensorflow Transform support for TF 2.0 is currently in beta, and features such as tf.function may not work as intended. \n",
      "2021-04-27 10:46:55,674 — apache_beam.typehints.typehints — WARNING — Ignoring send_type hint: <class 'NoneType'>\n",
      "2021-04-27 10:46:55,674 — apache_beam.typehints.typehints — WARNING — Ignoring return_type hint: <class 'NoneType'>\n",
      "2021-04-27 10:46:55,675 — apache_beam.typehints.typehints — WARNING — Ignoring send_type hint: <class 'NoneType'>\n",
      "2021-04-27 10:46:55,676 — apache_beam.typehints.typehints — WARNING — Ignoring return_type hint: <class 'NoneType'>\n",
      "2021-04-27 10:46:55,678 — apache_beam.typehints.typehints — WARNING — Ignoring send_type hint: <class 'NoneType'>\n",
      "2021-04-27 10:46:55,678 — apache_beam.typehints.typehints — WARNING — Ignoring return_type hint: <class 'NoneType'>\n",
      "2021-04-27 10:46:55,720 — tensorflow — WARNING — Tensorflow version (2.3.2) found. Note that Tensorflow Transform support for TF 2.0 is currently in beta, and features such as tf.function may not work as intended. \n",
      "2021-04-27 10:46:55,753 — apache_beam.typehints.typehints — WARNING — Ignoring send_type hint: <class 'NoneType'>\n",
      "2021-04-27 10:46:55,754 — apache_beam.typehints.typehints — WARNING — Ignoring return_type hint: <class 'NoneType'>\n",
      "2021-04-27 10:46:55,754 — apache_beam.typehints.typehints — WARNING — Ignoring send_type hint: <class 'NoneType'>\n",
      "2021-04-27 10:46:55,755 — apache_beam.typehints.typehints — WARNING — Ignoring return_type hint: <class 'NoneType'>\n",
      "2021-04-27 10:46:55,757 — apache_beam.typehints.typehints — WARNING — Ignoring send_type hint: <class 'NoneType'>\n",
      "2021-04-27 10:46:55,757 — apache_beam.typehints.typehints — WARNING — Ignoring return_type hint: <class 'NoneType'>\n",
      "2021-04-27 10:46:55,825 — tensorflow — WARNING — Tensorflow version (2.3.2) found. Note that Tensorflow Transform support for TF 2.0 is currently in beta, and features such as tf.function may not work as intended. \n",
      "2021-04-27 10:46:55,882 — apache_beam.typehints.typehints — WARNING — Ignoring send_type hint: <class 'NoneType'>\n",
      "2021-04-27 10:46:55,883 — apache_beam.typehints.typehints — WARNING — Ignoring return_type hint: <class 'NoneType'>\n",
      "2021-04-27 10:46:55,885 — apache_beam.typehints.typehints — WARNING — Ignoring send_type hint: <class 'NoneType'>\n",
      "2021-04-27 10:46:55,886 — apache_beam.typehints.typehints — WARNING — Ignoring return_type hint: <class 'NoneType'>\n",
      "2021-04-27 10:46:55,888 — apache_beam.typehints.typehints — WARNING — Ignoring send_type hint: <class 'NoneType'>\n",
      "2021-04-27 10:46:55,889 — apache_beam.typehints.typehints — WARNING — Ignoring return_type hint: <class 'NoneType'>\n"
     ]
    },
    {
     "name": "stdout",
     "output_type": "stream",
     "text": [
      "2021-04-27 10:47:05,610 — zenml.backends.orchestrator.base.zenml_local_orchestrator — INFO — Component Transform is finished.\n",
      "2021-04-27 10:47:05,611 — zenml.backends.orchestrator.base.zenml_local_orchestrator — INFO — Component Trainer is running.\n",
      "Model: \"functional_1\"\n",
      "__________________________________________________________________________________________________\n",
      "Layer (type)                    Output Shape         Param #     Connected to                     \n",
      "==================================================================================================\n",
      "age_xf (InputLayer)             [(None, 1)]          0                                            \n",
      "__________________________________________________________________________________________________\n",
      "bmi_xf (InputLayer)             [(None, 1)]          0                                            \n",
      "__________________________________________________________________________________________________\n",
      "dbp_xf (InputLayer)             [(None, 1)]          0                                            \n",
      "__________________________________________________________________________________________________\n",
      "insulin_xf (InputLayer)         [(None, 1)]          0                                            \n",
      "__________________________________________________________________________________________________\n",
      "pedigree_xf (InputLayer)        [(None, 1)]          0                                            \n",
      "__________________________________________________________________________________________________\n",
      "pgc_xf (InputLayer)             [(None, 1)]          0                                            \n",
      "__________________________________________________________________________________________________\n",
      "times_pregnant_xf (InputLayer)  [(None, 1)]          0                                            \n",
      "__________________________________________________________________________________________________\n",
      "tst_xf (InputLayer)             [(None, 1)]          0                                            \n",
      "__________________________________________________________________________________________________\n",
      "concatenate (Concatenate)       (None, 8)            0           age_xf[0][0]                     \n",
      "                                                                 bmi_xf[0][0]                     \n",
      "                                                                 dbp_xf[0][0]                     \n",
      "                                                                 insulin_xf[0][0]                 \n",
      "                                                                 pedigree_xf[0][0]                \n",
      "                                                                 pgc_xf[0][0]                     \n",
      "                                                                 times_pregnant_xf[0][0]          \n",
      "                                                                 tst_xf[0][0]                     \n",
      "__________________________________________________________________________________________________\n",
      "dense (Dense)                   (None, 10)           90          concatenate[0][0]                \n",
      "__________________________________________________________________________________________________\n",
      "dropout (Dropout)               (None, 10)           0           dense[0][0]                      \n",
      "__________________________________________________________________________________________________\n",
      "has_diabetes_xl (Dense)         (None, 1)            11          dropout[0][0]                    \n",
      "==================================================================================================\n",
      "Total params: 101\n",
      "Trainable params: 101\n",
      "Non-trainable params: 0\n",
      "__________________________________________________________________________________________________\n",
      "Epoch 1/5\n"
     ]
    },
    {
     "name": "stderr",
     "output_type": "stream",
     "text": [
      "/home/hamza/.virtualenvs/zenml_main/lib/python3.6/site-packages/tensorflow/python/keras/engine/functional.py:543: UserWarning: Input dict contained keys ['age', 'bmi', 'dbp', 'has_diabetes', 'insulin', 'pedigree', 'pgc', 'times_pregnant', 'tst'] which did not match any model input. They will be ignored by the model.\n",
      "  [n for n in tensors.keys() if n not in ref_input_names])\n"
     ]
    },
    {
     "name": "stdout",
     "output_type": "stream",
     "text": [
      "      1/Unknown - 0s 137us/step - loss: 0.5849 - accuracy: 0.7500"
     ]
    },
    {
     "name": "stderr",
     "output_type": "stream",
     "text": [
      "2021-04-27 10:47:06,569 — tensorflow — WARNING — From /home/hamza/.virtualenvs/zenml_main/lib/python3.6/site-packages/tensorflow/python/ops/summary_ops_v2.py:1277: stop (from tensorflow.python.eager.profiler) is deprecated and will be removed after 2020-07-01.\n",
      "Instructions for updating:\n",
      "use `tf.profiler.experimental.stop` instead.\n",
      "2021-04-27 10:47:06,583 — tensorflow — WARNING — Callbacks method `on_train_batch_end` is slow compared to the batch time (batch time: 0.0018s vs `on_train_batch_end` time: 0.0145s). Check your callbacks.\n"
     ]
    },
    {
     "name": "stdout",
     "output_type": "stream",
     "text": [
      "64/64 [==============================]0.6183 - accuracy: 0.6481  - 0s 2ms/step - loss: 0.6151 - accuracy: 0.676 - 0s 5ms/step - loss: 0.6124 - accuracy: 0.6797 - val_loss: 0.6636 - val_accuracy: 0.6726\n",
      "Epoch 2/5\n",
      "64/64 [==============================] - ETA: 0s - loss: 0.4887 - accuracy: 0.62 - ETA: 0s - loss: 0.5813 - accuracy: 0.71 - 0s 2ms/step - loss: 0.5849 - accuracy: 0.7090 - val_loss: 0.6420 - val_accuracy: 0.7083\n",
      "Epoch 3/5\n",
      "64/64 [==============================] - ETA: 0s - loss: 0.4069 - accuracy: 1.00 - ETA: 0s - loss: 0.5569 - accuracy: 0.73 - 0s 3ms/step - loss: 0.5682 - accuracy: 0.7207 - val_loss: 0.6189 - val_accuracy: 0.7202\n",
      "Epoch 4/5\n",
      "64/64 [==============================] - ETA: 0s - loss: 0.5433 - accuracy: 0.62 - ETA: 0s - loss: 0.5259 - accuracy: 0.76 - 0s 3ms/step - loss: 0.5430 - accuracy: 0.7461 - val_loss: 0.5854 - val_accuracy: 0.7202\n",
      "Epoch 5/5\n",
      "64/64 [==============================] - ETA: 0s - loss: 0.6116 - accuracy: 0.75 - ETA: 0s - loss: 0.5374 - accuracy: 0.74 - 0s 3ms/step - loss: 0.5268 - accuracy: 0.7520 - val_loss: 0.5958 - val_accuracy: 0.7024\n"
     ]
    },
    {
     "name": "stderr",
     "output_type": "stream",
     "text": [
      "/home/hamza/.virtualenvs/zenml_main/lib/python3.6/site-packages/tensorflow/python/keras/engine/functional.py:543: UserWarning: Input dict contained keys ['insulin', 'pedigree', 'has_diabetes', 'times_pregnant', 'pgc', 'age', 'dbp', 'has_diabetes_xl', 'bmi', 'tst'] which did not match any model input. They will be ignored by the model.\n",
      "  [n for n in tensors.keys() if n not in ref_input_names])\n",
      "/home/hamza/.virtualenvs/zenml_main/lib/python3.6/site-packages/tensorflow/python/keras/engine/functional.py:543: UserWarning: Input dict contained keys ['age', 'bmi', 'dbp', 'has_diabetes', 'has_diabetes_xl', 'insulin', 'pedigree', 'pgc', 'times_pregnant', 'tst'] which did not match any model input. They will be ignored by the model.\n",
      "  [n for n in tensors.keys() if n not in ref_input_names])\n",
      "2021-04-27 10:47:11,246 — tensorflow — WARNING — From /home/hamza/.virtualenvs/zenml_main/lib/python3.6/site-packages/tensorflow/python/training/tracking/tracking.py:111: Model.state_updates (from tensorflow.python.keras.engine.training) is deprecated and will be removed in a future version.\n",
      "Instructions for updating:\n",
      "This property should not be used in TensorFlow 2.0, as updates are applied automatically.\n",
      "2021-04-27 10:47:11,265 — tensorflow — WARNING — From /home/hamza/.virtualenvs/zenml_main/lib/python3.6/site-packages/tensorflow/python/training/tracking/tracking.py:111: Layer.updates (from tensorflow.python.keras.engine.base_layer) is deprecated and will be removed in a future version.\n",
      "Instructions for updating:\n",
      "This property should not be used in TensorFlow 2.0, as updates are applied automatically.\n"
     ]
    },
    {
     "name": "stdout",
     "output_type": "stream",
     "text": [
      "2021-04-27 10:47:11,798 — zenml.backends.orchestrator.base.zenml_local_orchestrator — INFO — Component Trainer is finished.\n",
      "2021-04-27 10:47:11,802 — zenml.backends.orchestrator.base.zenml_local_orchestrator — INFO — Component Evaluator is running.\n",
      "2021-04-27 10:47:16,256 — zenml.backends.orchestrator.base.zenml_local_orchestrator — INFO — Component Evaluator is finished.\n"
     ]
    }
   ],
   "source": [
    "training_pipeline.run()"
   ]
  },
  {
   "cell_type": "code",
   "execution_count": 13,
   "metadata": {},
   "outputs": [
    {
     "name": "stdout",
     "output_type": "stream",
     "text": [
      "2021-04-27 10:48:50,627 — zenml.pipelines.training_pipeline — INFO — Viewing statistics. If magic=False then a new window will open up with a notebook for evaluation. If magic=True, then an attempt will be made to append to the current notebook.\n"
     ]
    },
    {
     "data": {
      "text/html": [
       "<!--\n",
       "  ~ Copyright (c) maiot GmbH 2020. All Rights Reserved.\n",
       "  ~\n",
       "  ~ Licensed under the Apache License, Version 2.0 (the \"License\");\n",
       "  ~ you may not use this file except in compliance with the License.\n",
       "  ~ You may obtain a copy of the License at:\n",
       "  ~\n",
       "  ~      http://www.apache.org/licenses/LICENSE-2.0\n",
       "  ~\n",
       "  ~ Unless required by applicable law or agreed to in writing, software\n",
       "  ~ distributed under the License is distributed on an \"AS IS\" BASIS,\n",
       "  ~ WITHOUT WARRANTIES OR CONDITIONS OF ANY KIND, either express\n",
       "  ~ or implied. See the License for the specific language governing\n",
       "  ~ permissions and limitations under the License.\n",
       "  -->\n",
       "\n",
       "<iframe id='facets-iframe' width=\"100%\" height=\"500px\"></iframe>\n",
       "<script>\n",
       "  facets_iframe = document.getElementById('facets-iframe');\n",
       "  facets_html = '<script src=\"https://cdnjs.cloudflare.com/ajax/libs/webcomponentsjs/1.3.3/webcomponents-lite.js\"><\\/script><link rel=\"import\" href=\"https://raw.githubusercontent.com/PAIR-code/facets/master/facets-dist/facets-jupyter.html\"><facets-overview proto-input=\"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\"></facets-overview>';\n",
       "  facets_iframe.srcdoc = facets_html;\n",
       "  facets_iframe.id = \"\";\n",
       "  setTimeout(() => {\n",
       "    facets_iframe.setAttribute('height', facets_iframe.contentWindow.document.body.offsetHeight + 'px')\n",
       "  }, 1500)\n",
       "</script>"
      ],
      "text/plain": [
       "<IPython.core.display.HTML object>"
      ]
     },
     "metadata": {},
     "output_type": "display_data"
    }
   ],
   "source": [
    "training_pipeline.view_statistics(magic=True)"
   ]
  },
  {
   "cell_type": "code",
   "execution_count": null,
   "metadata": {
    "scrolled": true
   },
   "outputs": [],
   "source": [
    "training_pipeline.evaluate(magic=True)"
   ]
  },
  {
   "cell_type": "markdown",
   "metadata": {},
   "source": [
    "#### Inspect datasource"
   ]
  },
  {
   "cell_type": "code",
   "execution_count": 14,
   "metadata": {},
   "outputs": [
    {
     "name": "stdout",
     "output_type": "stream",
     "text": [
      "args:\n",
      "  path: gs://zenml_quickstart/diabetes.csv\n",
      "  schema: null\n",
      "id: 9a9e2f4e-8b97-4fe0-bff4-3fc92b029ebb\n",
      "name: Pima Indians Diabetes\n",
      "source: zenml.datasources.csv_datasource.CSVDatasource@zenml_0.3.7\n",
      "\n"
     ]
    }
   ],
   "source": [
    "datasources = repo.get_datasources()\n",
    "datasource = datasources[0]\n",
    "print(datasource)"
   ]
  },
  {
   "cell_type": "code",
   "execution_count": 15,
   "metadata": {},
   "outputs": [
    {
     "name": "stdout",
     "output_type": "stream",
     "text": [
      "2021-04-27 10:48:57,620 — zenml.utils.post_training.post_training_utils — INFO — Converting dataset to Pandas DataFrame..\n"
     ]
    },
    {
     "data": {
      "text/html": [
       "<div>\n",
       "<style scoped>\n",
       "    .dataframe tbody tr th:only-of-type {\n",
       "        vertical-align: middle;\n",
       "    }\n",
       "\n",
       "    .dataframe tbody tr th {\n",
       "        vertical-align: top;\n",
       "    }\n",
       "\n",
       "    .dataframe thead th {\n",
       "        text-align: right;\n",
       "    }\n",
       "</style>\n",
       "<table border=\"1\" class=\"dataframe\">\n",
       "  <thead>\n",
       "    <tr style=\"text-align: right;\">\n",
       "      <th></th>\n",
       "      <th>age</th>\n",
       "      <th>bmi</th>\n",
       "      <th>dbp</th>\n",
       "      <th>has_diabetes</th>\n",
       "      <th>insulin</th>\n",
       "      <th>pedigree</th>\n",
       "      <th>pgc</th>\n",
       "      <th>times_pregnant</th>\n",
       "      <th>tst</th>\n",
       "    </tr>\n",
       "  </thead>\n",
       "  <tbody>\n",
       "    <tr>\n",
       "      <th>0</th>\n",
       "      <td>50</td>\n",
       "      <td>33.599998</td>\n",
       "      <td>72</td>\n",
       "      <td>1</td>\n",
       "      <td>0</td>\n",
       "      <td>0.627</td>\n",
       "      <td>148</td>\n",
       "      <td>6</td>\n",
       "      <td>35</td>\n",
       "    </tr>\n",
       "    <tr>\n",
       "      <th>1</th>\n",
       "      <td>31</td>\n",
       "      <td>26.600000</td>\n",
       "      <td>66</td>\n",
       "      <td>0</td>\n",
       "      <td>0</td>\n",
       "      <td>0.351</td>\n",
       "      <td>85</td>\n",
       "      <td>1</td>\n",
       "      <td>29</td>\n",
       "    </tr>\n",
       "    <tr>\n",
       "      <th>2</th>\n",
       "      <td>32</td>\n",
       "      <td>23.299999</td>\n",
       "      <td>64</td>\n",
       "      <td>1</td>\n",
       "      <td>0</td>\n",
       "      <td>0.672</td>\n",
       "      <td>183</td>\n",
       "      <td>8</td>\n",
       "      <td>0</td>\n",
       "    </tr>\n",
       "    <tr>\n",
       "      <th>3</th>\n",
       "      <td>21</td>\n",
       "      <td>28.100000</td>\n",
       "      <td>66</td>\n",
       "      <td>0</td>\n",
       "      <td>94</td>\n",
       "      <td>0.167</td>\n",
       "      <td>89</td>\n",
       "      <td>1</td>\n",
       "      <td>23</td>\n",
       "    </tr>\n",
       "    <tr>\n",
       "      <th>4</th>\n",
       "      <td>33</td>\n",
       "      <td>43.099998</td>\n",
       "      <td>40</td>\n",
       "      <td>1</td>\n",
       "      <td>168</td>\n",
       "      <td>2.288</td>\n",
       "      <td>137</td>\n",
       "      <td>0</td>\n",
       "      <td>35</td>\n",
       "    </tr>\n",
       "  </tbody>\n",
       "</table>\n",
       "</div>"
      ],
      "text/plain": [
       "   age        bmi  dbp  has_diabetes  insulin  pedigree  pgc  times_pregnant  \\\n",
       "0   50  33.599998   72             1        0     0.627  148               6   \n",
       "1   31  26.600000   66             0        0     0.351   85               1   \n",
       "2   32  23.299999   64             1        0     0.672  183               8   \n",
       "3   21  28.100000   66             0       94     0.167   89               1   \n",
       "4   33  43.099998   40             1      168     2.288  137               0   \n",
       "\n",
       "   tst  \n",
       "0   35  \n",
       "1   29  \n",
       "2    0  \n",
       "3   23  \n",
       "4   35  "
      ]
     },
     "execution_count": 15,
     "metadata": {},
     "output_type": "execute_result"
    }
   ],
   "source": [
    "df = datasource.sample_data()\n",
    "df.head()"
   ]
  },
  {
   "cell_type": "code",
   "execution_count": 16,
   "metadata": {},
   "outputs": [
    {
     "data": {
      "text/plain": [
       "(768, 9)"
      ]
     },
     "execution_count": 16,
     "metadata": {},
     "output_type": "execute_result"
    }
   ],
   "source": [
    "df.shape"
   ]
  },
  {
   "cell_type": "code",
   "execution_count": 17,
   "metadata": {},
   "outputs": [
    {
     "data": {
      "text/plain": [
       "Index(['age', 'bmi', 'dbp', 'has_diabetes', 'insulin', 'pedigree', 'pgc',\n",
       "       'times_pregnant', 'tst'],\n",
       "      dtype='object')"
      ]
     },
     "execution_count": 17,
     "metadata": {},
     "output_type": "execute_result"
    }
   ],
   "source": [
    "df.columns"
   ]
  },
  {
   "cell_type": "markdown",
   "metadata": {},
   "source": [
    "## Skip preprocessing with your next (warm-starting) pipeline"
   ]
  },
  {
   "cell_type": "markdown",
   "metadata": {},
   "source": [
    "#### Clone first experiment and only change one hyper-parameter"
   ]
  },
  {
   "cell_type": "code",
   "execution_count": 18,
   "metadata": {},
   "outputs": [
    {
     "name": "stdout",
     "output_type": "stream",
     "text": [
      "2021-04-27 10:48:59,607 — zenml.pipelines.base_pipeline — INFO — Pipeline Experiment 2 created.\n"
     ]
    }
   ],
   "source": [
    "training_pipeline_2 = training_pipeline.copy('Experiment 2')\n",
    "training_pipeline_2.add_trainer(TFFeedForwardTrainer(\n",
    "    loss='binary_crossentropy',\n",
    "    last_activation='sigmoid',\n",
    "    output_units=1,\n",
    "    metrics=['accuracy'],\n",
    "    epochs=20))"
   ]
  },
  {
   "cell_type": "code",
   "execution_count": 19,
   "metadata": {
    "scrolled": false
   },
   "outputs": [
    {
     "name": "stdout",
     "output_type": "stream",
     "text": [
      "2021-04-27 10:49:00,340 — zenml.backends.orchestrator.base.zenml_local_orchestrator — INFO — Component ImporterNode.DataGen is running.\n",
      "2021-04-27 10:49:00,375 — zenml.backends.orchestrator.base.zenml_local_orchestrator — INFO — Component ImporterNode.DataGen is finished.\n",
      "2021-04-27 10:49:00,378 — zenml.backends.orchestrator.base.zenml_local_orchestrator — INFO — Component ImporterNode.DataSchema is running.\n",
      "2021-04-27 10:49:00,408 — zenml.backends.orchestrator.base.zenml_local_orchestrator — INFO — Component ImporterNode.DataSchema is finished.\n",
      "2021-04-27 10:49:00,410 — zenml.backends.orchestrator.base.zenml_local_orchestrator — INFO — Component ImporterNode.DataStatistics is running.\n",
      "2021-04-27 10:49:00,435 — zenml.backends.orchestrator.base.zenml_local_orchestrator — INFO — Component ImporterNode.DataStatistics is finished.\n",
      "2021-04-27 10:49:00,438 — zenml.backends.orchestrator.base.zenml_local_orchestrator — INFO — Component SplitGen is running.\n",
      "2021-04-27 10:49:00,473 — zenml.backends.orchestrator.base.zenml_local_orchestrator — INFO — Component SplitGen is finished.\n",
      "2021-04-27 10:49:00,476 — zenml.backends.orchestrator.base.zenml_local_orchestrator — INFO — Component SplitStatistics is running.\n",
      "2021-04-27 10:49:00,510 — zenml.backends.orchestrator.base.zenml_local_orchestrator — INFO — Component SplitStatistics is finished.\n",
      "2021-04-27 10:49:00,512 — zenml.backends.orchestrator.base.zenml_local_orchestrator — INFO — Component SplitSchema is running.\n",
      "2021-04-27 10:49:00,544 — zenml.backends.orchestrator.base.zenml_local_orchestrator — INFO — Component SplitSchema is finished.\n",
      "2021-04-27 10:49:00,546 — zenml.backends.orchestrator.base.zenml_local_orchestrator — INFO — Component Transform is running.\n",
      "2021-04-27 10:49:00,581 — zenml.backends.orchestrator.base.zenml_local_orchestrator — INFO — Component Transform is finished.\n",
      "2021-04-27 10:49:00,582 — zenml.backends.orchestrator.base.zenml_local_orchestrator — INFO — Component Trainer is running.\n",
      "Model: \"functional_3\"\n",
      "__________________________________________________________________________________________________\n",
      "Layer (type)                    Output Shape         Param #     Connected to                     \n",
      "==================================================================================================\n",
      "age_xf (InputLayer)             [(None, 1)]          0                                            \n",
      "__________________________________________________________________________________________________\n",
      "bmi_xf (InputLayer)             [(None, 1)]          0                                            \n",
      "__________________________________________________________________________________________________\n",
      "dbp_xf (InputLayer)             [(None, 1)]          0                                            \n",
      "__________________________________________________________________________________________________\n",
      "insulin_xf (InputLayer)         [(None, 1)]          0                                            \n",
      "__________________________________________________________________________________________________\n",
      "pedigree_xf (InputLayer)        [(None, 1)]          0                                            \n",
      "__________________________________________________________________________________________________\n",
      "pgc_xf (InputLayer)             [(None, 1)]          0                                            \n",
      "__________________________________________________________________________________________________\n",
      "times_pregnant_xf (InputLayer)  [(None, 1)]          0                                            \n",
      "__________________________________________________________________________________________________\n",
      "tst_xf (InputLayer)             [(None, 1)]          0                                            \n",
      "__________________________________________________________________________________________________\n",
      "concatenate_1 (Concatenate)     (None, 8)            0           age_xf[0][0]                     \n",
      "                                                                 bmi_xf[0][0]                     \n",
      "                                                                 dbp_xf[0][0]                     \n",
      "                                                                 insulin_xf[0][0]                 \n",
      "                                                                 pedigree_xf[0][0]                \n",
      "                                                                 pgc_xf[0][0]                     \n",
      "                                                                 times_pregnant_xf[0][0]          \n",
      "                                                                 tst_xf[0][0]                     \n",
      "__________________________________________________________________________________________________\n",
      "dense_1 (Dense)                 (None, 10)           90          concatenate_1[0][0]              \n",
      "__________________________________________________________________________________________________\n",
      "dropout_1 (Dropout)             (None, 10)           0           dense_1[0][0]                    \n",
      "__________________________________________________________________________________________________\n",
      "has_diabetes_xl (Dense)         (None, 1)            11          dropout_1[0][0]                  \n",
      "==================================================================================================\n",
      "Total params: 101\n",
      "Trainable params: 101\n",
      "Non-trainable params: 0\n",
      "__________________________________________________________________________________________________\n",
      "Epoch 1/20\n"
     ]
    },
    {
     "name": "stderr",
     "output_type": "stream",
     "text": [
      "/home/hamza/.virtualenvs/zenml_main/lib/python3.6/site-packages/tensorflow/python/keras/engine/functional.py:543: UserWarning: Input dict contained keys ['age', 'bmi', 'dbp', 'has_diabetes', 'insulin', 'pedigree', 'pgc', 'times_pregnant', 'tst'] which did not match any model input. They will be ignored by the model.\n",
      "  [n for n in tensors.keys() if n not in ref_input_names])\n"
     ]
    },
    {
     "name": "stdout",
     "output_type": "stream",
     "text": [
      "      1/Unknown - 0s 81us/step - loss: 0.6498 - accuracy: 0.6250"
     ]
    },
    {
     "name": "stderr",
     "output_type": "stream",
     "text": [
      "2021-04-27 10:49:01,153 — tensorflow — WARNING — Callbacks method `on_train_batch_end` is slow compared to the batch time (batch time: 0.0012s vs `on_train_batch_end` time: 0.0323s). Check your callbacks.\n"
     ]
    },
    {
     "name": "stdout",
     "output_type": "stream",
     "text": [
      "64/64 [==============================]0.7148 - accuracy: 0.5179 - 0s 2ms/step - loss: 0.7067 - accuracy: 0.569 - 0s 6ms/step - loss: 0.6941 - accuracy: 0.5957 - val_loss: 0.6455 - val_accuracy: 0.6369\n",
      "Epoch 2/20\n",
      "64/64 [==============================] - ETA: 0s - loss: 0.5189 - accuracy: 0.62 - ETA: 0s - loss: 0.6354 - accuracy: 0.62 - ETA: 0s - loss: 0.6263 - accuracy: 0.62 - 0s 3ms/step - loss: 0.6238 - accuracy: 0.6348 - val_loss: 0.5990 - val_accuracy: 0.6786\n",
      "Epoch 3/20\n",
      "64/64 [==============================] - ETA: 0s - loss: 0.5659 - accuracy: 0.75 - ETA: 0s - loss: 0.5910 - accuracy: 0.69 - 0s 2ms/step - loss: 0.5820 - accuracy: 0.6934 - val_loss: 0.5732 - val_accuracy: 0.7024\n",
      "Epoch 4/20\n",
      "64/64 [==============================] - ETA: 0s - loss: 0.6676 - accuracy: 0.37 - ETA: 0s - loss: 0.5665 - accuracy: 0.69 - 0s 2ms/step - loss: 0.5618 - accuracy: 0.6914 - val_loss: 0.5539 - val_accuracy: 0.7143\n",
      "Epoch 5/20\n",
      "64/64 [==============================] - ETA: 0s - loss: 0.7364 - accuracy: 0.62 - ETA: 0s - loss: 0.5859 - accuracy: 0.68 - 0s 3ms/step - loss: 0.5491 - accuracy: 0.7188 - val_loss: 0.5455 - val_accuracy: 0.7262\n",
      "Epoch 6/20\n",
      "64/64 [==============================] - ETA: 0s - loss: 0.8534 - accuracy: 0.50 - ETA: 0s - loss: 0.5008 - accuracy: 0.75 - 0s 2ms/step - loss: 0.5230 - accuracy: 0.7441 - val_loss: 0.5398 - val_accuracy: 0.7440\n",
      "Epoch 7/20\n",
      "64/64 [==============================] - ETA: 0s - loss: 0.4253 - accuracy: 0.75 - ETA: 0s - loss: 0.4941 - accuracy: 0.77 - 0s 2ms/step - loss: 0.4949 - accuracy: 0.7539 - val_loss: 0.5361 - val_accuracy: 0.7500\n",
      "Epoch 8/20\n",
      "64/64 [==============================] - ETA: 0s - loss: 0.1642 - accuracy: 1.00 - ETA: 0s - loss: 0.5184 - accuracy: 0.71 - 0s 2ms/step - loss: 0.5051 - accuracy: 0.7246 - val_loss: 0.5340 - val_accuracy: 0.7500\n",
      "Epoch 9/20\n",
      "64/64 [==============================] - ETA: 0s - loss: 0.3020 - accuracy: 0.87 - ETA: 0s - loss: 0.5142 - accuracy: 0.72 - 0s 2ms/step - loss: 0.5083 - accuracy: 0.7266 - val_loss: 0.5354 - val_accuracy: 0.7440\n",
      "Epoch 10/20\n",
      "64/64 [==============================] - ETA: 0s - loss: 0.4330 - accuracy: 0.62 - ETA: 0s - loss: 0.5011 - accuracy: 0.76 - 0s 3ms/step - loss: 0.5055 - accuracy: 0.7637 - val_loss: 0.5279 - val_accuracy: 0.7500\n",
      "Epoch 11/20\n",
      "64/64 [==============================] - ETA: 0s - loss: 0.5732 - accuracy: 0.75 - ETA: 0s - loss: 0.5169 - accuracy: 0.74 - 0s 2ms/step - loss: 0.4991 - accuracy: 0.7578 - val_loss: 0.5342 - val_accuracy: 0.7500\n",
      "Epoch 12/20\n",
      "64/64 [==============================] - ETA: 0s - loss: 0.6467 - accuracy: 0.62 - ETA: 0s - loss: 0.4939 - accuracy: 0.76 - 0s 2ms/step - loss: 0.4938 - accuracy: 0.7539 - val_loss: 0.5317 - val_accuracy: 0.7500\n",
      "Epoch 13/20\n",
      "64/64 [==============================] - ETA: 0s - loss: 0.6769 - accuracy: 0.62 - ETA: 0s - loss: 0.5046 - accuracy: 0.74 - 0s 2ms/step - loss: 0.4935 - accuracy: 0.7422 - val_loss: 0.5331 - val_accuracy: 0.7440\n",
      "Epoch 14/20\n",
      "64/64 [==============================] - ETA: 0s - loss: 0.4852 - accuracy: 0.75 - ETA: 0s - loss: 0.5201 - accuracy: 0.75 - 0s 2ms/step - loss: 0.5106 - accuracy: 0.7422 - val_loss: 0.5317 - val_accuracy: 0.7440\n",
      "Epoch 15/20\n",
      "64/64 [==============================] - ETA: 0s - loss: 0.5629 - accuracy: 0.62 - ETA: 0s - loss: 0.4945 - accuracy: 0.75 - 0s 2ms/step - loss: 0.4847 - accuracy: 0.7617 - val_loss: 0.5318 - val_accuracy: 0.7321\n",
      "Epoch 16/20\n",
      "64/64 [==============================] - ETA: 0s - loss: 0.5706 - accuracy: 0.62 - ETA: 0s - loss: 0.5068 - accuracy: 0.75 - 0s 3ms/step - loss: 0.4993 - accuracy: 0.7578 - val_loss: 0.5278 - val_accuracy: 0.7321\n",
      "Epoch 17/20\n",
      "64/64 [==============================] - ETA: 0s - loss: 0.3826 - accuracy: 0.75 - ETA: 0s - loss: 0.5036 - accuracy: 0.75 - 0s 2ms/step - loss: 0.4859 - accuracy: 0.7754 - val_loss: 0.5242 - val_accuracy: 0.7321\n",
      "Epoch 18/20\n",
      "64/64 [==============================] - ETA: 0s - loss: 0.4662 - accuracy: 0.62 - ETA: 0s - loss: 0.5037 - accuracy: 0.73 - 0s 2ms/step - loss: 0.4951 - accuracy: 0.7480 - val_loss: 0.5330 - val_accuracy: 0.7262\n",
      "Epoch 19/20\n",
      "64/64 [==============================] - ETA: 0s - loss: 0.1691 - accuracy: 1.00 - ETA: 0s - loss: 0.4941 - accuracy: 0.74 - 0s 2ms/step - loss: 0.4813 - accuracy: 0.7676 - val_loss: 0.5312 - val_accuracy: 0.7262\n",
      "Epoch 20/20\n",
      "64/64 [==============================] - ETA: 0s - loss: 0.3312 - accuracy: 0.87 - ETA: 0s - loss: 0.4717 - accuracy: 0.78 - 0s 3ms/step - loss: 0.4759 - accuracy: 0.7754 - val_loss: 0.5157 - val_accuracy: 0.7381\n"
     ]
    },
    {
     "name": "stderr",
     "output_type": "stream",
     "text": [
      "/home/hamza/.virtualenvs/zenml_main/lib/python3.6/site-packages/tensorflow/python/keras/engine/functional.py:543: UserWarning: Input dict contained keys ['tst', 'times_pregnant', 'pgc', 'age', 'bmi', 'dbp', 'pedigree', 'insulin', 'has_diabetes_xl', 'has_diabetes'] which did not match any model input. They will be ignored by the model.\n",
      "  [n for n in tensors.keys() if n not in ref_input_names])\n",
      "/home/hamza/.virtualenvs/zenml_main/lib/python3.6/site-packages/tensorflow/python/keras/engine/functional.py:543: UserWarning: Input dict contained keys ['age', 'bmi', 'dbp', 'has_diabetes', 'has_diabetes_xl', 'insulin', 'pedigree', 'pgc', 'times_pregnant', 'tst'] which did not match any model input. They will be ignored by the model.\n",
      "  [n for n in tensors.keys() if n not in ref_input_names])\n"
     ]
    },
    {
     "name": "stdout",
     "output_type": "stream",
     "text": [
      "2021-04-27 10:49:07,145 — zenml.backends.orchestrator.base.zenml_local_orchestrator — INFO — Component Trainer is finished.\n",
      "2021-04-27 10:49:07,149 — zenml.backends.orchestrator.base.zenml_local_orchestrator — INFO — Component Evaluator is running.\n"
     ]
    },
    {
     "name": "stderr",
     "output_type": "stream",
     "text": [
      "2021-04-27 10:49:09,322 — tensorflow — WARNING — 5 out of the last 5 calls to <function recreate_function.<locals>.restored_function_body at 0x7f63fc57b620> triggered tf.function retracing. Tracing is expensive and the excessive number of tracings could be due to (1) creating @tf.function repeatedly in a loop, (2) passing tensors with different shapes, (3) passing Python objects instead of tensors. For (1), please define your @tf.function outside of the loop. For (2), @tf.function has experimental_relax_shapes=True option that relaxes argument shapes that can avoid unnecessary retracing. For (3), please refer to https://www.tensorflow.org/tutorials/customization/performance#python_or_tensor_args and https://www.tensorflow.org/api_docs/python/tf/function for  more details.\n",
      "2021-04-27 10:49:10,021 — tensorflow — WARNING — 6 out of the last 6 calls to <function recreate_function.<locals>.restored_function_body at 0x7f6414547598> triggered tf.function retracing. Tracing is expensive and the excessive number of tracings could be due to (1) creating @tf.function repeatedly in a loop, (2) passing tensors with different shapes, (3) passing Python objects instead of tensors. For (1), please define your @tf.function outside of the loop. For (2), @tf.function has experimental_relax_shapes=True option that relaxes argument shapes that can avoid unnecessary retracing. For (3), please refer to https://www.tensorflow.org/tutorials/customization/performance#python_or_tensor_args and https://www.tensorflow.org/api_docs/python/tf/function for  more details.\n",
      "2021-04-27 10:49:10,069 — tensorflow — WARNING — 7 out of the last 7 calls to <function recreate_function.<locals>.restored_function_body at 0x7f64500a01e0> triggered tf.function retracing. Tracing is expensive and the excessive number of tracings could be due to (1) creating @tf.function repeatedly in a loop, (2) passing tensors with different shapes, (3) passing Python objects instead of tensors. For (1), please define your @tf.function outside of the loop. For (2), @tf.function has experimental_relax_shapes=True option that relaxes argument shapes that can avoid unnecessary retracing. For (3), please refer to https://www.tensorflow.org/tutorials/customization/performance#python_or_tensor_args and https://www.tensorflow.org/api_docs/python/tf/function for  more details.\n"
     ]
    },
    {
     "name": "stdout",
     "output_type": "stream",
     "text": [
      "2021-04-27 10:49:11,245 — zenml.backends.orchestrator.base.zenml_local_orchestrator — INFO — Component Evaluator is finished.\n"
     ]
    }
   ],
   "source": [
    "training_pipeline_2.run()"
   ]
  },
  {
   "cell_type": "code",
   "execution_count": 20,
   "metadata": {},
   "outputs": [
    {
     "name": "stdout",
     "output_type": "stream",
     "text": [
      "2021-04-27 10:49:11,279 — zenml.pipelines.training_pipeline — INFO — Evaluating pipeline. If magic=False then a new window will open up with a notebook for evaluation. If magic=True, then an attempt will be made to append to the current notebook.\n"
     ]
    }
   ],
   "source": [
    "training_pipeline_2.evaluate(magic=True)"
   ]
  },
  {
   "cell_type": "markdown",
   "metadata": {},
   "source": [
    "## Post-training"
   ]
  },
  {
   "cell_type": "markdown",
   "metadata": {},
   "source": [
    "#### Verify theres still only one datasource"
   ]
  },
  {
   "cell_type": "code",
   "execution_count": null,
   "metadata": {},
   "outputs": [],
   "source": [
    "datasources = repo.get_datasources()\n",
    "print(f\"We have {len(datasources)} datasources\")"
   ]
  },
  {
   "cell_type": "markdown",
   "metadata": {},
   "source": [
    "#### Compare pipelines"
   ]
  },
  {
   "cell_type": "code",
   "execution_count": null,
   "metadata": {},
   "outputs": [],
   "source": [
    "repo.compare_training_runs()"
   ]
  },
  {
   "cell_type": "markdown",
   "metadata": {},
   "source": [
    "# Easily train on the cloud"
   ]
  },
  {
   "cell_type": "code",
   "execution_count": 7,
   "metadata": {},
   "outputs": [
    {
     "name": "stdout",
     "output_type": "stream",
     "text": [
      "2021-04-27 10:58:22,184 — zenml.pipelines.base_pipeline — INFO — Pipeline Experiment 3 created.\n",
      "2021-04-27 10:58:22,194 — zenml.pipelines.base_pipeline — WARNING — Changing the metadata_store or artifact_store might cause your pipelines to be non-reproducible and non-comparable.\n",
      "2021-04-27 10:58:22,384 — zenml.backends.training.training_gcaip_backend — INFO — Launching GCAIP Trainer job train_1619513827\n",
      "2021-04-27 10:58:22,386 — zenml.backends.orchestrator.base.zenml_local_orchestrator — INFO — Component ImporterNode.DataGen is running.\n",
      "2021-04-27 10:58:22,440 — zenml.backends.orchestrator.base.zenml_local_orchestrator — INFO — Component ImporterNode.DataGen is finished.\n",
      "2021-04-27 10:58:22,443 — zenml.backends.orchestrator.base.zenml_local_orchestrator — INFO — Component ImporterNode.DataSchema is running.\n",
      "2021-04-27 10:58:22,474 — zenml.backends.orchestrator.base.zenml_local_orchestrator — INFO — Component ImporterNode.DataSchema is finished.\n",
      "2021-04-27 10:58:22,477 — zenml.backends.orchestrator.base.zenml_local_orchestrator — INFO — Component ImporterNode.DataStatistics is running.\n",
      "2021-04-27 10:58:22,505 — zenml.backends.orchestrator.base.zenml_local_orchestrator — INFO — Component ImporterNode.DataStatistics is finished.\n",
      "2021-04-27 10:58:22,507 — zenml.backends.orchestrator.base.zenml_local_orchestrator — INFO — Component SplitGen is running.\n"
     ]
    },
    {
     "name": "stderr",
     "output_type": "stream",
     "text": [
      "2021-04-27 10:58:26,304 — tensorflow — WARNING — From /home/hamza/.virtualenvs/zenml_main/lib/python3.6/site-packages/tensorflow_data_validation/utils/stats_util.py:247: tf_record_iterator (from tensorflow.python.lib.io.tf_record) is deprecated and will be removed in a future version.\n",
      "Instructions for updating:\n",
      "Use eager execution and: \n",
      "`tf.data.TFRecordDataset(path)`\n",
      "2021-04-27 10:58:26,346 — apache_beam.runners.interactive.interactive_environment — WARNING — Dependencies required for Interactive Beam PCollection visualization are not available, please use: `pip install apache-beam[interactive]` to install necessary dependencies to enable all data visualization features.\n"
     ]
    },
    {
     "data": {
      "application/javascript": [
       "\n",
       "        if (typeof window.interactive_beam_jquery == 'undefined') {\n",
       "          var jqueryScript = document.createElement('script');\n",
       "          jqueryScript.src = 'https://code.jquery.com/jquery-3.4.1.slim.min.js';\n",
       "          jqueryScript.type = 'text/javascript';\n",
       "          jqueryScript.onload = function() {\n",
       "            var datatableScript = document.createElement('script');\n",
       "            datatableScript.src = 'https://cdn.datatables.net/1.10.20/js/jquery.dataTables.min.js';\n",
       "            datatableScript.type = 'text/javascript';\n",
       "            datatableScript.onload = function() {\n",
       "              window.interactive_beam_jquery = jQuery.noConflict(true);\n",
       "              window.interactive_beam_jquery(document).ready(function($){\n",
       "                \n",
       "              });\n",
       "            }\n",
       "            document.head.appendChild(datatableScript);\n",
       "          };\n",
       "          document.head.appendChild(jqueryScript);\n",
       "        } else {\n",
       "          window.interactive_beam_jquery(document).ready(function($){\n",
       "            \n",
       "          });\n",
       "        }"
      ]
     },
     "metadata": {},
     "output_type": "display_data"
    },
    {
     "name": "stderr",
     "output_type": "stream",
     "text": [
      "2021-04-27 10:58:26,999 — apache_beam.io.tfrecordio — WARNING — Couldn't find python-snappy so the implementation of _TFRecordUtil._masked_crc32c is not as fast as it could be.\n"
     ]
    },
    {
     "name": "stdout",
     "output_type": "stream",
     "text": [
      "2021-04-27 10:58:33,267 — zenml.backends.orchestrator.base.zenml_local_orchestrator — INFO — Component SplitGen is finished.\n",
      "2021-04-27 10:58:33,274 — zenml.backends.orchestrator.base.zenml_local_orchestrator — INFO — Component SplitStatistics is running.\n",
      "2021-04-27 10:58:48,231 — zenml.backends.orchestrator.base.zenml_local_orchestrator — INFO — Component SplitStatistics is finished.\n",
      "2021-04-27 10:58:48,233 — zenml.backends.orchestrator.base.zenml_local_orchestrator — INFO — Component SplitSchema is running.\n",
      "2021-04-27 10:58:54,847 — zenml.backends.orchestrator.base.zenml_local_orchestrator — INFO — Component SplitSchema is finished.\n",
      "2021-04-27 10:58:54,854 — zenml.backends.orchestrator.base.zenml_local_orchestrator — INFO — Component Transform is running.\n"
     ]
    },
    {
     "name": "stderr",
     "output_type": "stream",
     "text": [
      "2021-04-27 10:59:03,513 — tensorflow — WARNING — From /home/hamza/.virtualenvs/zenml_main/lib/python3.6/site-packages/tfx/components/transform/executor.py:541: Schema (from tensorflow_transform.tf_metadata.dataset_schema) is deprecated and will be removed in a future version.\n",
      "Instructions for updating:\n",
      "Schema is a deprecated, use schema_utils.schema_from_feature_spec to create a `Schema`\n",
      "2021-04-27 10:59:03,756 — tensorflow — WARNING — From /home/hamza/.virtualenvs/zenml_main/lib/python3.6/site-packages/tensorflow_transform/tf_utils.py:261: Tensor.experimental_ref (from tensorflow.python.framework.ops) is deprecated and will be removed in a future version.\n",
      "Instructions for updating:\n",
      "Use ref() instead.\n",
      "2021-04-27 10:59:04,207 — tensorflow — WARNING — TFT beam APIs accept both the TFXIO format and the instance dict format now. There is no need to set use_tfxio any more and it will be removed soon.\n",
      "2021-04-27 10:59:04,231 — root — WARNING — This output type hint will be ignored and not used for type-checking purposes. Typically, output type hints for a PTransform are single (or nested) types wrapped by a PCollection, PDone, or None. Got: Tuple[Dict[str, Union[NoneType, _Dataset]], Union[Dict[str, Dict[str, PCollection]], NoneType]] instead.\n",
      "2021-04-27 10:59:04,742 — root — WARNING — This output type hint will be ignored and not used for type-checking purposes. Typically, output type hints for a PTransform are single (or nested) types wrapped by a PCollection, PDone, or None. Got: Tuple[Dict[str, Union[NoneType, _Dataset]], Union[Dict[str, Dict[str, PCollection]], NoneType]] instead.\n",
      "2021-04-27 10:59:05,002 — tensorflow — WARNING — Tensorflow version (2.3.2) found. Note that Tensorflow Transform support for TF 2.0 is currently in beta, and features such as tf.function may not work as intended. \n",
      "2021-04-27 10:59:08,626 — tensorflow — WARNING — From /home/hamza/.virtualenvs/zenml_main/lib/python3.6/site-packages/tensorflow/python/saved_model/signature_def_utils_impl.py:201: build_tensor_info (from tensorflow.python.saved_model.utils_impl) is deprecated and will be removed in a future version.\n",
      "Instructions for updating:\n",
      "This function will only be available through the v1 compatibility library as tf.compat.v1.saved_model.utils.build_tensor_info or tf.compat.v1.saved_model.build_tensor_info.\n",
      "2021-04-27 10:59:13,315 — tensorflow — WARNING — Issue encountered when serializing tft_analyzer_use.\n",
      "Type is unsupported, or the types of the items don't match field type in CollectionDef. Note this is a warning and probably safe to ignore.\n",
      "'Counter' object has no attribute 'name'\n",
      "2021-04-27 10:59:13,316 — tensorflow — WARNING — Issue encountered when serializing tft_mapper_use.\n",
      "Type is unsupported, or the types of the items don't match field type in CollectionDef. Note this is a warning and probably safe to ignore.\n",
      "'Counter' object has no attribute 'name'\n",
      "2021-04-27 10:59:19,602 — tensorflow — WARNING — Issue encountered when serializing tft_analyzer_use.\n",
      "Type is unsupported, or the types of the items don't match field type in CollectionDef. Note this is a warning and probably safe to ignore.\n",
      "'Counter' object has no attribute 'name'\n",
      "2021-04-27 10:59:19,603 — tensorflow — WARNING — Issue encountered when serializing tft_mapper_use.\n",
      "Type is unsupported, or the types of the items don't match field type in CollectionDef. Note this is a warning and probably safe to ignore.\n",
      "'Counter' object has no attribute 'name'\n",
      "2021-04-27 10:59:26,131 — tensorflow — WARNING — Issue encountered when serializing tft_analyzer_use.\n",
      "Type is unsupported, or the types of the items don't match field type in CollectionDef. Note this is a warning and probably safe to ignore.\n",
      "'Counter' object has no attribute 'name'\n",
      "2021-04-27 10:59:26,132 — tensorflow — WARNING — Issue encountered when serializing tft_mapper_use.\n",
      "Type is unsupported, or the types of the items don't match field type in CollectionDef. Note this is a warning and probably safe to ignore.\n",
      "'Counter' object has no attribute 'name'\n",
      "2021-04-27 10:59:32,318 — tensorflow — WARNING — Tensorflow version (2.3.2) found. Note that Tensorflow Transform support for TF 2.0 is currently in beta, and features such as tf.function may not work as intended. \n",
      "2021-04-27 10:59:32,357 — apache_beam.typehints.typehints — WARNING — Ignoring send_type hint: <class 'NoneType'>\n",
      "2021-04-27 10:59:32,358 — apache_beam.typehints.typehints — WARNING — Ignoring return_type hint: <class 'NoneType'>\n",
      "2021-04-27 10:59:32,359 — apache_beam.typehints.typehints — WARNING — Ignoring send_type hint: <class 'NoneType'>\n",
      "2021-04-27 10:59:32,359 — apache_beam.typehints.typehints — WARNING — Ignoring return_type hint: <class 'NoneType'>\n",
      "2021-04-27 10:59:32,362 — apache_beam.typehints.typehints — WARNING — Ignoring send_type hint: <class 'NoneType'>\n",
      "2021-04-27 10:59:32,363 — apache_beam.typehints.typehints — WARNING — Ignoring return_type hint: <class 'NoneType'>\n",
      "2021-04-27 10:59:32,635 — tensorflow — WARNING — Tensorflow version (2.3.2) found. Note that Tensorflow Transform support for TF 2.0 is currently in beta, and features such as tf.function may not work as intended. \n",
      "2021-04-27 10:59:32,671 — apache_beam.typehints.typehints — WARNING — Ignoring send_type hint: <class 'NoneType'>\n",
      "2021-04-27 10:59:32,672 — apache_beam.typehints.typehints — WARNING — Ignoring return_type hint: <class 'NoneType'>\n",
      "2021-04-27 10:59:32,673 — apache_beam.typehints.typehints — WARNING — Ignoring send_type hint: <class 'NoneType'>\n",
      "2021-04-27 10:59:32,674 — apache_beam.typehints.typehints — WARNING — Ignoring return_type hint: <class 'NoneType'>\n",
      "2021-04-27 10:59:32,676 — apache_beam.typehints.typehints — WARNING — Ignoring send_type hint: <class 'NoneType'>\n",
      "2021-04-27 10:59:32,676 — apache_beam.typehints.typehints — WARNING — Ignoring return_type hint: <class 'NoneType'>\n",
      "2021-04-27 10:59:32,941 — tensorflow — WARNING — Tensorflow version (2.3.2) found. Note that Tensorflow Transform support for TF 2.0 is currently in beta, and features such as tf.function may not work as intended. \n",
      "2021-04-27 10:59:32,981 — apache_beam.typehints.typehints — WARNING — Ignoring send_type hint: <class 'NoneType'>\n",
      "2021-04-27 10:59:32,982 — apache_beam.typehints.typehints — WARNING — Ignoring return_type hint: <class 'NoneType'>\n",
      "2021-04-27 10:59:32,983 — apache_beam.typehints.typehints — WARNING — Ignoring send_type hint: <class 'NoneType'>\n",
      "2021-04-27 10:59:32,984 — apache_beam.typehints.typehints — WARNING — Ignoring return_type hint: <class 'NoneType'>\n",
      "2021-04-27 10:59:32,986 — apache_beam.typehints.typehints — WARNING — Ignoring send_type hint: <class 'NoneType'>\n",
      "2021-04-27 10:59:32,986 — apache_beam.typehints.typehints — WARNING — Ignoring return_type hint: <class 'NoneType'>\n"
     ]
    },
    {
     "name": "stdout",
     "output_type": "stream",
     "text": [
      "2021-04-27 11:00:46,466 — zenml.backends.orchestrator.base.zenml_local_orchestrator — INFO — Component Transform is finished.\n",
      "2021-04-27 11:00:46,473 — zenml.backends.orchestrator.base.zenml_local_orchestrator — INFO — Component Trainer is running.\n"
     ]
    },
    {
     "name": "stderr",
     "output_type": "stream",
     "text": [
      "2021-04-27 11:00:54,279 — googleapiclient.discovery_cache — WARNING — file_cache is unavailable when using oauth2client >= 4.0.0 or google-auth\n",
      "Traceback (most recent call last):\n",
      "  File \"/home/hamza/.virtualenvs/zenml_main/lib/python3.6/site-packages/googleapiclient/discovery_cache/file_cache.py\", line 33, in <module>\n",
      "    from oauth2client.contrib.locked_file import LockedFile\n",
      "ModuleNotFoundError: No module named 'oauth2client.contrib.locked_file'\n",
      "\n",
      "During handling of the above exception, another exception occurred:\n",
      "\n",
      "Traceback (most recent call last):\n",
      "  File \"/home/hamza/.virtualenvs/zenml_main/lib/python3.6/site-packages/googleapiclient/discovery_cache/file_cache.py\", line 37, in <module>\n",
      "    from oauth2client.locked_file import LockedFile\n",
      "ModuleNotFoundError: No module named 'oauth2client.locked_file'\n",
      "\n",
      "During handling of the above exception, another exception occurred:\n",
      "\n",
      "Traceback (most recent call last):\n",
      "  File \"/home/hamza/.virtualenvs/zenml_main/lib/python3.6/site-packages/googleapiclient/discovery_cache/__init__.py\", line 44, in autodetect\n",
      "    from . import file_cache\n",
      "  File \"/home/hamza/.virtualenvs/zenml_main/lib/python3.6/site-packages/googleapiclient/discovery_cache/file_cache.py\", line 41, in <module>\n",
      "    \"file_cache is unavailable when using oauth2client >= 4.0.0 or google-auth\"\n",
      "ImportError: file_cache is unavailable when using oauth2client >= 4.0.0 or google-auth\n"
     ]
    },
    {
     "ename": "RuntimeError",
     "evalue": "Job 'projects/core-engine/jobs/ce_train_1619513827' did not succeed.  Detailed response {'jobId': 'ce_train_1619513827', 'trainingInput': {'scaleTier': 'CUSTOM', 'masterType': 'n1-standard-4', 'region': 'europe-west1', 'jobDir': 'gs://zenmlartifactstore/gcp_gcaip_training/staging', 'pythonVersion': '3.7', 'masterConfig': {'acceleratorConfig': {'count': '1', 'type': 'NVIDIA_TESLA_K80'}, 'imageUri': 'eu.gcr.io/maiot-zenml/zenml:cuda-0.3.7', 'containerCommand': ['python', '-m', 'tfx.scripts.run_executor', '--executor_class_path', 'tfx.components.trainer.executor.GenericExecutor', '--inputs', '{\"examples\": [{\"artifact\": {\"id\": \"22\", \"type_id\": \"5\", \"uri\": \"gs://zenmlartifactstore/all_feature_demo/c23c99da5684ed052ebd33a635d37715/Transform/transformed_examples/36\", \"properties\": {\"split_names\": {\"string_value\": \"[\\\\\"eval\\\\\", \\\\\"test\\\\\", \\\\\"train\\\\\"]\"}}, \"custom_properties\": {\"name\": {\"string_value\": \"transformed_examples\"}, \"state\": {\"string_value\": \"published\"}, \"producer_component\": {\"string_value\": \"Transform\"}}, \"state\": \"LIVE\", \"create_time_since_epoch\": \"1619513942559\", \"last_update_time_since_epoch\": \"1619514046452\"}, \"artifact_type\": {\"id\": \"5\", \"name\": \"Examples\", \"properties\": {\"version\": \"INT\", \"span\": \"INT\", \"split_names\": \"STRING\"}}, \"__artifact_class_module__\": \"tfx.types.standard_artifacts\", \"__artifact_class_name__\": \"Examples\"}], \"schema\": [{\"artifact\": {\"id\": \"20\", \"type_id\": \"9\", \"uri\": \"gs://zenmlartifactstore/all_feature_demo/c23c99da5684ed052ebd33a635d37715/SplitSchema/schema/35\", \"custom_properties\": {\"producer_component\": {\"string_value\": \"SplitSchema\"}, \"name\": {\"string_value\": \"schema\"}, \"state\": {\"string_value\": \"published\"}}, \"state\": \"LIVE\", \"create_time_since_epoch\": \"1619513930926\", \"last_update_time_since_epoch\": \"1619513934834\"}, \"artifact_type\": {\"id\": \"9\", \"name\": \"Schema\"}, \"__artifact_class_module__\": \"tfx.types.standard_artifacts\", \"__artifact_class_name__\": \"Schema\"}], \"transform_graph\": [{\"artifact\": {\"id\": \"21\", \"type_id\": \"13\", \"uri\": \"gs://zenmlartifactstore/all_feature_demo/c23c99da5684ed052ebd33a635d37715/Transform/transform_graph/36\", \"custom_properties\": {\"name\": {\"string_value\": \"transform_graph\"}, \"state\": {\"string_value\": \"published\"}, \"producer_component\": {\"string_value\": \"Transform\"}}, \"state\": \"LIVE\", \"create_time_since_epoch\": \"1619513942557\", \"last_update_time_since_epoch\": \"1619514046451\"}, \"artifact_type\": {\"id\": \"13\", \"name\": \"TransformGraph\"}, \"__artifact_class_module__\": \"tfx.types.standard_artifacts\", \"__artifact_class_name__\": \"TransformGraph\"}]}', '--outputs', '{\"model\": [{\"artifact\": {\"id\": \"24\", \"type_id\": \"16\", \"uri\": \"gs://zenmlartifactstore/all_feature_demo/c23c99da5684ed052ebd33a635d37715/Trainer/model/37\", \"custom_properties\": {\"producer_component\": {\"string_value\": \"Trainer\"}, \"name\": {\"string_value\": \"model\"}}}, \"artifact_type\": {\"id\": \"16\", \"name\": \"Model\"}, \"__artifact_class_module__\": \"tfx.types.standard_artifacts\", \"__artifact_class_name__\": \"Model\"}], \"model_run\": [{\"artifact\": {\"id\": \"25\", \"type_id\": \"17\", \"uri\": \"gs://zenmlartifactstore/all_feature_demo/c23c99da5684ed052ebd33a635d37715/Trainer/model_run/37\", \"custom_properties\": {\"producer_component\": {\"string_value\": \"Trainer\"}, \"name\": {\"string_value\": \"model_run\"}}}, \"artifact_type\": {\"id\": \"17\", \"name\": \"ModelRun\"}, \"__artifact_class_module__\": \"tfx.types.standard_artifacts\", \"__artifact_class_name__\": \"ModelRun\"}], \"test_results\": [{\"artifact\": {\"id\": \"26\", \"type_id\": \"5\", \"uri\": \"gs://zenmlartifactstore/all_feature_demo/c23c99da5684ed052ebd33a635d37715/Trainer/test_results/37\", \"custom_properties\": {\"name\": {\"string_value\": \"test_results\"}, \"producer_component\": {\"string_value\": \"Trainer\"}}}, \"artifact_type\": {\"id\": \"5\", \"name\": \"Examples\", \"properties\": {\"version\": \"INT\", \"span\": \"INT\", \"split_names\": \"STRING\"}}, \"__artifact_class_module__\": \"tfx.types.standard_artifacts\", \"__artifact_class_name__\": \"Examples\"}]}', '--exec-properties', '{\"custom_config\": \"{\\\\\"ai_platform_training_args\\\\\": {\\\\\"jobDir\\\\\": \\\\\"gs://zenmlartifactstore/gcp_gcaip_training/staging\\\\\", \\\\\"masterConfig\\\\\": {\\\\\"acceleratorConfig\\\\\": {\\\\\"count\\\\\": 1, \\\\\"type\\\\\": \\\\\"NVIDIA_TESLA_K80\\\\\"}, \\\\\"imageUri\\\\\": \\\\\"eu.gcr.io/maiot-zenml/zenml:cuda-0.3.7\\\\\"}, \\\\\"masterType\\\\\": \\\\\"n1-standard-4\\\\\", \\\\\"project\\\\\": \\\\\"core-engine\\\\\", \\\\\"pythonVersion\\\\\": \\\\\"3.7\\\\\", \\\\\"region\\\\\": \\\\\"europe-west1\\\\\", \\\\\"scaleTier\\\\\": \\\\\"CUSTOM\\\\\", \\\\\"scheduling\\\\\": {\\\\\"maxRunningTime\\\\\": \\\\\"7200s\\\\\"}}, \\\\\"ai_platform_training_job_id\\\\\": \\\\\"ce_train_1619513827\\\\\", \\\\\"args\\\\\": {\\\\\"batch_size\\\\\": 8, \\\\\"dropout_chance\\\\\": 0.2, \\\\\"epochs\\\\\": 20, \\\\\"hidden_activation\\\\\": \\\\\"relu\\\\\", \\\\\"hidden_layers\\\\\": null, \\\\\"last_activation\\\\\": \\\\\"sigmoid\\\\\", \\\\\"loss\\\\\": \\\\\"binary_crossentropy\\\\\", \\\\\"lr\\\\\": 0.001, \\\\\"metrics\\\\\": [\\\\\"accuracy\\\\\"], \\\\\"output_units\\\\\": 1, \\\\\"split_mapping\\\\\": {\\\\\"eval_splits\\\\\": [\\\\\"eval\\\\\"], \\\\\"test_splits\\\\\": [\\\\\"test\\\\\"], \\\\\"train_splits\\\\\": [\\\\\"train\\\\\"]}}, \\\\\"backend\\\\\": {\\\\\"args\\\\\": {\\\\\"gpu_type\\\\\": \\\\\"K80\\\\\", \\\\\"image\\\\\": \\\\\"eu.gcr.io/maiot-zenml/zenml:cuda-0.3.7\\\\\", \\\\\"job_dir\\\\\": \\\\\"gs://zenmlartifactstore/gcp_gcaip_training/staging\\\\\", \\\\\"job_name\\\\\": \\\\\"train_1619513827\\\\\", \\\\\"machine_type\\\\\": \\\\\"n1-standard-4\\\\\", \\\\\"max_running_time\\\\\": 7200, \\\\\"project\\\\\": \\\\\"core-engine\\\\\", \\\\\"python_version\\\\\": \\\\\"3.7\\\\\", \\\\\"region\\\\\": \\\\\"europe-west1\\\\\"}, \\\\\"source\\\\\": \\\\\"zenml.backends.training.training_gcaip_backend.SingleGPUTrainingGCAIPBackend@zenml_0.3.7\\\\\", \\\\\"type\\\\\": \\\\\"training\\\\\"}, \\\\\"source\\\\\": \\\\\"zenml.steps.trainer.tensorflow_trainers.tf_ff_trainer.FeedForwardTrainer@zenml_0.3.7\\\\\"}\", \"run_fn\": \"zenml.components.trainer.trainer_module.run_fn\"}']}, 'scheduling': {'maxRunningTime': '7200s'}}, 'createTime': '2021-04-27T09:00:57Z', 'startTime': '2021-04-27T09:07:18Z', 'endTime': '2021-04-27T09:09:51Z', 'state': 'FAILED', 'errorMessage': 'The replica master 0 exited with a non-zero status of 1. To find out more about why your job exited please check the logs: https://console.cloud.google.com/logs/viewer?project=973445798975&resource=ml_job%2Fjob_id%2Fce_train_1619513827&advancedFilter=resource.type%3D%22ml_job%22%0Aresource.labels.job_id%3D%22ce_train_1619513827%22', 'trainingOutput': {'consumedMLUnits': 0.22}, 'labels': {'tfx_executor': 'tfx-components-trainer-executor-genericexecutor', 'tfx_py_version': '3-6', 'tfx_version': '0-26-1'}, 'etag': 'L/bmhByB03A='}.",
     "output_type": "error",
     "traceback": [
      "\u001b[0;31m---------------------------------------------------------------------------\u001b[0m",
      "\u001b[0;31mRuntimeError\u001b[0m                              Traceback (most recent call last)",
      "\u001b[0;32m<ipython-input-7-f0204d639e79>\u001b[0m in \u001b[0;36m<module>\u001b[0;34m\u001b[0m\n\u001b[1;32m     14\u001b[0m     epochs=20).with_backend(training_backend))\n\u001b[1;32m     15\u001b[0m \u001b[0;34m\u001b[0m\u001b[0m\n\u001b[0;32m---> 16\u001b[0;31m \u001b[0mtraining_pipeline_3\u001b[0m\u001b[0;34m.\u001b[0m\u001b[0mrun\u001b[0m\u001b[0;34m(\u001b[0m\u001b[0martifact_store\u001b[0m\u001b[0;34m=\u001b[0m\u001b[0martifact_store\u001b[0m\u001b[0;34m)\u001b[0m\u001b[0;34m\u001b[0m\u001b[0;34m\u001b[0m\u001b[0m\n\u001b[0m",
      "\u001b[0;32m~/workspace/maiot/github_temp/zenml/zenml/utils/analytics_utils.py\u001b[0m in \u001b[0;36minner_func\u001b[0;34m(*args, **kwargs)\u001b[0m\n\u001b[1;32m    175\u001b[0m     \u001b[0;32mdef\u001b[0m \u001b[0minner_func\u001b[0m\u001b[0;34m(\u001b[0m\u001b[0;34m*\u001b[0m\u001b[0margs\u001b[0m\u001b[0;34m,\u001b[0m \u001b[0;34m**\u001b[0m\u001b[0mkwargs\u001b[0m\u001b[0;34m)\u001b[0m\u001b[0;34m:\u001b[0m\u001b[0;34m\u001b[0m\u001b[0;34m\u001b[0m\u001b[0m\n\u001b[1;32m    176\u001b[0m         \u001b[0mtrack_event\u001b[0m\u001b[0;34m(\u001b[0m\u001b[0mevent\u001b[0m\u001b[0;34m,\u001b[0m \u001b[0mmetadata\u001b[0m\u001b[0;34m=\u001b[0m\u001b[0mmetadata\u001b[0m\u001b[0;34m)\u001b[0m\u001b[0;34m\u001b[0m\u001b[0;34m\u001b[0m\u001b[0m\n\u001b[0;32m--> 177\u001b[0;31m         \u001b[0mresult\u001b[0m \u001b[0;34m=\u001b[0m \u001b[0mfunc\u001b[0m\u001b[0;34m(\u001b[0m\u001b[0;34m*\u001b[0m\u001b[0margs\u001b[0m\u001b[0;34m,\u001b[0m \u001b[0;34m**\u001b[0m\u001b[0mkwargs\u001b[0m\u001b[0;34m)\u001b[0m\u001b[0;34m\u001b[0m\u001b[0;34m\u001b[0m\u001b[0m\n\u001b[0m\u001b[1;32m    178\u001b[0m         \u001b[0;32mreturn\u001b[0m \u001b[0mresult\u001b[0m\u001b[0;34m\u001b[0m\u001b[0;34m\u001b[0m\u001b[0m\n\u001b[1;32m    179\u001b[0m \u001b[0;34m\u001b[0m\u001b[0m\n",
      "\u001b[0;32m~/workspace/maiot/github_temp/zenml/zenml/pipelines/base_pipeline.py\u001b[0m in \u001b[0;36mrun\u001b[0;34m(self, backend, metadata_store, artifact_store)\u001b[0m\n\u001b[1;32m    436\u001b[0m             \u001b[0mself\u001b[0m\u001b[0;34m.\u001b[0m\u001b[0mregister_pipeline\u001b[0m\u001b[0;34m(\u001b[0m\u001b[0mconfig\u001b[0m\u001b[0;34m)\u001b[0m\u001b[0;34m\u001b[0m\u001b[0;34m\u001b[0m\u001b[0m\n\u001b[1;32m    437\u001b[0m \u001b[0;34m\u001b[0m\u001b[0m\n\u001b[0;32m--> 438\u001b[0;31m         \u001b[0mself\u001b[0m\u001b[0;34m.\u001b[0m\u001b[0mrun_config\u001b[0m\u001b[0;34m(\u001b[0m\u001b[0mconfig\u001b[0m\u001b[0;34m)\u001b[0m\u001b[0;34m\u001b[0m\u001b[0;34m\u001b[0m\u001b[0m\n\u001b[0m\u001b[1;32m    439\u001b[0m \u001b[0;34m\u001b[0m\u001b[0m\n\u001b[1;32m    440\u001b[0m         \u001b[0;31m# After running, pipeline is immutable\u001b[0m\u001b[0;34m\u001b[0m\u001b[0;34m\u001b[0m\u001b[0;34m\u001b[0m\u001b[0m\n",
      "\u001b[0;32m~/workspace/maiot/github_temp/zenml/zenml/pipelines/base_pipeline.py\u001b[0m in \u001b[0;36mrun_config\u001b[0;34m(self, config)\u001b[0m\n\u001b[1;32m    371\u001b[0m         \"\"\"\n\u001b[1;32m    372\u001b[0m         \u001b[0;32massert\u001b[0m \u001b[0missubclass\u001b[0m\u001b[0;34m(\u001b[0m\u001b[0mself\u001b[0m\u001b[0;34m.\u001b[0m\u001b[0mbackend\u001b[0m\u001b[0;34m.\u001b[0m\u001b[0m__class__\u001b[0m\u001b[0;34m,\u001b[0m \u001b[0mOrchestratorBaseBackend\u001b[0m\u001b[0;34m)\u001b[0m\u001b[0;34m\u001b[0m\u001b[0;34m\u001b[0m\u001b[0m\n\u001b[0;32m--> 373\u001b[0;31m         \u001b[0mself\u001b[0m\u001b[0;34m.\u001b[0m\u001b[0mbackend\u001b[0m\u001b[0;34m.\u001b[0m\u001b[0mrun\u001b[0m\u001b[0;34m(\u001b[0m\u001b[0mconfig\u001b[0m\u001b[0;34m)\u001b[0m\u001b[0;34m\u001b[0m\u001b[0;34m\u001b[0m\u001b[0m\n\u001b[0m\u001b[1;32m    374\u001b[0m \u001b[0;34m\u001b[0m\u001b[0m\n\u001b[1;32m    375\u001b[0m     \u001b[0;34m@\u001b[0m\u001b[0mtrack\u001b[0m\u001b[0;34m(\u001b[0m\u001b[0mevent\u001b[0m\u001b[0;34m=\u001b[0m\u001b[0mRUN_PIPELINE\u001b[0m\u001b[0;34m)\u001b[0m\u001b[0;34m\u001b[0m\u001b[0;34m\u001b[0m\u001b[0m\n",
      "\u001b[0;32m~/workspace/maiot/github_temp/zenml/zenml/backends/orchestrator/base/orchestrator_base_backend.py\u001b[0m in \u001b[0;36mrun\u001b[0;34m(self, config)\u001b[0m\n\u001b[1;32m    107\u001b[0m         \"\"\"\n\u001b[1;32m    108\u001b[0m         \u001b[0mtfx_pipeline\u001b[0m \u001b[0;34m=\u001b[0m \u001b[0mself\u001b[0m\u001b[0;34m.\u001b[0m\u001b[0mget_tfx_pipeline\u001b[0m\u001b[0;34m(\u001b[0m\u001b[0mconfig\u001b[0m\u001b[0;34m)\u001b[0m\u001b[0;34m\u001b[0m\u001b[0;34m\u001b[0m\u001b[0m\n\u001b[0;32m--> 109\u001b[0;31m         \u001b[0mZenMLLocalDagRunner\u001b[0m\u001b[0;34m(\u001b[0m\u001b[0;34m)\u001b[0m\u001b[0;34m.\u001b[0m\u001b[0mrun\u001b[0m\u001b[0;34m(\u001b[0m\u001b[0mtfx_pipeline\u001b[0m\u001b[0;34m)\u001b[0m\u001b[0;34m\u001b[0m\u001b[0;34m\u001b[0m\u001b[0m\n\u001b[0m",
      "\u001b[0;32m~/workspace/maiot/github_temp/zenml/zenml/backends/orchestrator/base/zenml_local_orchestrator.py\u001b[0m in \u001b[0;36mrun\u001b[0;34m(self, tfx_pipeline)\u001b[0m\n\u001b[1;32m     52\u001b[0m                 component_config=component_config)\n\u001b[1;32m     53\u001b[0m             \u001b[0mlogger\u001b[0m\u001b[0;34m.\u001b[0m\u001b[0minfo\u001b[0m\u001b[0;34m(\u001b[0m\u001b[0;34m'Component %s is running.'\u001b[0m\u001b[0;34m,\u001b[0m \u001b[0mcomponent\u001b[0m\u001b[0;34m.\u001b[0m\u001b[0mid\u001b[0m\u001b[0;34m)\u001b[0m\u001b[0;34m\u001b[0m\u001b[0;34m\u001b[0m\u001b[0m\n\u001b[0;32m---> 54\u001b[0;31m             \u001b[0mcomponent_launcher\u001b[0m\u001b[0;34m.\u001b[0m\u001b[0mlaunch\u001b[0m\u001b[0;34m(\u001b[0m\u001b[0;34m)\u001b[0m\u001b[0;34m\u001b[0m\u001b[0;34m\u001b[0m\u001b[0m\n\u001b[0m\u001b[1;32m     55\u001b[0m             \u001b[0mlogger\u001b[0m\u001b[0;34m.\u001b[0m\u001b[0minfo\u001b[0m\u001b[0;34m(\u001b[0m\u001b[0;34m'Component %s is finished.'\u001b[0m\u001b[0;34m,\u001b[0m \u001b[0mcomponent\u001b[0m\u001b[0;34m.\u001b[0m\u001b[0mid\u001b[0m\u001b[0;34m)\u001b[0m\u001b[0;34m\u001b[0m\u001b[0;34m\u001b[0m\u001b[0m\n",
      "\u001b[0;32m~/.virtualenvs/zenml_main/lib/python3.6/site-packages/tfx/orchestration/launcher/base_component_launcher.py\u001b[0m in \u001b[0;36mlaunch\u001b[0;34m(self)\u001b[0m\n\u001b[1;32m    207\u001b[0m                          \u001b[0mcopy\u001b[0m\u001b[0;34m.\u001b[0m\u001b[0mdeepcopy\u001b[0m\u001b[0;34m(\u001b[0m\u001b[0mexecution_decision\u001b[0m\u001b[0;34m.\u001b[0m\u001b[0minput_dict\u001b[0m\u001b[0;34m)\u001b[0m\u001b[0;34m,\u001b[0m\u001b[0;34m\u001b[0m\u001b[0;34m\u001b[0m\u001b[0m\n\u001b[1;32m    208\u001b[0m                          \u001b[0mexecution_decision\u001b[0m\u001b[0;34m.\u001b[0m\u001b[0moutput_dict\u001b[0m\u001b[0;34m,\u001b[0m\u001b[0;34m\u001b[0m\u001b[0;34m\u001b[0m\u001b[0m\n\u001b[0;32m--> 209\u001b[0;31m                          copy.deepcopy(execution_decision.exec_properties))\n\u001b[0m\u001b[1;32m    210\u001b[0m \u001b[0;34m\u001b[0m\u001b[0m\n\u001b[1;32m    211\u001b[0m     absl.logging.info('Running publisher for %s',\n",
      "\u001b[0;32m~/.virtualenvs/zenml_main/lib/python3.6/site-packages/tfx/orchestration/launcher/in_process_component_launcher.py\u001b[0m in \u001b[0;36m_run_executor\u001b[0;34m(self, execution_id, input_dict, output_dict, exec_properties)\u001b[0m\n\u001b[1;32m     70\u001b[0m     \u001b[0;31m# output_dict can still be changed, specifically properties.\u001b[0m\u001b[0;34m\u001b[0m\u001b[0;34m\u001b[0m\u001b[0;34m\u001b[0m\u001b[0m\n\u001b[1;32m     71\u001b[0m     executor.Do(\n\u001b[0;32m---> 72\u001b[0;31m         copy.deepcopy(input_dict), output_dict, copy.deepcopy(exec_properties))\n\u001b[0m",
      "\u001b[0;32m~/.virtualenvs/zenml_main/lib/python3.6/site-packages/tfx/extensions/google_cloud_ai_platform/trainer/executor.py\u001b[0m in \u001b[0;36mDo\u001b[0;34m(self, input_dict, output_dict, exec_properties)\u001b[0m\n\u001b[1;32m     83\u001b[0m     return runner.start_aip_training(input_dict, output_dict, exec_properties,\n\u001b[1;32m     84\u001b[0m                                      \u001b[0mexecutor_class_path\u001b[0m\u001b[0;34m,\u001b[0m \u001b[0mtraining_inputs\u001b[0m\u001b[0;34m,\u001b[0m\u001b[0;34m\u001b[0m\u001b[0;34m\u001b[0m\u001b[0m\n\u001b[0;32m---> 85\u001b[0;31m                                      job_id)\n\u001b[0m\u001b[1;32m     86\u001b[0m \u001b[0;34m\u001b[0m\u001b[0m\n\u001b[1;32m     87\u001b[0m \u001b[0;34m\u001b[0m\u001b[0m\n",
      "\u001b[0;32m~/.virtualenvs/zenml_main/lib/python3.6/site-packages/tfx/extensions/google_cloud_ai_platform/runner.py\u001b[0m in \u001b[0;36mstart_aip_training\u001b[0;34m(input_dict, output_dict, exec_properties, executor_class_path, training_inputs, job_id)\u001b[0m\n\u001b[1;32m    303\u001b[0m       \u001b[0mproject\u001b[0m\u001b[0;34m=\u001b[0m\u001b[0mproject\u001b[0m\u001b[0;34m,\u001b[0m\u001b[0;34m\u001b[0m\u001b[0;34m\u001b[0m\u001b[0m\n\u001b[1;32m    304\u001b[0m       \u001b[0mtraining_input\u001b[0m\u001b[0;34m=\u001b[0m\u001b[0mtraining_inputs\u001b[0m\u001b[0;34m,\u001b[0m\u001b[0;34m\u001b[0m\u001b[0;34m\u001b[0m\u001b[0m\n\u001b[0;32m--> 305\u001b[0;31m       job_labels=job_labels)\n\u001b[0m\u001b[1;32m    306\u001b[0m \u001b[0;34m\u001b[0m\u001b[0m\n\u001b[1;32m    307\u001b[0m \u001b[0;34m\u001b[0m\u001b[0m\n",
      "\u001b[0;32m~/.virtualenvs/zenml_main/lib/python3.6/site-packages/tfx/extensions/google_cloud_ai_platform/runner.py\u001b[0m in \u001b[0;36m_launch_aip_training\u001b[0;34m(job_id, project, training_input, job_labels)\u001b[0m\n\u001b[1;32m    192\u001b[0m         job_name, response)\n\u001b[1;32m    193\u001b[0m     \u001b[0mlogging\u001b[0m\u001b[0;34m.\u001b[0m\u001b[0merror\u001b[0m\u001b[0;34m(\u001b[0m\u001b[0merr_msg\u001b[0m\u001b[0;34m)\u001b[0m\u001b[0;34m\u001b[0m\u001b[0;34m\u001b[0m\u001b[0m\n\u001b[0;32m--> 194\u001b[0;31m     \u001b[0;32mraise\u001b[0m \u001b[0mRuntimeError\u001b[0m\u001b[0;34m(\u001b[0m\u001b[0merr_msg\u001b[0m\u001b[0;34m)\u001b[0m\u001b[0;34m\u001b[0m\u001b[0;34m\u001b[0m\u001b[0m\n\u001b[0m\u001b[1;32m    195\u001b[0m \u001b[0;34m\u001b[0m\u001b[0m\n\u001b[1;32m    196\u001b[0m   \u001b[0;31m# AIP training complete\u001b[0m\u001b[0;34m\u001b[0m\u001b[0;34m\u001b[0m\u001b[0;34m\u001b[0m\u001b[0m\n",
      "\u001b[0;31mRuntimeError\u001b[0m: Job 'projects/core-engine/jobs/ce_train_1619513827' did not succeed.  Detailed response {'jobId': 'ce_train_1619513827', 'trainingInput': {'scaleTier': 'CUSTOM', 'masterType': 'n1-standard-4', 'region': 'europe-west1', 'jobDir': 'gs://zenmlartifactstore/gcp_gcaip_training/staging', 'pythonVersion': '3.7', 'masterConfig': {'acceleratorConfig': {'count': '1', 'type': 'NVIDIA_TESLA_K80'}, 'imageUri': 'eu.gcr.io/maiot-zenml/zenml:cuda-0.3.7', 'containerCommand': ['python', '-m', 'tfx.scripts.run_executor', '--executor_class_path', 'tfx.components.trainer.executor.GenericExecutor', '--inputs', '{\"examples\": [{\"artifact\": {\"id\": \"22\", \"type_id\": \"5\", \"uri\": \"gs://zenmlartifactstore/all_feature_demo/c23c99da5684ed052ebd33a635d37715/Transform/transformed_examples/36\", \"properties\": {\"split_names\": {\"string_value\": \"[\\\\\"eval\\\\\", \\\\\"test\\\\\", \\\\\"train\\\\\"]\"}}, \"custom_properties\": {\"name\": {\"string_value\": \"transformed_examples\"}, \"state\": {\"string_value\": \"published\"}, \"producer_component\": {\"string_value\": \"Transform\"}}, \"state\": \"LIVE\", \"create_time_since_epoch\": \"1619513942559\", \"last_update_time_since_epoch\": \"1619514046452\"}, \"artifact_type\": {\"id\": \"5\", \"name\": \"Examples\", \"properties\": {\"version\": \"INT\", \"span\": \"INT\", \"split_names\": \"STRING\"}}, \"__artifact_class_module__\": \"tfx.types.standard_artifacts\", \"__artifact_class_name__\": \"Examples\"}], \"schema\": [{\"artifact\": {\"id\": \"20\", \"type_id\": \"9\", \"uri\": \"gs://zenmlartifactstore/all_feature_demo/c23c99da5684ed052ebd33a635d37715/SplitSchema/schema/35\", \"custom_properties\": {\"producer_component\": {\"string_value\": \"SplitSchema\"}, \"name\": {\"string_value\": \"schema\"}, \"state\": {\"string_value\": \"published\"}}, \"state\": \"LIVE\", \"create_time_since_epoch\": \"1619513930926\", \"last_update_time_since_epoch\": \"1619513934834\"}, \"artifact_type\": {\"id\": \"9\", \"name\": \"Schema\"}, \"__artifact_class_module__\": \"tfx.types.standard_artifacts\", \"__artifact_class_name__\": \"Schema\"}], \"transform_graph\": [{\"artifact\": {\"id\": \"21\", \"type_id\": \"13\", \"uri\": \"gs://zenmlartifactstore/all_feature_demo/c23c99da5684ed052ebd33a635d37715/Transform/transform_graph/36\", \"custom_properties\": {\"name\": {\"string_value\": \"transform_graph\"}, \"state\": {\"string_value\": \"published\"}, \"producer_component\": {\"string_value\": \"Transform\"}}, \"state\": \"LIVE\", \"create_time_since_epoch\": \"1619513942557\", \"last_update_time_since_epoch\": \"1619514046451\"}, \"artifact_type\": {\"id\": \"13\", \"name\": \"TransformGraph\"}, \"__artifact_class_module__\": \"tfx.types.standard_artifacts\", \"__artifact_class_name__\": \"TransformGraph\"}]}', '--outputs', '{\"model\": [{\"artifact\": {\"id\": \"24\", \"type_id\": \"16\", \"uri\": \"gs://zenmlartifactstore/all_feature_demo/c23c99da5684ed052ebd33a635d37715/Trainer/model/37\", \"custom_properties\": {\"producer_component\": {\"string_value\": \"Trainer\"}, \"name\": {\"string_value\": \"model\"}}}, \"artifact_type\": {\"id\": \"16\", \"name\": \"Model\"}, \"__artifact_class_module__\": \"tfx.types.standard_artifacts\", \"__artifact_class_name__\": \"Model\"}], \"model_run\": [{\"artifact\": {\"id\": \"25\", \"type_id\": \"17\", \"uri\": \"gs://zenmlartifactstore/all_feature_demo/c23c99da5684ed052ebd33a635d37715/Trainer/model_run/37\", \"custom_properties\": {\"producer_component\": {\"string_value\": \"Trainer\"}, \"name\": {\"string_value\": \"model_run\"}}}, \"artifact_type\": {\"id\": \"17\", \"name\": \"ModelRun\"}, \"__artifact_class_module__\": \"tfx.types.standard_artifacts\", \"__artifact_class_name__\": \"ModelRun\"}], \"test_results\": [{\"artifact\": {\"id\": \"26\", \"type_id\": \"5\", \"uri\": \"gs://zenmlartifactstore/all_feature_demo/c23c99da5684ed052ebd33a635d37715/Trainer/test_results/37\", \"custom_properties\": {\"name\": {\"string_value\": \"test_results\"}, \"producer_component\": {\"string_value\": \"Trainer\"}}}, \"artifact_type\": {\"id\": \"5\", \"name\": \"Examples\", \"properties\": {\"version\": \"INT\", \"span\": \"INT\", \"split_names\": \"STRING\"}}, \"__artifact_class_module__\": \"tfx.types.standard_artifacts\", \"__artifact_class_name__\": \"Examples\"}]}', '--exec-properties', '{\"custom_config\": \"{\\\\\"ai_platform_training_args\\\\\": {\\\\\"jobDir\\\\\": \\\\\"gs://zenmlartifactstore/gcp_gcaip_training/staging\\\\\", \\\\\"masterConfig\\\\\": {\\\\\"acceleratorConfig\\\\\": {\\\\\"count\\\\\": 1, \\\\\"type\\\\\": \\\\\"NVIDIA_TESLA_K80\\\\\"}, \\\\\"imageUri\\\\\": \\\\\"eu.gcr.io/maiot-zenml/zenml:cuda-0.3.7\\\\\"}, \\\\\"masterType\\\\\": \\\\\"n1-standard-4\\\\\", \\\\\"project\\\\\": \\\\\"core-engine\\\\\", \\\\\"pythonVersion\\\\\": \\\\\"3.7\\\\\", \\\\\"region\\\\\": \\\\\"europe-west1\\\\\", \\\\\"scaleTier\\\\\": \\\\\"CUSTOM\\\\\", \\\\\"scheduling\\\\\": {\\\\\"maxRunningTime\\\\\": \\\\\"7200s\\\\\"}}, \\\\\"ai_platform_training_job_id\\\\\": \\\\\"ce_train_1619513827\\\\\", \\\\\"args\\\\\": {\\\\\"batch_size\\\\\": 8, \\\\\"dropout_chance\\\\\": 0.2, \\\\\"epochs\\\\\": 20, \\\\\"hidden_activation\\\\\": \\\\\"relu\\\\\", \\\\\"hidden_layers\\\\\": null, \\\\\"last_activation\\\\\": \\\\\"sigmoid\\\\\", \\\\\"loss\\\\\": \\\\\"binary_crossentropy\\\\\", \\\\\"lr\\\\\": 0.001, \\\\\"metrics\\\\\": [\\\\\"accuracy\\\\\"], \\\\\"output_units\\\\\": 1, \\\\\"split_mapping\\\\\": {\\\\\"eval_splits\\\\\": [\\\\\"eval\\\\\"], \\\\\"test_splits\\\\\": [\\\\\"test\\\\\"], \\\\\"train_splits\\\\\": [\\\\\"train\\\\\"]}}, \\\\\"backend\\\\\": {\\\\\"args\\\\\": {\\\\\"gpu_type\\\\\": \\\\\"K80\\\\\", \\\\\"image\\\\\": \\\\\"eu.gcr.io/maiot-zenml/zenml:cuda-0.3.7\\\\\", \\\\\"job_dir\\\\\": \\\\\"gs://zenmlartifactstore/gcp_gcaip_training/staging\\\\\", \\\\\"job_name\\\\\": \\\\\"train_1619513827\\\\\", \\\\\"machine_type\\\\\": \\\\\"n1-standard-4\\\\\", \\\\\"max_running_time\\\\\": 7200, \\\\\"project\\\\\": \\\\\"core-engine\\\\\", \\\\\"python_version\\\\\": \\\\\"3.7\\\\\", \\\\\"region\\\\\": \\\\\"europe-west1\\\\\"}, \\\\\"source\\\\\": \\\\\"zenml.backends.training.training_gcaip_backend.SingleGPUTrainingGCAIPBackend@zenml_0.3.7\\\\\", \\\\\"type\\\\\": \\\\\"training\\\\\"}, \\\\\"source\\\\\": \\\\\"zenml.steps.trainer.tensorflow_trainers.tf_ff_trainer.FeedForwardTrainer@zenml_0.3.7\\\\\"}\", \"run_fn\": \"zenml.components.trainer.trainer_module.run_fn\"}']}, 'scheduling': {'maxRunningTime': '7200s'}}, 'createTime': '2021-04-27T09:00:57Z', 'startTime': '2021-04-27T09:07:18Z', 'endTime': '2021-04-27T09:09:51Z', 'state': 'FAILED', 'errorMessage': 'The replica master 0 exited with a non-zero status of 1. To find out more about why your job exited please check the logs: https://console.cloud.google.com/logs/viewer?project=973445798975&resource=ml_job%2Fjob_id%2Fce_train_1619513827&advancedFilter=resource.type%3D%22ml_job%22%0Aresource.labels.job_id%3D%22ce_train_1619513827%22', 'trainingOutput': {'consumedMLUnits': 0.22}, 'labels': {'tfx_executor': 'tfx-components-trainer-executor-genericexecutor', 'tfx_py_version': '3-6', 'tfx_version': '0-26-1'}, 'etag': 'L/bmhByB03A='}."
     ]
    }
   ],
   "source": [
    "training_pipeline_3 = training_pipeline.copy('Experiment 3')\n",
    "\n",
    "# Add a trainer with a GCAIP backend\n",
    "training_backend = SingleGPUTrainingGCAIPBackend(\n",
    "    project=GCP_PROJECT,\n",
    "    job_dir=TRAINING_JOB_DIR\n",
    ")\n",
    "\n",
    "training_pipeline.add_trainer(TFFeedForwardTrainer(\n",
    "    loss='binary_crossentropy',\n",
    "    last_activation='sigmoid',\n",
    "    output_units=1,\n",
    "    metrics=['accuracy'],\n",
    "    epochs=20).with_backend(training_backend))\n",
    "\n",
    "training_pipeline_3.run(artifact_store=artifact_store)"
   ]
  },
  {
   "cell_type": "markdown",
   "metadata": {},
   "source": [
    "# Orchestrate every step on the Cloud"
   ]
  },
  {
   "cell_type": "code",
   "execution_count": 8,
   "metadata": {
    "scrolled": false
   },
   "outputs": [
    {
     "name": "stdout",
     "output_type": "stream",
     "text": [
      "2021-04-27 12:22:19,311 — zenml.pipelines.base_pipeline — INFO — Pipeline Experiment 4 created.\n"
     ]
    },
    {
     "name": "stderr",
     "output_type": "stream",
     "text": [
      "2021-04-27 12:22:19,320 — googleapiclient.discovery_cache — WARNING — file_cache is unavailable when using oauth2client >= 4.0.0 or google-auth\n",
      "Traceback (most recent call last):\n",
      "  File \"/home/hamza/.virtualenvs/zenml_main/lib/python3.6/site-packages/googleapiclient/discovery_cache/file_cache.py\", line 33, in <module>\n",
      "    from oauth2client.contrib.locked_file import LockedFile\n",
      "ModuleNotFoundError: No module named 'oauth2client.contrib.locked_file'\n",
      "\n",
      "During handling of the above exception, another exception occurred:\n",
      "\n",
      "Traceback (most recent call last):\n",
      "  File \"/home/hamza/.virtualenvs/zenml_main/lib/python3.6/site-packages/googleapiclient/discovery_cache/file_cache.py\", line 37, in <module>\n",
      "    from oauth2client.locked_file import LockedFile\n",
      "ModuleNotFoundError: No module named 'oauth2client.locked_file'\n",
      "\n",
      "During handling of the above exception, another exception occurred:\n",
      "\n",
      "Traceback (most recent call last):\n",
      "  File \"/home/hamza/.virtualenvs/zenml_main/lib/python3.6/site-packages/googleapiclient/discovery_cache/__init__.py\", line 44, in autodetect\n",
      "    from . import file_cache\n",
      "  File \"/home/hamza/.virtualenvs/zenml_main/lib/python3.6/site-packages/googleapiclient/discovery_cache/file_cache.py\", line 41, in <module>\n",
      "    \"file_cache is unavailable when using oauth2client >= 4.0.0 or google-auth\"\n",
      "ImportError: file_cache is unavailable when using oauth2client >= 4.0.0 or google-auth\n"
     ]
    },
    {
     "name": "stdout",
     "output_type": "stream",
     "text": [
      "2021-04-27 12:22:20,880 — zenml.pipelines.base_pipeline — WARNING — Changing the metadata_store or artifact_store might cause your pipelines to be non-reproducible and non-comparable.\n",
      "2021-04-27 12:22:20,886 — zenml.pipelines.base_pipeline — WARNING — Changing the metadata_store or artifact_store might cause your pipelines to be non-reproducible and non-comparable.\n",
      "2021-04-27 12:22:20,914 — zenml.backends.orchestrator.gcp.orchestrator_gcp_backend — INFO — Orchestrating pipeline on GCP..\n",
      "2021-04-27 12:22:23,761 — zenml.backends.orchestrator.gcp.orchestrator_gcp_backend — INFO — Created tar of current repository at: /home/hamza/workspace/maiot/github_temp/zenml/.zenml/zenml_working_1619518940.tar.gz\n",
      "2021-04-27 12:22:55,459 — zenml.backends.orchestrator.gcp.orchestrator_gcp_backend — INFO — Copied tar to artifact store at: gs://zenmlartifactstore/all_feature_demo/staging/zenml_working_1619518940.tar.gz\n",
      "2021-04-27 12:22:55,468 — zenml.backends.orchestrator.gcp.orchestrator_gcp_backend — INFO — Removed tar at: /home/hamza/workspace/maiot/github_temp/zenml/.zenml/zenml_working_1619518940.tar.gz\n",
      "2021-04-27 12:22:55,479 — zenml.backends.orchestrator.gcp.orchestrator_gcp_backend — INFO — Launching instance zenml-1619518939 of type n1-standard-4 in project: core-engine in zone europe-west1-b\n"
     ]
    },
    {
     "name": "stderr",
     "output_type": "stream",
     "text": [
      "2021-04-27 12:22:55,481 — googleapiclient.discovery_cache — WARNING — file_cache is unavailable when using oauth2client >= 4.0.0 or google-auth\n",
      "Traceback (most recent call last):\n",
      "  File \"/home/hamza/.virtualenvs/zenml_main/lib/python3.6/site-packages/googleapiclient/discovery_cache/file_cache.py\", line 33, in <module>\n",
      "    from oauth2client.contrib.locked_file import LockedFile\n",
      "ModuleNotFoundError: No module named 'oauth2client.contrib.locked_file'\n",
      "\n",
      "During handling of the above exception, another exception occurred:\n",
      "\n",
      "Traceback (most recent call last):\n",
      "  File \"/home/hamza/.virtualenvs/zenml_main/lib/python3.6/site-packages/googleapiclient/discovery_cache/file_cache.py\", line 37, in <module>\n",
      "    from oauth2client.locked_file import LockedFile\n",
      "ModuleNotFoundError: No module named 'oauth2client.locked_file'\n",
      "\n",
      "During handling of the above exception, another exception occurred:\n",
      "\n",
      "Traceback (most recent call last):\n",
      "  File \"/home/hamza/.virtualenvs/zenml_main/lib/python3.6/site-packages/googleapiclient/discovery_cache/__init__.py\", line 44, in autodetect\n",
      "    from . import file_cache\n",
      "  File \"/home/hamza/.virtualenvs/zenml_main/lib/python3.6/site-packages/googleapiclient/discovery_cache/file_cache.py\", line 41, in <module>\n",
      "    \"file_cache is unavailable when using oauth2client >= 4.0.0 or google-auth\"\n",
      "ImportError: file_cache is unavailable when using oauth2client >= 4.0.0 or google-auth\n"
     ]
    },
    {
     "name": "stdout",
     "output_type": "stream",
     "text": [
      "2021-04-27 12:22:58,294 — zenml.backends.orchestrator.gcp.orchestrator_gcp_backend — INFO — Launched instance zenml-1619518939 with ID: 345204829920581871\n",
      "2021-04-27 12:22:58,297 — zenml.backends.orchestrator.gcp.orchestrator_gcp_backend — INFO — View logs at: https://console.cloud.google.com/logs/query;query=logName%3D%22projects%2Fcore-engine%2Flogs%2Fgcplogs-docker-driver%22%0Aresource.labels.instance_id%3D%22345204829920581871%22?project=core-engine&folder=true&query=%0A\n"
     ]
    }
   ],
   "source": [
    "training_pipeline_4 = training_pipeline.copy('Experiment 4')\n",
    "\n",
    "# Define the metadata store\n",
    "metadata_store = MySQLMetadataStore(\n",
    "    host=MYSQL_HOST,\n",
    "    port=int(MYSQL_PORT),\n",
    "    database=MYSQL_DB,\n",
    "    username=MYSQL_USER,\n",
    "    password=MYSQL_PWD,\n",
    ")\n",
    "\n",
    "\n",
    "# Define the orchestrator backend\n",
    "orchestrator_backend = OrchestratorGCPBackend(\n",
    "    cloudsql_connection_name=CONNECTION_NAME,\n",
    "    project=GCP_PROJECT,\n",
    "    preemptible=True,  # reduce costs by using preemptible instances\n",
    "    machine_type='n1-standard-4',\n",
    "    gpu='nvidia-tesla-k80',\n",
    "    gpu_count=1,\n",
    ")\n",
    "\n",
    "\n",
    "# Run the pipeline\n",
    "training_pipeline_4.run(\n",
    "    backend=orchestrator_backend,\n",
    "    metadata_store=metadata_store,\n",
    "    artifact_store=artifact_store,\n",
    ")"
   ]
  },
  {
   "cell_type": "markdown",
   "metadata": {},
   "source": [
    "# Add a deployer step with different integrations"
   ]
  },
  {
   "cell_type": "markdown",
   "metadata": {},
   "source": [
    "## Option 1: Deploy to Google Cloud AI Platform"
   ]
  },
  {
   "cell_type": "code",
   "execution_count": 12,
   "metadata": {
    "scrolled": false
   },
   "outputs": [
    {
     "name": "stdout",
     "output_type": "stream",
     "text": [
      "2021-04-27 12:39:52,535 — zenml.pipelines.base_pipeline — INFO — Pipeline Experiment 11 created.\n",
      "2021-04-27 12:39:52,537 — zenml.steps.deployer.gcaip_deployer — WARNING — When using GCAIPDeployer, please ensure that the Artifact Store is a Google Cloud Bucket.\n",
      "2021-04-27 12:39:52,538 — zenml.pipelines.base_pipeline — WARNING — Changing the metadata_store or artifact_store might cause your pipelines to be non-reproducible and non-comparable.\n",
      "2021-04-27 12:39:52,550 — zenml.steps.deployer.gcaip_deployer — WARNING — When using GCAIPDeployer, please ensure that the Artifact Store is a Google Cloud Bucket.\n",
      "2021-04-27 12:39:52,799 — zenml.backends.training.training_gcaip_backend — INFO — Launching GCAIP Trainer job train_1619513827\n",
      "2021-04-27 12:39:52,801 — zenml.backends.orchestrator.base.zenml_local_orchestrator — INFO — Component ImporterNode.DataGen is running.\n",
      "2021-04-27 12:39:52,848 — zenml.backends.orchestrator.base.zenml_local_orchestrator — INFO — Component ImporterNode.DataGen is finished.\n",
      "2021-04-27 12:39:52,852 — zenml.backends.orchestrator.base.zenml_local_orchestrator — INFO — Component ImporterNode.DataSchema is running.\n",
      "2021-04-27 12:39:52,882 — zenml.backends.orchestrator.base.zenml_local_orchestrator — INFO — Component ImporterNode.DataSchema is finished.\n",
      "2021-04-27 12:39:52,884 — zenml.backends.orchestrator.base.zenml_local_orchestrator — INFO — Component ImporterNode.DataStatistics is running.\n",
      "2021-04-27 12:39:52,918 — zenml.backends.orchestrator.base.zenml_local_orchestrator — INFO — Component ImporterNode.DataStatistics is finished.\n",
      "2021-04-27 12:39:52,920 — zenml.backends.orchestrator.base.zenml_local_orchestrator — INFO — Component SplitGen is running.\n",
      "2021-04-27 12:39:52,965 — zenml.backends.orchestrator.base.zenml_local_orchestrator — INFO — Component SplitGen is finished.\n",
      "2021-04-27 12:39:52,968 — zenml.backends.orchestrator.base.zenml_local_orchestrator — INFO — Component SplitStatistics is running.\n",
      "2021-04-27 12:39:53,328 — zenml.backends.orchestrator.base.zenml_local_orchestrator — INFO — Component SplitStatistics is finished.\n",
      "2021-04-27 12:39:53,331 — zenml.backends.orchestrator.base.zenml_local_orchestrator — INFO — Component SplitSchema is running.\n",
      "2021-04-27 12:39:53,704 — zenml.backends.orchestrator.base.zenml_local_orchestrator — INFO — Component SplitSchema is finished.\n",
      "2021-04-27 12:39:53,705 — zenml.backends.orchestrator.base.zenml_local_orchestrator — INFO — Component Transform is running.\n",
      "2021-04-27 12:39:54,230 — zenml.backends.orchestrator.base.zenml_local_orchestrator — INFO — Component Transform is finished.\n",
      "2021-04-27 12:39:54,231 — zenml.backends.orchestrator.base.zenml_local_orchestrator — INFO — Component Trainer is running.\n"
     ]
    },
    {
     "name": "stderr",
     "output_type": "stream",
     "text": [
      "2021-04-27 12:40:00,866 — googleapiclient.discovery_cache — WARNING — file_cache is unavailable when using oauth2client >= 4.0.0 or google-auth\n",
      "Traceback (most recent call last):\n",
      "  File \"/home/hamza/.virtualenvs/zenml_main/lib/python3.6/site-packages/googleapiclient/discovery_cache/file_cache.py\", line 33, in <module>\n",
      "    from oauth2client.contrib.locked_file import LockedFile\n",
      "ModuleNotFoundError: No module named 'oauth2client.contrib.locked_file'\n",
      "\n",
      "During handling of the above exception, another exception occurred:\n",
      "\n",
      "Traceback (most recent call last):\n",
      "  File \"/home/hamza/.virtualenvs/zenml_main/lib/python3.6/site-packages/googleapiclient/discovery_cache/file_cache.py\", line 37, in <module>\n",
      "    from oauth2client.locked_file import LockedFile\n",
      "ModuleNotFoundError: No module named 'oauth2client.locked_file'\n",
      "\n",
      "During handling of the above exception, another exception occurred:\n",
      "\n",
      "Traceback (most recent call last):\n",
      "  File \"/home/hamza/.virtualenvs/zenml_main/lib/python3.6/site-packages/googleapiclient/discovery_cache/__init__.py\", line 44, in autodetect\n",
      "    from . import file_cache\n",
      "  File \"/home/hamza/.virtualenvs/zenml_main/lib/python3.6/site-packages/googleapiclient/discovery_cache/file_cache.py\", line 41, in <module>\n",
      "    \"file_cache is unavailable when using oauth2client >= 4.0.0 or google-auth\"\n",
      "ImportError: file_cache is unavailable when using oauth2client >= 4.0.0 or google-auth\n"
     ]
    },
    {
     "ename": "HttpError",
     "evalue": "<HttpError 409 when requesting https://ml.googleapis.com/v1/projects/core-engine/jobs?alt=json returned \"Field: job.job_id Error: A job with this id already exists.\". Details: \"[{'@type': 'type.googleapis.com/google.rpc.BadRequest', 'fieldViolations': [{'field': 'job.job_id', 'description': 'A job with this id already exists.'}]}]\">",
     "output_type": "error",
     "traceback": [
      "\u001b[0;31m---------------------------------------------------------------------------\u001b[0m",
      "\u001b[0;31mHttpError\u001b[0m                                 Traceback (most recent call last)",
      "\u001b[0;32m<ipython-input-12-a982486f6979>\u001b[0m in \u001b[0;36m<module>\u001b[0;34m\u001b[0m\n\u001b[1;32m      7\u001b[0m )\n\u001b[1;32m      8\u001b[0m \u001b[0;34m\u001b[0m\u001b[0m\n\u001b[0;32m----> 9\u001b[0;31m \u001b[0mtraining_pipeline_5\u001b[0m\u001b[0;34m.\u001b[0m\u001b[0mrun\u001b[0m\u001b[0;34m(\u001b[0m\u001b[0martifact_store\u001b[0m\u001b[0;34m=\u001b[0m\u001b[0martifact_store\u001b[0m\u001b[0;34m)\u001b[0m\u001b[0;34m\u001b[0m\u001b[0;34m\u001b[0m\u001b[0m\n\u001b[0m",
      "\u001b[0;32m~/workspace/maiot/github_temp/zenml/zenml/utils/analytics_utils.py\u001b[0m in \u001b[0;36minner_func\u001b[0;34m(*args, **kwargs)\u001b[0m\n\u001b[1;32m    175\u001b[0m     \u001b[0;32mdef\u001b[0m \u001b[0minner_func\u001b[0m\u001b[0;34m(\u001b[0m\u001b[0;34m*\u001b[0m\u001b[0margs\u001b[0m\u001b[0;34m,\u001b[0m \u001b[0;34m**\u001b[0m\u001b[0mkwargs\u001b[0m\u001b[0;34m)\u001b[0m\u001b[0;34m:\u001b[0m\u001b[0;34m\u001b[0m\u001b[0;34m\u001b[0m\u001b[0m\n\u001b[1;32m    176\u001b[0m         \u001b[0mtrack_event\u001b[0m\u001b[0;34m(\u001b[0m\u001b[0mevent\u001b[0m\u001b[0;34m,\u001b[0m \u001b[0mmetadata\u001b[0m\u001b[0;34m=\u001b[0m\u001b[0mmetadata\u001b[0m\u001b[0;34m)\u001b[0m\u001b[0;34m\u001b[0m\u001b[0;34m\u001b[0m\u001b[0m\n\u001b[0;32m--> 177\u001b[0;31m         \u001b[0mresult\u001b[0m \u001b[0;34m=\u001b[0m \u001b[0mfunc\u001b[0m\u001b[0;34m(\u001b[0m\u001b[0;34m*\u001b[0m\u001b[0margs\u001b[0m\u001b[0;34m,\u001b[0m \u001b[0;34m**\u001b[0m\u001b[0mkwargs\u001b[0m\u001b[0;34m)\u001b[0m\u001b[0;34m\u001b[0m\u001b[0;34m\u001b[0m\u001b[0m\n\u001b[0m\u001b[1;32m    178\u001b[0m         \u001b[0;32mreturn\u001b[0m \u001b[0mresult\u001b[0m\u001b[0;34m\u001b[0m\u001b[0;34m\u001b[0m\u001b[0m\n\u001b[1;32m    179\u001b[0m \u001b[0;34m\u001b[0m\u001b[0m\n",
      "\u001b[0;32m~/workspace/maiot/github_temp/zenml/zenml/pipelines/base_pipeline.py\u001b[0m in \u001b[0;36mrun\u001b[0;34m(self, backend, metadata_store, artifact_store)\u001b[0m\n\u001b[1;32m    436\u001b[0m             \u001b[0mself\u001b[0m\u001b[0;34m.\u001b[0m\u001b[0mregister_pipeline\u001b[0m\u001b[0;34m(\u001b[0m\u001b[0mconfig\u001b[0m\u001b[0;34m)\u001b[0m\u001b[0;34m\u001b[0m\u001b[0;34m\u001b[0m\u001b[0m\n\u001b[1;32m    437\u001b[0m \u001b[0;34m\u001b[0m\u001b[0m\n\u001b[0;32m--> 438\u001b[0;31m         \u001b[0mself\u001b[0m\u001b[0;34m.\u001b[0m\u001b[0mrun_config\u001b[0m\u001b[0;34m(\u001b[0m\u001b[0mconfig\u001b[0m\u001b[0;34m)\u001b[0m\u001b[0;34m\u001b[0m\u001b[0;34m\u001b[0m\u001b[0m\n\u001b[0m\u001b[1;32m    439\u001b[0m \u001b[0;34m\u001b[0m\u001b[0m\n\u001b[1;32m    440\u001b[0m         \u001b[0;31m# After running, pipeline is immutable\u001b[0m\u001b[0;34m\u001b[0m\u001b[0;34m\u001b[0m\u001b[0;34m\u001b[0m\u001b[0m\n",
      "\u001b[0;32m~/workspace/maiot/github_temp/zenml/zenml/pipelines/base_pipeline.py\u001b[0m in \u001b[0;36mrun_config\u001b[0;34m(self, config)\u001b[0m\n\u001b[1;32m    371\u001b[0m         \"\"\"\n\u001b[1;32m    372\u001b[0m         \u001b[0;32massert\u001b[0m \u001b[0missubclass\u001b[0m\u001b[0;34m(\u001b[0m\u001b[0mself\u001b[0m\u001b[0;34m.\u001b[0m\u001b[0mbackend\u001b[0m\u001b[0;34m.\u001b[0m\u001b[0m__class__\u001b[0m\u001b[0;34m,\u001b[0m \u001b[0mOrchestratorBaseBackend\u001b[0m\u001b[0;34m)\u001b[0m\u001b[0;34m\u001b[0m\u001b[0;34m\u001b[0m\u001b[0m\n\u001b[0;32m--> 373\u001b[0;31m         \u001b[0mself\u001b[0m\u001b[0;34m.\u001b[0m\u001b[0mbackend\u001b[0m\u001b[0;34m.\u001b[0m\u001b[0mrun\u001b[0m\u001b[0;34m(\u001b[0m\u001b[0mconfig\u001b[0m\u001b[0;34m)\u001b[0m\u001b[0;34m\u001b[0m\u001b[0;34m\u001b[0m\u001b[0m\n\u001b[0m\u001b[1;32m    374\u001b[0m \u001b[0;34m\u001b[0m\u001b[0m\n\u001b[1;32m    375\u001b[0m     \u001b[0;34m@\u001b[0m\u001b[0mtrack\u001b[0m\u001b[0;34m(\u001b[0m\u001b[0mevent\u001b[0m\u001b[0;34m=\u001b[0m\u001b[0mRUN_PIPELINE\u001b[0m\u001b[0;34m)\u001b[0m\u001b[0;34m\u001b[0m\u001b[0;34m\u001b[0m\u001b[0m\n",
      "\u001b[0;32m~/workspace/maiot/github_temp/zenml/zenml/backends/orchestrator/base/orchestrator_base_backend.py\u001b[0m in \u001b[0;36mrun\u001b[0;34m(self, config)\u001b[0m\n\u001b[1;32m    107\u001b[0m         \"\"\"\n\u001b[1;32m    108\u001b[0m         \u001b[0mtfx_pipeline\u001b[0m \u001b[0;34m=\u001b[0m \u001b[0mself\u001b[0m\u001b[0;34m.\u001b[0m\u001b[0mget_tfx_pipeline\u001b[0m\u001b[0;34m(\u001b[0m\u001b[0mconfig\u001b[0m\u001b[0;34m)\u001b[0m\u001b[0;34m\u001b[0m\u001b[0;34m\u001b[0m\u001b[0m\n\u001b[0;32m--> 109\u001b[0;31m         \u001b[0mZenMLLocalDagRunner\u001b[0m\u001b[0;34m(\u001b[0m\u001b[0;34m)\u001b[0m\u001b[0;34m.\u001b[0m\u001b[0mrun\u001b[0m\u001b[0;34m(\u001b[0m\u001b[0mtfx_pipeline\u001b[0m\u001b[0;34m)\u001b[0m\u001b[0;34m\u001b[0m\u001b[0;34m\u001b[0m\u001b[0m\n\u001b[0m",
      "\u001b[0;32m~/workspace/maiot/github_temp/zenml/zenml/backends/orchestrator/base/zenml_local_orchestrator.py\u001b[0m in \u001b[0;36mrun\u001b[0;34m(self, tfx_pipeline)\u001b[0m\n\u001b[1;32m     52\u001b[0m                 component_config=component_config)\n\u001b[1;32m     53\u001b[0m             \u001b[0mlogger\u001b[0m\u001b[0;34m.\u001b[0m\u001b[0minfo\u001b[0m\u001b[0;34m(\u001b[0m\u001b[0;34m'Component %s is running.'\u001b[0m\u001b[0;34m,\u001b[0m \u001b[0mcomponent\u001b[0m\u001b[0;34m.\u001b[0m\u001b[0mid\u001b[0m\u001b[0;34m)\u001b[0m\u001b[0;34m\u001b[0m\u001b[0;34m\u001b[0m\u001b[0m\n\u001b[0;32m---> 54\u001b[0;31m             \u001b[0mcomponent_launcher\u001b[0m\u001b[0;34m.\u001b[0m\u001b[0mlaunch\u001b[0m\u001b[0;34m(\u001b[0m\u001b[0;34m)\u001b[0m\u001b[0;34m\u001b[0m\u001b[0;34m\u001b[0m\u001b[0m\n\u001b[0m\u001b[1;32m     55\u001b[0m             \u001b[0mlogger\u001b[0m\u001b[0;34m.\u001b[0m\u001b[0minfo\u001b[0m\u001b[0;34m(\u001b[0m\u001b[0;34m'Component %s is finished.'\u001b[0m\u001b[0;34m,\u001b[0m \u001b[0mcomponent\u001b[0m\u001b[0;34m.\u001b[0m\u001b[0mid\u001b[0m\u001b[0;34m)\u001b[0m\u001b[0;34m\u001b[0m\u001b[0;34m\u001b[0m\u001b[0m\n",
      "\u001b[0;32m~/.virtualenvs/zenml_main/lib/python3.6/site-packages/tfx/orchestration/launcher/base_component_launcher.py\u001b[0m in \u001b[0;36mlaunch\u001b[0;34m(self)\u001b[0m\n\u001b[1;32m    207\u001b[0m                          \u001b[0mcopy\u001b[0m\u001b[0;34m.\u001b[0m\u001b[0mdeepcopy\u001b[0m\u001b[0;34m(\u001b[0m\u001b[0mexecution_decision\u001b[0m\u001b[0;34m.\u001b[0m\u001b[0minput_dict\u001b[0m\u001b[0;34m)\u001b[0m\u001b[0;34m,\u001b[0m\u001b[0;34m\u001b[0m\u001b[0;34m\u001b[0m\u001b[0m\n\u001b[1;32m    208\u001b[0m                          \u001b[0mexecution_decision\u001b[0m\u001b[0;34m.\u001b[0m\u001b[0moutput_dict\u001b[0m\u001b[0;34m,\u001b[0m\u001b[0;34m\u001b[0m\u001b[0;34m\u001b[0m\u001b[0m\n\u001b[0;32m--> 209\u001b[0;31m                          copy.deepcopy(execution_decision.exec_properties))\n\u001b[0m\u001b[1;32m    210\u001b[0m \u001b[0;34m\u001b[0m\u001b[0m\n\u001b[1;32m    211\u001b[0m     absl.logging.info('Running publisher for %s',\n",
      "\u001b[0;32m~/.virtualenvs/zenml_main/lib/python3.6/site-packages/tfx/orchestration/launcher/in_process_component_launcher.py\u001b[0m in \u001b[0;36m_run_executor\u001b[0;34m(self, execution_id, input_dict, output_dict, exec_properties)\u001b[0m\n\u001b[1;32m     70\u001b[0m     \u001b[0;31m# output_dict can still be changed, specifically properties.\u001b[0m\u001b[0;34m\u001b[0m\u001b[0;34m\u001b[0m\u001b[0;34m\u001b[0m\u001b[0m\n\u001b[1;32m     71\u001b[0m     executor.Do(\n\u001b[0;32m---> 72\u001b[0;31m         copy.deepcopy(input_dict), output_dict, copy.deepcopy(exec_properties))\n\u001b[0m",
      "\u001b[0;32m~/.virtualenvs/zenml_main/lib/python3.6/site-packages/tfx/extensions/google_cloud_ai_platform/trainer/executor.py\u001b[0m in \u001b[0;36mDo\u001b[0;34m(self, input_dict, output_dict, exec_properties)\u001b[0m\n\u001b[1;32m     83\u001b[0m     return runner.start_aip_training(input_dict, output_dict, exec_properties,\n\u001b[1;32m     84\u001b[0m                                      \u001b[0mexecutor_class_path\u001b[0m\u001b[0;34m,\u001b[0m \u001b[0mtraining_inputs\u001b[0m\u001b[0;34m,\u001b[0m\u001b[0;34m\u001b[0m\u001b[0;34m\u001b[0m\u001b[0m\n\u001b[0;32m---> 85\u001b[0;31m                                      job_id)\n\u001b[0m\u001b[1;32m     86\u001b[0m \u001b[0;34m\u001b[0m\u001b[0m\n\u001b[1;32m     87\u001b[0m \u001b[0;34m\u001b[0m\u001b[0m\n",
      "\u001b[0;32m~/.virtualenvs/zenml_main/lib/python3.6/site-packages/tfx/extensions/google_cloud_ai_platform/runner.py\u001b[0m in \u001b[0;36mstart_aip_training\u001b[0;34m(input_dict, output_dict, exec_properties, executor_class_path, training_inputs, job_id)\u001b[0m\n\u001b[1;32m    303\u001b[0m       \u001b[0mproject\u001b[0m\u001b[0;34m=\u001b[0m\u001b[0mproject\u001b[0m\u001b[0;34m,\u001b[0m\u001b[0;34m\u001b[0m\u001b[0;34m\u001b[0m\u001b[0m\n\u001b[1;32m    304\u001b[0m       \u001b[0mtraining_input\u001b[0m\u001b[0;34m=\u001b[0m\u001b[0mtraining_inputs\u001b[0m\u001b[0;34m,\u001b[0m\u001b[0;34m\u001b[0m\u001b[0;34m\u001b[0m\u001b[0m\n\u001b[0;32m--> 305\u001b[0;31m       job_labels=job_labels)\n\u001b[0m\u001b[1;32m    306\u001b[0m \u001b[0;34m\u001b[0m\u001b[0m\n\u001b[1;32m    307\u001b[0m \u001b[0;34m\u001b[0m\u001b[0m\n",
      "\u001b[0;32m~/.virtualenvs/zenml_main/lib/python3.6/site-packages/tfx/extensions/google_cloud_ai_platform/runner.py\u001b[0m in \u001b[0;36m_launch_aip_training\u001b[0;34m(job_id, project, training_input, job_labels)\u001b[0m\n\u001b[1;32m    143\u001b[0m   request = api_client.projects().jobs().create(\n\u001b[1;32m    144\u001b[0m       body=job_spec, parent=project_id)\n\u001b[0;32m--> 145\u001b[0;31m   \u001b[0mrequest\u001b[0m\u001b[0;34m.\u001b[0m\u001b[0mexecute\u001b[0m\u001b[0;34m(\u001b[0m\u001b[0;34m)\u001b[0m\u001b[0;34m\u001b[0m\u001b[0;34m\u001b[0m\u001b[0m\n\u001b[0m\u001b[1;32m    146\u001b[0m \u001b[0;34m\u001b[0m\u001b[0m\n\u001b[1;32m    147\u001b[0m   \u001b[0;31m# Wait for AIP Training job to finish\u001b[0m\u001b[0;34m\u001b[0m\u001b[0;34m\u001b[0m\u001b[0;34m\u001b[0m\u001b[0m\n",
      "\u001b[0;32m~/.virtualenvs/zenml_main/lib/python3.6/site-packages/googleapiclient/_helpers.py\u001b[0m in \u001b[0;36mpositional_wrapper\u001b[0;34m(*args, **kwargs)\u001b[0m\n\u001b[1;32m    132\u001b[0m                 \u001b[0;32melif\u001b[0m \u001b[0mpositional_parameters_enforcement\u001b[0m \u001b[0;34m==\u001b[0m \u001b[0mPOSITIONAL_WARNING\u001b[0m\u001b[0;34m:\u001b[0m\u001b[0;34m\u001b[0m\u001b[0;34m\u001b[0m\u001b[0m\n\u001b[1;32m    133\u001b[0m                     \u001b[0mlogger\u001b[0m\u001b[0;34m.\u001b[0m\u001b[0mwarning\u001b[0m\u001b[0;34m(\u001b[0m\u001b[0mmessage\u001b[0m\u001b[0;34m)\u001b[0m\u001b[0;34m\u001b[0m\u001b[0;34m\u001b[0m\u001b[0m\n\u001b[0;32m--> 134\u001b[0;31m             \u001b[0;32mreturn\u001b[0m \u001b[0mwrapped\u001b[0m\u001b[0;34m(\u001b[0m\u001b[0;34m*\u001b[0m\u001b[0margs\u001b[0m\u001b[0;34m,\u001b[0m \u001b[0;34m**\u001b[0m\u001b[0mkwargs\u001b[0m\u001b[0;34m)\u001b[0m\u001b[0;34m\u001b[0m\u001b[0;34m\u001b[0m\u001b[0m\n\u001b[0m\u001b[1;32m    135\u001b[0m \u001b[0;34m\u001b[0m\u001b[0m\n\u001b[1;32m    136\u001b[0m         \u001b[0;32mreturn\u001b[0m \u001b[0mpositional_wrapper\u001b[0m\u001b[0;34m\u001b[0m\u001b[0;34m\u001b[0m\u001b[0m\n",
      "\u001b[0;32m~/.virtualenvs/zenml_main/lib/python3.6/site-packages/googleapiclient/http.py\u001b[0m in \u001b[0;36mexecute\u001b[0;34m(self, http, num_retries)\u001b[0m\n\u001b[1;32m    913\u001b[0m             \u001b[0mcallback\u001b[0m\u001b[0;34m(\u001b[0m\u001b[0mresp\u001b[0m\u001b[0;34m)\u001b[0m\u001b[0;34m\u001b[0m\u001b[0;34m\u001b[0m\u001b[0m\n\u001b[1;32m    914\u001b[0m         \u001b[0;32mif\u001b[0m \u001b[0mresp\u001b[0m\u001b[0;34m.\u001b[0m\u001b[0mstatus\u001b[0m \u001b[0;34m>=\u001b[0m \u001b[0;36m300\u001b[0m\u001b[0;34m:\u001b[0m\u001b[0;34m\u001b[0m\u001b[0;34m\u001b[0m\u001b[0m\n\u001b[0;32m--> 915\u001b[0;31m             \u001b[0;32mraise\u001b[0m \u001b[0mHttpError\u001b[0m\u001b[0;34m(\u001b[0m\u001b[0mresp\u001b[0m\u001b[0;34m,\u001b[0m \u001b[0mcontent\u001b[0m\u001b[0;34m,\u001b[0m \u001b[0muri\u001b[0m\u001b[0;34m=\u001b[0m\u001b[0mself\u001b[0m\u001b[0;34m.\u001b[0m\u001b[0muri\u001b[0m\u001b[0;34m)\u001b[0m\u001b[0;34m\u001b[0m\u001b[0;34m\u001b[0m\u001b[0m\n\u001b[0m\u001b[1;32m    916\u001b[0m         \u001b[0;32mreturn\u001b[0m \u001b[0mself\u001b[0m\u001b[0;34m.\u001b[0m\u001b[0mpostproc\u001b[0m\u001b[0;34m(\u001b[0m\u001b[0mresp\u001b[0m\u001b[0;34m,\u001b[0m \u001b[0mcontent\u001b[0m\u001b[0;34m)\u001b[0m\u001b[0;34m\u001b[0m\u001b[0;34m\u001b[0m\u001b[0m\n\u001b[1;32m    917\u001b[0m \u001b[0;34m\u001b[0m\u001b[0m\n",
      "\u001b[0;31mHttpError\u001b[0m: <HttpError 409 when requesting https://ml.googleapis.com/v1/projects/core-engine/jobs?alt=json returned \"Field: job.job_id Error: A job with this id already exists.\". Details: \"[{'@type': 'type.googleapis.com/google.rpc.BadRequest', 'fieldViolations': [{'field': 'job.job_id', 'description': 'A job with this id already exists.'}]}]\">"
     ]
    }
   ],
   "source": [
    "training_pipeline_5 = training_pipeline.copy('Experiment 5')\n",
    "training_pipeline_5.add_deployment(\n",
    "    GCAIPDeployer(\n",
    "        project_id=GCP_PROJECT,\n",
    "        model_name=MODEL_NAME,\n",
    "    )\n",
    ")\n",
    "\n",
    "training_pipeline_5.run(artifact_store=artifact_store)"
   ]
  },
  {
   "cell_type": "markdown",
   "metadata": {},
   "source": [
    "## Option 2: Deploy to Kubernetes via Cortex"
   ]
  },
  {
   "cell_type": "code",
   "execution_count": null,
   "metadata": {},
   "outputs": [],
   "source": [
    "training_pipeline = repo.get_pipeline_by_name('Experiment 1')"
   ]
  },
  {
   "cell_type": "code",
   "execution_count": null,
   "metadata": {
    "scrolled": false
   },
   "outputs": [],
   "source": [
    "training_pipeline_6 = training_pipeline.copy('Experiment 7')\n",
    "\n",
    "# Add cortex deployer\n",
    "api_config = {\n",
    "    \"name\": MODEL_NAME,\n",
    "    \"kind\": \"RealtimeAPI\",\n",
    "    \"predictor\": {\n",
    "        \"type\": \"tensorflow\",\n",
    "        \"models\": {\"signature_key\": \"serving_default\"}}\n",
    "}\n",
    "training_pipeline.add_deployment(\n",
    "    CortexDeployer(\n",
    "        env=CORTEX_ENV,\n",
    "        api_config=api_config,\n",
    "        predictor=TensorFlowPredictor,\n",
    "    )\n",
    ")\n",
    "\n",
    "training_pipeline_6.run(artifact_store=artifact_store)"
   ]
  }
 ],
 "metadata": {
  "kernelspec": {
   "display_name": "Python 3",
   "language": "python",
   "name": "python3"
  },
  "language_info": {
   "codemirror_mode": {
    "name": "ipython",
    "version": 3
   },
   "file_extension": ".py",
   "mimetype": "text/x-python",
   "name": "python",
   "nbconvert_exporter": "python",
   "pygments_lexer": "ipython3",
   "version": "3.6.9"
  }
 },
 "nbformat": 4,
 "nbformat_minor": 4
}
