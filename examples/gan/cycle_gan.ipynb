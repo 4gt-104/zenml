{
 "cells": [
  {
   "cell_type": "markdown",
   "metadata": {
    "collapsed": true,
    "pycharm": {
     "name": "#%% md\n"
    }
   },
   "source": [
    "# How to style images using CycleGAN"
   ]
  },
  {
   "cell_type": "code",
   "execution_count": null,
   "metadata": {
    "pycharm": {
     "name": "#%%\n"
    }
   },
   "outputs": [],
   "source": [
    "from zenml.core.datasources.image_datasource import ImageDatasource\n",
    "from zenml.core.pipelines.training_pipeline import TrainingPipeline\n",
    "from zenml.core.steps.split.categorical_domain_split_step import \\\n",
    "    CategoricalDomainSplit\n",
    "from zenml.core.repo.repo import Repository\n",
    "from examples.gan.trainer.trainer_step import CycleGANTrainer\n",
    "from examples.gan.preprocessing.preprocessor import GANPreprocessor"
   ]
  },
  {
   "cell_type": "markdown",
   "metadata": {},
   "source": [
    "First we instantiate our current ZenML repository. That way, if you run this notebook\n",
    "multiple times in succession, you will not run into trouble with errors on datasource\n",
    "creation."
   ]
  },
  {
   "cell_type": "code",
   "execution_count": null,
   "metadata": {
    "pycharm": {
     "name": "#%%\n"
    }
   },
   "outputs": [],
   "source": [
    "# First initialize the repository by calling `zenml init` in this folder from the\n",
    "# command line\n",
    "repo = Repository.get_instance()"
   ]
  },
  {
   "cell_type": "markdown",
   "metadata": {
    "pycharm": {
     "name": "#%% md\n"
    }
   },
   "source": [
    "### Creating the pipeline\n",
    "\n",
    "Now we create the training pipeline that we will run our experiment with. We enable\n",
    "caching by default, as it saves computation time by saving results that do not have to\n",
    "be recomputed over and over again, such as splits or preprocessing."
   ]
  },
  {
   "cell_type": "code",
   "execution_count": null,
   "metadata": {
    "pycharm": {
     "name": "#%%\n"
    }
   },
   "outputs": [],
   "source": [
    "gan_pipeline = TrainingPipeline(name=\"gan_test\", enable_cache=True)"
   ]
  },
  {
   "cell_type": "markdown",
   "metadata": {
    "pycharm": {
     "name": "#%% md\n"
    }
   },
   "source": [
    "### Creating the datasource\n",
    "\n",
    "Next, we create the image datasource for the GAN. If you have not run it before, run the\n",
    "`gan_images_ce.py` script located in this folder before executing the next cell,\n",
    "which will create a base directory and a label file for use in your ZenML image source."
   ]
  },
  {
   "cell_type": "code",
   "execution_count": null,
   "metadata": {
    "pycharm": {
     "name": "#%%\n"
    }
   },
   "outputs": [],
   "source": [
    "try:\n",
    "    ds = ImageDatasource(name=\"gan_images\",\n",
    "                         base_path=\"/Users/nicholasjunge/workspaces/maiot/ce_project/images_mini\")\n",
    "except:\n",
    "    ds = repo.get_datasource_by_name('gan_images')"
   ]
  },
  {
   "cell_type": "markdown",
   "source": [
    "### Adding the datasource to the pipeline\n",
    "\n",
    "The datasource is the first step in the pipeline, because it supplies the data on\n",
    "which the model will be trained. You can add it to the pipeline as follows:"
   ],
   "metadata": {
    "collapsed": false,
    "pycharm": {
     "name": "#%% md\n"
    }
   }
  },
  {
   "cell_type": "code",
   "execution_count": null,
   "outputs": [],
   "source": [
    "gan_pipeline.add_datasource(ds)"
   ],
   "metadata": {
    "collapsed": false,
    "pycharm": {
     "name": "#%%\n"
    }
   }
  },
  {
   "cell_type": "markdown",
   "metadata": {},
   "source": [
    "### Add a split\n",
    "\n",
    "To prepare our images, we need to separate the real images from the styled ones (Monet\n",
    "paintings in this case). Therefore, we add the image type (real or Monet) as a label\n",
    "and split on that. The real images are going to be saved as evaluation data, because we\n",
    "will use them later in image style generation."
   ]
  },
  {
   "cell_type": "code",
   "execution_count": null,
   "metadata": {
    "pycharm": {
     "name": "#%%\n"
    }
   },
   "outputs": [],
   "source": [
    "gan_pipeline.add_split(CategoricalDomainSplit(categorical_column=\"label\",\n",
    "                                              split_map={\"train\": [\"monet\"],\n",
    "                                                         \"eval\": [\"real\"]}))"
   ]
  },
  {
   "cell_type": "markdown",
   "metadata": {
    "pycharm": {
     "name": "#%% md\n"
    }
   },
   "source": [
    "### Add a preprocessing step\n",
    "\n",
    "Next, we add a small preprocessing step for our image. It is defined in the\n",
    "`preprocessing.py` file in this folder, and contains two separate steps: Loading the\n",
    "image (up to this point, it is persisted as a binary string) and normalizing its values\n",
    " between -1 and 1."
   ]
  },
  {
   "cell_type": "code",
   "execution_count": null,
   "metadata": {
    "pycharm": {
     "name": "#%%\n"
    }
   },
   "outputs": [],
   "source": [
    "gan_pipeline.add_preprocesser(GANPreprocessor())"
   ]
  },
  {
   "cell_type": "markdown",
   "metadata": {},
   "source": [
    "### Add a training step\n",
    "\n",
    "Now we come to what is the most involved part of this example - a custom trainer step.\n",
    "It is defined in the `gan_functions.py` file in this folder, and contains a Keras\n",
    "implementation of the CycleGAN model architecture. Along with this, it also comes with\n",
    "utilities for loading data, preparing it as `tf.data.Dataset`s and signature definitions,\n",
    "for when you want to push a model e.g. to Google Cloud AI Platform."
   ]
  },
  {
   "cell_type": "code",
   "execution_count": null,
   "metadata": {
    "pycharm": {
     "name": "#%%\n"
    }
   },
   "outputs": [],
   "source": [
    "gan_pipeline.add_trainer(CycleGANTrainer(epochs=25))"
   ]
  },
  {
   "cell_type": "markdown",
   "source": [
    "### Run your pipeline\n",
    "Now that all the required steps are in place, it is time to run the newly created\n",
    "pipeline!"
   ],
   "metadata": {
    "collapsed": false,
    "pycharm": {
     "name": "#%% md\n"
    }
   }
  },
  {
   "cell_type": "code",
   "execution_count": null,
   "outputs": [],
   "source": [
    "gan_pipeline.run()"
   ],
   "metadata": {
    "collapsed": false,
    "pycharm": {
     "name": "#%%\n"
    }
   }
  },
  {
   "cell_type": "markdown",
   "metadata": {
    "pycharm": {
     "name": "#%% md\n"
    }
   },
   "source": [
    "And that is it! If you studied the contents of the `gan_functions.py` file, you will\n",
    "notice that there's also a custom callback function implemented. It uses TensorBoard\n",
    "to display the same single, Monet-styled image generated by the CycleGAN after each\n",
    "epoch of learning. There is a neat little slider that lets you look through all logged\n",
    "epochs - that way, you can visualize the CycleGAN's style learning process.\n",
    "\n",
    "That's it for this tutorial! By tuning some hyperparameters and training for more\n",
    "epochs, you can also create high quality Monet renderings of real images. And when\n",
    "you are successful, you immediately know the best configuration because it is all\n",
    "logged by the immutability of the pipeline! That way, you can immediately share your\n",
    "YAML configuration file to other people that can reproduce the results.\n",
    "\n",
    "We hope you had fun with this tutorial, and see you for the next one!"
   ]
  }
 ],
 "metadata": {
  "kernelspec": {
   "display_name": "Python 3",
   "language": "python",
   "name": "python3"
  },
  "language_info": {
   "codemirror_mode": {
    "name": "ipython",
    "version": 3
   },
   "file_extension": ".py",
   "mimetype": "text/x-python",
   "name": "python",
   "nbconvert_exporter": "python",
   "pygments_lexer": "ipython3",
   "version": "3.6.9"
  }
 },
 "nbformat": 4,
 "nbformat_minor": 1
}