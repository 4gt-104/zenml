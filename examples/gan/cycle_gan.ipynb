{
 "cells": [
  {
   "cell_type": "markdown",
   "metadata": {
    "collapsed": true,
    "pycharm": {
     "name": "#%% md\n"
    }
   },
   "source": [
    "# How to style images using CycleGAN"
   ]
  },
  {
   "cell_type": "code",
   "execution_count": 1,
   "outputs": [],
   "source": [
    "from zenml.core.datasources.image_datasource import ImageDatasource\n",
    "from zenml.core.pipelines.training_pipeline import TrainingPipeline\n",
    "from zenml.core.steps.split.categorical_domain_split_step import \\\n",
    "    CategoricalDomainSplit\n",
    "from examples.gan.trainer.trainer_step import CycleGANTrainer\n",
    "from examples.gan.preprocessing.preprocessor import GANPreprocessor"
   ],
   "metadata": {
    "collapsed": false,
    "pycharm": {
     "name": "#%%\n"
    }
   }
  },
  {
   "cell_type": "markdown",
   "source": [
    "First we instantiate our current ZenML repository. That way, if you run this notebook\n",
    "multiple times in succession, you will not run into trouble with errors on datasource\n",
    "creation."
   ],
   "metadata": {
    "collapsed": false
   }
  },
  {
   "cell_type": "code",
   "execution_count": 2,
   "outputs": [],
   "source": [
    "# First initialize the repository by calling `zenml init` in this folder from the\n",
    "# command line\n",
    "\n",
    "#repo = Repository.get_instance()"
   ],
   "metadata": {
    "collapsed": false,
    "pycharm": {
     "name": "#%%\n"
    }
   }
  },
  {
   "cell_type": "markdown",
   "source": [
    "### Creating the pipeline\n",
    "\n",
    "Now we create the training pipeline that we will run our experiment with. We enable\n",
    "caching by default, as it saves computation time by saving results that do not have to\n",
    "be recomputed over and over again, such as splits or preprocessing."
   ],
   "metadata": {
    "collapsed": false,
    "pycharm": {
     "name": "#%% md\n"
    }
   }
  },
  {
   "cell_type": "code",
   "execution_count": 3,
   "outputs": [
    {
     "ename": "TypeError",
     "evalue": "Expected binary or unicode string, got PosixPath('/Users/nicholasjunge/workspaces/maiot/zenml')",
     "output_type": "error",
     "traceback": [
      "\u001B[0;31m---------------------------------------------------------------------------\u001B[0m",
      "\u001B[0;31mTypeError\u001B[0m                                 Traceback (most recent call last)",
      "\u001B[0;32m<ipython-input-3-fe268726457c>\u001B[0m in \u001B[0;36m<module>\u001B[0;34m\u001B[0m\n\u001B[0;32m----> 1\u001B[0;31m \u001B[0mgan_pipeline\u001B[0m \u001B[0;34m=\u001B[0m \u001B[0mTrainingPipeline\u001B[0m\u001B[0;34m(\u001B[0m\u001B[0mname\u001B[0m\u001B[0;34m=\u001B[0m\u001B[0;34m\"gan_test\"\u001B[0m\u001B[0;34m,\u001B[0m \u001B[0menable_cache\u001B[0m\u001B[0;34m=\u001B[0m\u001B[0;32mTrue\u001B[0m\u001B[0;34m)\u001B[0m\u001B[0;34m\u001B[0m\u001B[0;34m\u001B[0m\u001B[0m\n\u001B[0m\u001B[1;32m      2\u001B[0m \u001B[0;34m\u001B[0m\u001B[0m\n",
      "\u001B[0;32m~/workspaces/maiot/zenml/zenml/core/pipelines/base_pipeline.py\u001B[0m in \u001B[0;36m__init__\u001B[0;34m(self, name, enable_cache, steps_dict, backends_dict, metadata_store, artifact_store, datasource, pipeline_name, *args, **kwargs)\u001B[0m\n\u001B[1;32m     80\u001B[0m             \u001B[0;31m# use default\u001B[0m\u001B[0;34m\u001B[0m\u001B[0;34m\u001B[0m\u001B[0;34m\u001B[0m\u001B[0m\n\u001B[1;32m     81\u001B[0m             \u001B[0mself\u001B[0m\u001B[0;34m.\u001B[0m\u001B[0mmetadata_store\u001B[0m\u001B[0;34m:\u001B[0m \u001B[0mZenMLMetadataStore\u001B[0m \u001B[0;34m=\u001B[0m\u001B[0;31m \u001B[0m\u001B[0;31m\\\u001B[0m\u001B[0;34m\u001B[0m\u001B[0;34m\u001B[0m\u001B[0m\n\u001B[0;32m---> 82\u001B[0;31m                 \u001B[0mRepository\u001B[0m\u001B[0;34m.\u001B[0m\u001B[0mget_instance\u001B[0m\u001B[0;34m(\u001B[0m\u001B[0;34m)\u001B[0m\u001B[0;34m.\u001B[0m\u001B[0mget_default_metadata_store\u001B[0m\u001B[0;34m(\u001B[0m\u001B[0;34m)\u001B[0m\u001B[0;34m\u001B[0m\u001B[0;34m\u001B[0m\u001B[0m\n\u001B[0m\u001B[1;32m     83\u001B[0m \u001B[0;34m\u001B[0m\u001B[0m\n\u001B[1;32m     84\u001B[0m         \u001B[0;32mif\u001B[0m \u001B[0mpipeline_name\u001B[0m\u001B[0;34m:\u001B[0m\u001B[0;34m\u001B[0m\u001B[0;34m\u001B[0m\u001B[0m\n",
      "\u001B[0;32m~/workspaces/maiot/zenml/zenml/core/repo/repo.py\u001B[0m in \u001B[0;36mget_instance\u001B[0;34m(path)\u001B[0m\n\u001B[1;32m     97\u001B[0m         \u001B[0mlogger\u001B[0m\u001B[0;34m.\u001B[0m\u001B[0mdebug\u001B[0m\u001B[0;34m(\u001B[0m\u001B[0;34m'Repository instance fetched.'\u001B[0m\u001B[0;34m)\u001B[0m\u001B[0;34m\u001B[0m\u001B[0;34m\u001B[0m\u001B[0m\n\u001B[1;32m     98\u001B[0m         \u001B[0;32mif\u001B[0m \u001B[0;32mnot\u001B[0m \u001B[0mRepository\u001B[0m\u001B[0;34m.\u001B[0m\u001B[0m__instance__\u001B[0m\u001B[0;34m:\u001B[0m\u001B[0;34m\u001B[0m\u001B[0;34m\u001B[0m\u001B[0m\n\u001B[0;32m---> 99\u001B[0;31m             \u001B[0mRepository\u001B[0m\u001B[0;34m(\u001B[0m\u001B[0mpath\u001B[0m\u001B[0;34m)\u001B[0m\u001B[0;34m\u001B[0m\u001B[0;34m\u001B[0m\u001B[0m\n\u001B[0m\u001B[1;32m    100\u001B[0m         \u001B[0;32mreturn\u001B[0m \u001B[0mRepository\u001B[0m\u001B[0;34m.\u001B[0m\u001B[0m__instance__\u001B[0m\u001B[0;34m\u001B[0m\u001B[0;34m\u001B[0m\u001B[0m\n\u001B[1;32m    101\u001B[0m \u001B[0;34m\u001B[0m\u001B[0m\n",
      "\u001B[0;32m~/workspaces/maiot/zenml/zenml/core/repo/repo.py\u001B[0m in \u001B[0;36m__init__\u001B[0;34m(self, path)\u001B[0m\n\u001B[1;32m     56\u001B[0m                     \u001B[0mpath\u001B[0m \u001B[0;34m=\u001B[0m \u001B[0mos\u001B[0m\u001B[0;34m.\u001B[0m\u001B[0mgetcwd\u001B[0m\u001B[0;34m(\u001B[0m\u001B[0;34m)\u001B[0m\u001B[0;34m\u001B[0m\u001B[0;34m\u001B[0m\u001B[0m\n\u001B[1;32m     57\u001B[0m \u001B[0;34m\u001B[0m\u001B[0m\n\u001B[0;32m---> 58\u001B[0;31m             \u001B[0;32mif\u001B[0m \u001B[0;32mnot\u001B[0m \u001B[0mpath_utils\u001B[0m\u001B[0;34m.\u001B[0m\u001B[0mis_dir\u001B[0m\u001B[0;34m(\u001B[0m\u001B[0mpath\u001B[0m\u001B[0;34m)\u001B[0m\u001B[0;34m:\u001B[0m\u001B[0;34m\u001B[0m\u001B[0;34m\u001B[0m\u001B[0m\n\u001B[0m\u001B[1;32m     59\u001B[0m                 \u001B[0;32mraise\u001B[0m \u001B[0mException\u001B[0m\u001B[0;34m(\u001B[0m\u001B[0;34mf'{path} does not exist or is not a dir!'\u001B[0m\u001B[0;34m)\u001B[0m\u001B[0;34m\u001B[0m\u001B[0;34m\u001B[0m\u001B[0m\n\u001B[1;32m     60\u001B[0m             \u001B[0mself\u001B[0m\u001B[0;34m.\u001B[0m\u001B[0mpath\u001B[0m \u001B[0;34m=\u001B[0m \u001B[0mpath\u001B[0m\u001B[0;34m\u001B[0m\u001B[0;34m\u001B[0m\u001B[0m\n",
      "\u001B[0;32m~/workspaces/maiot/zenml/zenml/utils/path_utils.py\u001B[0m in \u001B[0;36mis_dir\u001B[0;34m(dir_path)\u001B[0m\n\u001B[1;32m     42\u001B[0m         \u001B[0mdir_path\u001B[0m \u001B[0;34m(\u001B[0m\u001B[0mstr\u001B[0m\u001B[0;34m)\u001B[0m\u001B[0;34m:\u001B[0m \u001B[0mLocal\u001B[0m \u001B[0mpath\u001B[0m \u001B[0;32min\u001B[0m \u001B[0mfilesystem\u001B[0m\u001B[0;34m.\u001B[0m\u001B[0;34m\u001B[0m\u001B[0;34m\u001B[0m\u001B[0m\n\u001B[1;32m     43\u001B[0m     \"\"\"\n\u001B[0;32m---> 44\u001B[0;31m     \u001B[0;32mreturn\u001B[0m \u001B[0mfile_io\u001B[0m\u001B[0;34m.\u001B[0m\u001B[0mis_directory_v2\u001B[0m\u001B[0;34m(\u001B[0m\u001B[0mdir_path\u001B[0m\u001B[0;34m)\u001B[0m\u001B[0;34m\u001B[0m\u001B[0;34m\u001B[0m\u001B[0m\n\u001B[0m\u001B[1;32m     45\u001B[0m \u001B[0;34m\u001B[0m\u001B[0m\n\u001B[1;32m     46\u001B[0m \u001B[0;34m\u001B[0m\u001B[0m\n",
      "\u001B[0;32m~/workspaces/maiot/zenml/venv/lib/python3.7/site-packages/tensorflow/python/lib/io/file_io.py\u001B[0m in \u001B[0;36mis_directory_v2\u001B[0;34m(path)\u001B[0m\n\u001B[1;32m    624\u001B[0m   \"\"\"\n\u001B[1;32m    625\u001B[0m   \u001B[0;32mtry\u001B[0m\u001B[0;34m:\u001B[0m\u001B[0;34m\u001B[0m\u001B[0;34m\u001B[0m\u001B[0m\n\u001B[0;32m--> 626\u001B[0;31m     \u001B[0;32mreturn\u001B[0m \u001B[0m_pywrap_file_io\u001B[0m\u001B[0;34m.\u001B[0m\u001B[0mIsDirectory\u001B[0m\u001B[0;34m(\u001B[0m\u001B[0mcompat\u001B[0m\u001B[0;34m.\u001B[0m\u001B[0mas_bytes\u001B[0m\u001B[0;34m(\u001B[0m\u001B[0mpath\u001B[0m\u001B[0;34m)\u001B[0m\u001B[0;34m)\u001B[0m\u001B[0;34m\u001B[0m\u001B[0;34m\u001B[0m\u001B[0m\n\u001B[0m\u001B[1;32m    627\u001B[0m   \u001B[0;32mexcept\u001B[0m \u001B[0merrors\u001B[0m\u001B[0;34m.\u001B[0m\u001B[0mOpError\u001B[0m\u001B[0;34m:\u001B[0m\u001B[0;34m\u001B[0m\u001B[0;34m\u001B[0m\u001B[0m\n\u001B[1;32m    628\u001B[0m     \u001B[0;32mreturn\u001B[0m \u001B[0;32mFalse\u001B[0m\u001B[0;34m\u001B[0m\u001B[0;34m\u001B[0m\u001B[0m\n",
      "\u001B[0;32m~/workspaces/maiot/zenml/venv/lib/python3.7/site-packages/tensorflow/python/util/compat.py\u001B[0m in \u001B[0;36mas_bytes\u001B[0;34m(bytes_or_text, encoding)\u001B[0m\n\u001B[1;32m     85\u001B[0m   \u001B[0;32melse\u001B[0m\u001B[0;34m:\u001B[0m\u001B[0;34m\u001B[0m\u001B[0;34m\u001B[0m\u001B[0m\n\u001B[1;32m     86\u001B[0m     raise TypeError('Expected binary or unicode string, got %r' %\n\u001B[0;32m---> 87\u001B[0;31m                     (bytes_or_text,))\n\u001B[0m\u001B[1;32m     88\u001B[0m \u001B[0;34m\u001B[0m\u001B[0m\n\u001B[1;32m     89\u001B[0m \u001B[0;34m\u001B[0m\u001B[0m\n",
      "\u001B[0;31mTypeError\u001B[0m: Expected binary or unicode string, got PosixPath('/Users/nicholasjunge/workspaces/maiot/zenml')"
     ]
    }
   ],
   "source": [
    "gan_pipeline = TrainingPipeline(name=\"gan_test\", enable_cache=True)"
   ],
   "metadata": {
    "collapsed": false,
    "pycharm": {
     "name": "#%%\n"
    }
   }
  },
  {
   "cell_type": "markdown",
   "source": [
    "### Creating the datasource\n",
    "\n",
    "Next, we create the image datasource for the GAN. If you have not run it before, run the\n",
    "`gan_images_ce.py` script located in this folder before executing the next cell,\n",
    "which will create a base directory and a label file for use in your ZenML image source."
   ],
   "metadata": {
    "collapsed": false,
    "pycharm": {
     "name": "#%% md\n"
    }
   }
  },
  {
   "cell_type": "code",
   "source": [
    "try:\n",
    "    ds = ImageDatasource(name=\"gan_images\",\n",
    "                         base_path=\"/Users/nicholasjunge/workspaces/maiot/ce_project/images_mini\")\n",
    "except Exception as e:\n",
    "    print(e)\n",
    "    #ds = repo.get_datasource_by_name('gan_images')"
   ],
   "metadata": {
    "collapsed": false,
    "pycharm": {
     "name": "#%%\n"
    }
   },
   "execution_count": null,
   "outputs": []
  },
  {
   "cell_type": "markdown",
   "source": [
    "### Add a split\n",
    "\n",
    "To prepare our images, we need to separate the real images from the styled ones (Monet\n",
    "paintings in this case). Therefore, we add the image type (real or Monet) as a label\n",
    "and split on that. The real images are going to be saved as evaluation data, because we\n",
    "will use them later in image style generation."
   ],
   "metadata": {
    "collapsed": false
   }
  },
  {
   "cell_type": "code",
   "execution_count": null,
   "outputs": [],
   "source": [
    "gan_pipeline.add_split(CategoricalDomainSplit(categorical_column=\"label\",\n",
    "                                              split_map={\"train\": [\"monet\"],\n",
    "                                                         \"eval\": [\"real\"]}))"
   ],
   "metadata": {
    "collapsed": false,
    "pycharm": {
     "name": "#%%\n"
    }
   }
  },
  {
   "cell_type": "markdown",
   "source": [
    "### Add a preprocessing step\n",
    "\n",
    "Next, we add a small preprocessing step for our image. It is defined in the\n",
    "`preprocessing.py` file in this folder, and contains two separate steps: Loading the\n",
    "image (up to this point, it is persisted as a binary string) and normalizing its values\n",
    " between -1 and 1."
   ],
   "metadata": {
    "collapsed": false,
    "pycharm": {
     "name": "#%% md\n"
    }
   }
  },
  {
   "cell_type": "code",
   "execution_count": null,
   "outputs": [],
   "source": [
    "gan_pipeline.add_preprocesser(GANPreprocessor())"
   ],
   "metadata": {
    "collapsed": false,
    "pycharm": {
     "name": "#%%\n"
    }
   }
  },
  {
   "cell_type": "markdown",
   "source": [
    "### Add a training step\n",
    "\n",
    "Now we come to what is the most involved part of this example - a custom trainer step.\n",
    "It is defined in the `gan_functions.py` file in this folder, and contains a Keras\n",
    "implementation of the CycleGAN model architecture. Along with this, it also comes with\n",
    "utilities for loading data, preparing it as `tf.data.Dataset`s and signature definitions,\n",
    "for when you want to push a model e.g. to Google Cloud AI Platform."
   ],
   "metadata": {
    "collapsed": false
   }
  },
  {
   "cell_type": "code",
   "execution_count": null,
   "outputs": [],
   "source": [
    "gan_pipeline.add_trainer(CycleGANTrainer(epochs=25))"
   ],
   "metadata": {
    "collapsed": false,
    "pycharm": {
     "name": "#%%\n"
    }
   }
  },
  {
   "cell_type": "markdown",
   "source": [
    "And that is it! If you studied the contents of the `gan_functions.py` file, you will\n",
    "notice that there's also a custom callback function implemented. It uses TensorBoard\n",
    "to display the same single, Monet-styled image generated by the CycleGAN after each\n",
    "epoch of learning. There is a neat little slider that lets you look through all logged\n",
    "epochs - that way, you can visualize the CycleGAN's style learning process.\n",
    "\n",
    "That's it for this tutorial! By tuning some hyperparameters and training for more\n",
    "epochs, you can also create high quality Monet renderings of real images. And when\n",
    "you are successful, you immediately know the best configuration because it is all\n",
    "logged by the immutability of the pipeline! That way, you can immediately share your\n",
    "configuration for other people to reproduce.\n",
    "\n",
    "We hope you had fun with this tutorial, and see you for the next one!"
   ],
   "metadata": {
    "collapsed": false,
    "pycharm": {
     "name": "#%% md\n"
    }
   }
  }
 ],
 "metadata": {
  "kernelspec": {
   "display_name": "Python 3",
   "language": "python",
   "name": "python3"
  },
  "language_info": {
   "codemirror_mode": {
    "name": "ipython",
    "version": 2
   },
   "file_extension": ".py",
   "mimetype": "text/x-python",
   "name": "python",
   "nbconvert_exporter": "python",
   "pygments_lexer": "ipython2",
   "version": "2.7.6"
  }
 },
 "nbformat": 4,
 "nbformat_minor": 0
}