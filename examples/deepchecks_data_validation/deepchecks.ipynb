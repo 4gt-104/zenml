{
 "cells": [
  {
   "cell_type": "markdown",
   "metadata": {
    "colab_type": "text",
    "id": "view-in-github"
   },
   "source": [
    "<a href=\"https://colab.research.google.com/github/zenml-io/zenml/blob/main/examples/deepchecks_data_validation/deepchecks.ipynb\" target=\"_parent\"><img src=\"https://colab.research.google.com/assets/colab-badge.svg\" alt=\"Open In Colab\"/></a>"
   ]
  },
  {
   "cell_type": "markdown",
   "metadata": {
    "id": "RO_v5iIaYFi2"
   },
   "source": [
    "# ZenML Data Validation With Deepchecks\n",
    "\n",
    "## Purpose\n",
    "\n",
    "Data validation  is something you often want to guard against in your pipelines.\n",
    "Machine learning pipelines are built on top of data inputs, so it is worth\n",
    "checking the data to ensure it looks the way you want it to look.\n",
    "\n",
    "This example uses [`deepchecks`](https://github.com/deepchecks/deepchecks), a\n",
    "useful open-source library to painlessly do data validation. At its core, `deepchecks` \n",
    "data validation library takes in a reference data set and compares it against another comparison dataset. \n",
    "These are both input in the form of a `pandas` dataframe. You can receive these results in the form of a \n",
    "`SuiteResult` object, that can be visualized in a notebook or on the browser as a HTML webpage.\n",
    "\n",
    "\n",
    "\n",
    "If you want to run this notebook in an interactive environment, feel free to run\n",
    "it in a [Google Colab](https://colab.research.google.com/github/zenml-io/zenml/blob/main/examples/deepchecks_drift_detection/deepchecks.ipynb)\n",
    "or view it on [GitHub](https://github.com/zenml-io/zenml/tree/main/examples/deepchecks_drift_detection) directly."
   ]
  },
  {
   "cell_type": "markdown",
   "metadata": {
    "id": "VNLEesHEyjkg"
   },
   "source": [
    "## Install libraries"
   ]
  },
  {
   "cell_type": "code",
   "execution_count": 1,
   "metadata": {
    "colab": {
     "base_uri": "https://localhost:8080/"
    },
    "id": "x7l4qDgcI_5F",
    "outputId": "ed764976-0d95-4e5f-e75d-805d2bab804c"
   },
   "outputs": [
    {
     "name": "stdout",
     "output_type": "stream",
     "text": [
      "Requirement already satisfied: zenml in /home/hamza/.cache/pypoetry/virtualenvs/zenml-5F48Ch7I-py3.8/lib/python3.8/site-packages (0.7.2)\n",
      "Requirement already satisfied: pandas<2.0.0,>=1.1.5 in /home/hamza/.cache/pypoetry/virtualenvs/zenml-5F48Ch7I-py3.8/lib/python3.8/site-packages (from zenml) (1.3.5)\n",
      "Requirement already satisfied: pydantic<2.0.0,>=1.9.0 in /home/hamza/.cache/pypoetry/virtualenvs/zenml-5F48Ch7I-py3.8/lib/python3.8/site-packages (from zenml) (1.9.0)\n",
      "Requirement already satisfied: fastapi<0.76.0,>=0.75.0 in /home/hamza/.cache/pypoetry/virtualenvs/zenml-5F48Ch7I-py3.8/lib/python3.8/site-packages (from zenml) (0.75.1)\n",
      "Requirement already satisfied: httplib2<0.20,>=0.19.1 in /home/hamza/.cache/pypoetry/virtualenvs/zenml-5F48Ch7I-py3.8/lib/python3.8/site-packages (from zenml) (0.19.1)\n",
      "Requirement already satisfied: pyyaml<6.0.0,>=5.4.1 in /home/hamza/.cache/pypoetry/virtualenvs/zenml-5F48Ch7I-py3.8/lib/python3.8/site-packages (from zenml) (5.4.1)\n",
      "Requirement already satisfied: distro<2.0.0,>=1.6.0 in /home/hamza/.cache/pypoetry/virtualenvs/zenml-5F48Ch7I-py3.8/lib/python3.8/site-packages (from zenml) (1.7.0)\n",
      "Requirement already satisfied: markupsafe==1.1.1 in /home/hamza/.cache/pypoetry/virtualenvs/zenml-5F48Ch7I-py3.8/lib/python3.8/site-packages (from zenml) (1.1.1)\n",
      "Requirement already satisfied: click<9.0.0,>=8.0.1 in /home/hamza/.cache/pypoetry/virtualenvs/zenml-5F48Ch7I-py3.8/lib/python3.8/site-packages (from zenml) (8.0.3)\n",
      "Requirement already satisfied: ml-pipelines-sdk==1.7.1 in /home/hamza/.cache/pypoetry/virtualenvs/zenml-5F48Ch7I-py3.8/lib/python3.8/site-packages (from zenml) (1.7.1)\n",
      "Requirement already satisfied: semver<3.0.0,>=2.13.0 in /home/hamza/.cache/pypoetry/virtualenvs/zenml-5F48Ch7I-py3.8/lib/python3.8/site-packages (from zenml) (2.13.0)\n",
      "Requirement already satisfied: python-dateutil<3.0.0,>=2.8.1 in /home/hamza/.cache/pypoetry/virtualenvs/zenml-5F48Ch7I-py3.8/lib/python3.8/site-packages (from zenml) (2.8.2)\n",
      "Requirement already satisfied: sqlmodel<0.1.0,>=0.0.6 in /home/hamza/.cache/pypoetry/virtualenvs/zenml-5F48Ch7I-py3.8/lib/python3.8/site-packages (from zenml) (0.0.6)\n",
      "Requirement already satisfied: gitpython<4.0.0,>=3.1.18 in /home/hamza/.cache/pypoetry/virtualenvs/zenml-5F48Ch7I-py3.8/lib/python3.8/site-packages (from zenml) (3.1.27)\n",
      "Requirement already satisfied: pyparsing<3,>=2.4.0 in /home/hamza/.cache/pypoetry/virtualenvs/zenml-5F48Ch7I-py3.8/lib/python3.8/site-packages (from zenml) (2.4.7)\n",
      "Requirement already satisfied: rich[jupyter]<13.0.0,>=12.0.0 in /home/hamza/.cache/pypoetry/virtualenvs/zenml-5F48Ch7I-py3.8/lib/python3.8/site-packages (from zenml) (12.0.1)\n",
      "Requirement already satisfied: analytics-python<2.0.0,>=1.4.0 in /home/hamza/.cache/pypoetry/virtualenvs/zenml-5F48Ch7I-py3.8/lib/python3.8/site-packages (from zenml) (1.4.0)\n",
      "Requirement already satisfied: uvicorn[standard]<0.18.0,>=0.17.5 in /home/hamza/.cache/pypoetry/virtualenvs/zenml-5F48Ch7I-py3.8/lib/python3.8/site-packages (from zenml) (0.17.6)\n",
      "Requirement already satisfied: apache-beam<3.0.0,>=2.30.0 in /home/hamza/.cache/pypoetry/virtualenvs/zenml-5F48Ch7I-py3.8/lib/python3.8/site-packages (from zenml) (2.37.0)\n",
      "Requirement already satisfied: absl-py<2.0.0,>=0.9 in /home/hamza/.cache/pypoetry/virtualenvs/zenml-5F48Ch7I-py3.8/lib/python3.8/site-packages (from ml-pipelines-sdk==1.7.1->zenml) (0.11.0)\n",
      "Requirement already satisfied: protobuf<4,>=3.13 in /home/hamza/.cache/pypoetry/virtualenvs/zenml-5F48Ch7I-py3.8/lib/python3.8/site-packages (from ml-pipelines-sdk==1.7.1->zenml) (3.20.0)\n",
      "Requirement already satisfied: portpicker<2,>=1.3.1 in /home/hamza/.cache/pypoetry/virtualenvs/zenml-5F48Ch7I-py3.8/lib/python3.8/site-packages (from ml-pipelines-sdk==1.7.1->zenml) (1.5.0)\n",
      "Requirement already satisfied: ml-metadata<1.8.0,>=1.7.0 in /home/hamza/.cache/pypoetry/virtualenvs/zenml-5F48Ch7I-py3.8/lib/python3.8/site-packages (from ml-pipelines-sdk==1.7.1->zenml) (1.7.0)\n",
      "Collecting packaging<21,>=20\n",
      "  Using cached packaging-20.9-py2.py3-none-any.whl (40 kB)\n",
      "Requirement already satisfied: google-api-python-client<2,>=1.8 in /home/hamza/.cache/pypoetry/virtualenvs/zenml-5F48Ch7I-py3.8/lib/python3.8/site-packages (from ml-pipelines-sdk==1.7.1->zenml) (1.12.11)\n",
      "Requirement already satisfied: docker<5,>=4.1 in /home/hamza/.cache/pypoetry/virtualenvs/zenml-5F48Ch7I-py3.8/lib/python3.8/site-packages (from ml-pipelines-sdk==1.7.1->zenml) (4.4.4)\n",
      "Requirement already satisfied: jinja2<4,>=2.7.3 in /home/hamza/.cache/pypoetry/virtualenvs/zenml-5F48Ch7I-py3.8/lib/python3.8/site-packages (from ml-pipelines-sdk==1.7.1->zenml) (2.11.3)\n",
      "Requirement already satisfied: google-apitools<1,>=0.5 in /home/hamza/.cache/pypoetry/virtualenvs/zenml-5F48Ch7I-py3.8/lib/python3.8/site-packages (from ml-pipelines-sdk==1.7.1->zenml) (0.5.32)\n",
      "Requirement already satisfied: monotonic>=1.5 in /home/hamza/.cache/pypoetry/virtualenvs/zenml-5F48Ch7I-py3.8/lib/python3.8/site-packages (from analytics-python<2.0.0,>=1.4.0->zenml) (1.6)\n",
      "Requirement already satisfied: backoff==1.10.0 in /home/hamza/.cache/pypoetry/virtualenvs/zenml-5F48Ch7I-py3.8/lib/python3.8/site-packages (from analytics-python<2.0.0,>=1.4.0->zenml) (1.10.0)\n",
      "Requirement already satisfied: requests<3.0,>=2.7 in /home/hamza/.cache/pypoetry/virtualenvs/zenml-5F48Ch7I-py3.8/lib/python3.8/site-packages (from analytics-python<2.0.0,>=1.4.0->zenml) (2.27.1)\n",
      "Requirement already satisfied: six>=1.5 in /home/hamza/.cache/pypoetry/virtualenvs/zenml-5F48Ch7I-py3.8/lib/python3.8/site-packages (from analytics-python<2.0.0,>=1.4.0->zenml) (1.16.0)\n",
      "Requirement already satisfied: pymongo<4.0.0,>=3.8.0 in /home/hamza/.cache/pypoetry/virtualenvs/zenml-5F48Ch7I-py3.8/lib/python3.8/site-packages (from apache-beam<3.0.0,>=2.30.0->zenml) (3.12.3)\n",
      "Requirement already satisfied: fastavro<2,>=0.23.6 in /home/hamza/.cache/pypoetry/virtualenvs/zenml-5F48Ch7I-py3.8/lib/python3.8/site-packages (from apache-beam<3.0.0,>=2.30.0->zenml) (1.4.10)\n",
      "Requirement already satisfied: cloudpickle<3,>=2.0.0 in /home/hamza/.cache/pypoetry/virtualenvs/zenml-5F48Ch7I-py3.8/lib/python3.8/site-packages (from apache-beam<3.0.0,>=2.30.0->zenml) (2.0.0)\n",
      "Requirement already satisfied: grpcio<2,>=1.29.0 in /home/hamza/.cache/pypoetry/virtualenvs/zenml-5F48Ch7I-py3.8/lib/python3.8/site-packages (from apache-beam<3.0.0,>=2.30.0->zenml) (1.45.0)\n",
      "Requirement already satisfied: pydot<2,>=1.2.0 in /home/hamza/.cache/pypoetry/virtualenvs/zenml-5F48Ch7I-py3.8/lib/python3.8/site-packages (from apache-beam<3.0.0,>=2.30.0->zenml) (1.4.2)\n",
      "Collecting dill<0.3.2,>=0.3.1.1\n",
      "  Using cached dill-0.3.1.1-py3-none-any.whl\n",
      "Requirement already satisfied: oauth2client<5,>=2.0.1 in /home/hamza/.cache/pypoetry/virtualenvs/zenml-5F48Ch7I-py3.8/lib/python3.8/site-packages (from apache-beam<3.0.0,>=2.30.0->zenml) (4.1.3)\n",
      "Requirement already satisfied: pyarrow<7.0.0,>=0.15.1 in /home/hamza/.cache/pypoetry/virtualenvs/zenml-5F48Ch7I-py3.8/lib/python3.8/site-packages (from apache-beam<3.0.0,>=2.30.0->zenml) (6.0.1)\n",
      "Requirement already satisfied: numpy<1.22.0,>=1.14.3 in /home/hamza/.cache/pypoetry/virtualenvs/zenml-5F48Ch7I-py3.8/lib/python3.8/site-packages (from apache-beam<3.0.0,>=2.30.0->zenml) (1.21.6)\n",
      "Requirement already satisfied: crcmod<2.0,>=1.7 in /home/hamza/.cache/pypoetry/virtualenvs/zenml-5F48Ch7I-py3.8/lib/python3.8/site-packages (from apache-beam<3.0.0,>=2.30.0->zenml) (1.7)\n",
      "Requirement already satisfied: hdfs<3.0.0,>=2.1.0 in /home/hamza/.cache/pypoetry/virtualenvs/zenml-5F48Ch7I-py3.8/lib/python3.8/site-packages (from apache-beam<3.0.0,>=2.30.0->zenml) (2.7.0)\n",
      "Requirement already satisfied: proto-plus<2,>=1.7.1 in /home/hamza/.cache/pypoetry/virtualenvs/zenml-5F48Ch7I-py3.8/lib/python3.8/site-packages (from apache-beam<3.0.0,>=2.30.0->zenml) (1.20.3)\n",
      "Requirement already satisfied: pytz>=2018.3 in /home/hamza/.cache/pypoetry/virtualenvs/zenml-5F48Ch7I-py3.8/lib/python3.8/site-packages (from apache-beam<3.0.0,>=2.30.0->zenml) (2022.1)\n",
      "Requirement already satisfied: typing-extensions>=3.7.0 in /home/hamza/.cache/pypoetry/virtualenvs/zenml-5F48Ch7I-py3.8/lib/python3.8/site-packages (from apache-beam<3.0.0,>=2.30.0->zenml) (3.10.0.2)\n",
      "Requirement already satisfied: orjson<4.0 in /home/hamza/.cache/pypoetry/virtualenvs/zenml-5F48Ch7I-py3.8/lib/python3.8/site-packages (from apache-beam<3.0.0,>=2.30.0->zenml) (3.6.7)\n",
      "Requirement already satisfied: starlette==0.17.1 in /home/hamza/.cache/pypoetry/virtualenvs/zenml-5F48Ch7I-py3.8/lib/python3.8/site-packages (from fastapi<0.76.0,>=0.75.0->zenml) (0.17.1)\n",
      "Requirement already satisfied: anyio<4,>=3.0.0 in /home/hamza/.cache/pypoetry/virtualenvs/zenml-5F48Ch7I-py3.8/lib/python3.8/site-packages (from starlette==0.17.1->fastapi<0.76.0,>=0.75.0->zenml) (3.5.0)\n",
      "Requirement already satisfied: gitdb<5,>=4.0.1 in /home/hamza/.cache/pypoetry/virtualenvs/zenml-5F48Ch7I-py3.8/lib/python3.8/site-packages (from gitpython<4.0.0,>=3.1.18->zenml) (4.0.9)\n"
     ]
    },
    {
     "name": "stdout",
     "output_type": "stream",
     "text": [
      "Requirement already satisfied: commonmark<0.10.0,>=0.9.0 in /home/hamza/.cache/pypoetry/virtualenvs/zenml-5F48Ch7I-py3.8/lib/python3.8/site-packages (from rich[jupyter]<13.0.0,>=12.0.0->zenml) (0.9.1)\n",
      "Requirement already satisfied: pygments<3.0.0,>=2.6.0 in /home/hamza/.cache/pypoetry/virtualenvs/zenml-5F48Ch7I-py3.8/lib/python3.8/site-packages (from rich[jupyter]<13.0.0,>=12.0.0->zenml) (2.11.2)\n",
      "Requirement already satisfied: ipywidgets<8.0.0,>=7.5.1 in /home/hamza/.cache/pypoetry/virtualenvs/zenml-5F48Ch7I-py3.8/lib/python3.8/site-packages (from rich[jupyter]<13.0.0,>=12.0.0->zenml) (7.7.0)\n",
      "Requirement already satisfied: SQLAlchemy<1.5.0,>=1.4.17 in /home/hamza/.cache/pypoetry/virtualenvs/zenml-5F48Ch7I-py3.8/lib/python3.8/site-packages (from sqlmodel<0.1.0,>=0.0.6->zenml) (1.4.35)\n",
      "Requirement already satisfied: sqlalchemy2-stubs in /home/hamza/.cache/pypoetry/virtualenvs/zenml-5F48Ch7I-py3.8/lib/python3.8/site-packages (from sqlmodel<0.1.0,>=0.0.6->zenml) (0.0.2a21)\n",
      "Requirement already satisfied: asgiref>=3.4.0 in /home/hamza/.cache/pypoetry/virtualenvs/zenml-5F48Ch7I-py3.8/lib/python3.8/site-packages (from uvicorn[standard]<0.18.0,>=0.17.5->zenml) (3.5.0)\n",
      "Requirement already satisfied: h11>=0.8 in /home/hamza/.cache/pypoetry/virtualenvs/zenml-5F48Ch7I-py3.8/lib/python3.8/site-packages (from uvicorn[standard]<0.18.0,>=0.17.5->zenml) (0.12.0)\n",
      "Requirement already satisfied: uvloop!=0.15.0,!=0.15.1,>=0.14.0 in /home/hamza/.cache/pypoetry/virtualenvs/zenml-5F48Ch7I-py3.8/lib/python3.8/site-packages (from uvicorn[standard]<0.18.0,>=0.17.5->zenml) (0.16.0)\n",
      "Requirement already satisfied: websockets>=10.0 in /home/hamza/.cache/pypoetry/virtualenvs/zenml-5F48Ch7I-py3.8/lib/python3.8/site-packages (from uvicorn[standard]<0.18.0,>=0.17.5->zenml) (10.2)\n",
      "Requirement already satisfied: python-dotenv>=0.13 in /home/hamza/.cache/pypoetry/virtualenvs/zenml-5F48Ch7I-py3.8/lib/python3.8/site-packages (from uvicorn[standard]<0.18.0,>=0.17.5->zenml) (0.20.0)\n",
      "Requirement already satisfied: httptools>=0.4.0 in /home/hamza/.cache/pypoetry/virtualenvs/zenml-5F48Ch7I-py3.8/lib/python3.8/site-packages (from uvicorn[standard]<0.18.0,>=0.17.5->zenml) (0.4.0)\n",
      "Requirement already satisfied: watchgod>=0.6 in /home/hamza/.cache/pypoetry/virtualenvs/zenml-5F48Ch7I-py3.8/lib/python3.8/site-packages (from uvicorn[standard]<0.18.0,>=0.17.5->zenml) (0.8.2)\n",
      "Requirement already satisfied: websocket-client>=0.32.0 in /home/hamza/.cache/pypoetry/virtualenvs/zenml-5F48Ch7I-py3.8/lib/python3.8/site-packages (from docker<5,>=4.1->ml-pipelines-sdk==1.7.1->zenml) (1.3.2)\n",
      "Requirement already satisfied: smmap<6,>=3.0.1 in /home/hamza/.cache/pypoetry/virtualenvs/zenml-5F48Ch7I-py3.8/lib/python3.8/site-packages (from gitdb<5,>=4.0.1->gitpython<4.0.0,>=3.1.18->zenml) (5.0.0)\n",
      "Requirement already satisfied: google-auth-httplib2>=0.0.3 in /home/hamza/.cache/pypoetry/virtualenvs/zenml-5F48Ch7I-py3.8/lib/python3.8/site-packages (from google-api-python-client<2,>=1.8->ml-pipelines-sdk==1.7.1->zenml) (0.1.0)\n",
      "Requirement already satisfied: uritemplate<4dev,>=3.0.0 in /home/hamza/.cache/pypoetry/virtualenvs/zenml-5F48Ch7I-py3.8/lib/python3.8/site-packages (from google-api-python-client<2,>=1.8->ml-pipelines-sdk==1.7.1->zenml) (3.0.1)\n",
      "Requirement already satisfied: google-api-core<3dev,>=1.21.0 in /home/hamza/.cache/pypoetry/virtualenvs/zenml-5F48Ch7I-py3.8/lib/python3.8/site-packages (from google-api-python-client<2,>=1.8->ml-pipelines-sdk==1.7.1->zenml) (2.7.2)\n",
      "Requirement already satisfied: google-auth<3dev,>=1.16.0 in /home/hamza/.cache/pypoetry/virtualenvs/zenml-5F48Ch7I-py3.8/lib/python3.8/site-packages (from google-api-python-client<2,>=1.8->ml-pipelines-sdk==1.7.1->zenml) (1.35.0)\n",
      "Requirement already satisfied: fasteners>=0.14 in /home/hamza/.cache/pypoetry/virtualenvs/zenml-5F48Ch7I-py3.8/lib/python3.8/site-packages (from google-apitools<1,>=0.5->ml-pipelines-sdk==1.7.1->zenml) (0.17.3)\n",
      "Requirement already satisfied: docopt in /home/hamza/.cache/pypoetry/virtualenvs/zenml-5F48Ch7I-py3.8/lib/python3.8/site-packages (from hdfs<3.0.0,>=2.1.0->apache-beam<3.0.0,>=2.30.0->zenml) (0.6.2)\n",
      "Requirement already satisfied: ipython>=4.0.0 in /home/hamza/.cache/pypoetry/virtualenvs/zenml-5F48Ch7I-py3.8/lib/python3.8/site-packages (from ipywidgets<8.0.0,>=7.5.1->rich[jupyter]<13.0.0,>=12.0.0->zenml) (7.32.0)\n",
      "Requirement already satisfied: jupyterlab-widgets>=1.0.0 in /home/hamza/.cache/pypoetry/virtualenvs/zenml-5F48Ch7I-py3.8/lib/python3.8/site-packages (from ipywidgets<8.0.0,>=7.5.1->rich[jupyter]<13.0.0,>=12.0.0->zenml) (1.1.0)\n",
      "Requirement already satisfied: widgetsnbextension~=3.6.0 in /home/hamza/.cache/pypoetry/virtualenvs/zenml-5F48Ch7I-py3.8/lib/python3.8/site-packages (from ipywidgets<8.0.0,>=7.5.1->rich[jupyter]<13.0.0,>=12.0.0->zenml) (3.6.0)\n",
      "Requirement already satisfied: nbformat>=4.2.0 in /home/hamza/.cache/pypoetry/virtualenvs/zenml-5F48Ch7I-py3.8/lib/python3.8/site-packages (from ipywidgets<8.0.0,>=7.5.1->rich[jupyter]<13.0.0,>=12.0.0->zenml) (5.3.0)\n",
      "Requirement already satisfied: ipython-genutils~=0.2.0 in /home/hamza/.cache/pypoetry/virtualenvs/zenml-5F48Ch7I-py3.8/lib/python3.8/site-packages (from ipywidgets<8.0.0,>=7.5.1->rich[jupyter]<13.0.0,>=12.0.0->zenml) (0.2.0)\n",
      "Requirement already satisfied: traitlets>=4.3.1 in /home/hamza/.cache/pypoetry/virtualenvs/zenml-5F48Ch7I-py3.8/lib/python3.8/site-packages (from ipywidgets<8.0.0,>=7.5.1->rich[jupyter]<13.0.0,>=12.0.0->zenml) (5.1.1)\n",
      "Requirement already satisfied: ipykernel>=4.5.1 in /home/hamza/.cache/pypoetry/virtualenvs/zenml-5F48Ch7I-py3.8/lib/python3.8/site-packages (from ipywidgets<8.0.0,>=7.5.1->rich[jupyter]<13.0.0,>=12.0.0->zenml) (6.13.0)\n",
      "Requirement already satisfied: attrs<21,>=20.3 in /home/hamza/.cache/pypoetry/virtualenvs/zenml-5F48Ch7I-py3.8/lib/python3.8/site-packages (from ml-metadata<1.8.0,>=1.7.0->ml-pipelines-sdk==1.7.1->zenml) (20.3.0)\n",
      "Requirement already satisfied: rsa>=3.1.4 in /home/hamza/.cache/pypoetry/virtualenvs/zenml-5F48Ch7I-py3.8/lib/python3.8/site-packages (from oauth2client<5,>=2.0.1->apache-beam<3.0.0,>=2.30.0->zenml) (4.8)\n",
      "Requirement already satisfied: pyasn1-modules>=0.0.5 in /home/hamza/.cache/pypoetry/virtualenvs/zenml-5F48Ch7I-py3.8/lib/python3.8/site-packages (from oauth2client<5,>=2.0.1->apache-beam<3.0.0,>=2.30.0->zenml) (0.2.8)\n",
      "Requirement already satisfied: pyasn1>=0.1.7 in /home/hamza/.cache/pypoetry/virtualenvs/zenml-5F48Ch7I-py3.8/lib/python3.8/site-packages (from oauth2client<5,>=2.0.1->apache-beam<3.0.0,>=2.30.0->zenml) (0.4.8)\n",
      "Requirement already satisfied: psutil in /home/hamza/.cache/pypoetry/virtualenvs/zenml-5F48Ch7I-py3.8/lib/python3.8/site-packages (from portpicker<2,>=1.3.1->ml-pipelines-sdk==1.7.1->zenml) (5.9.0)\n",
      "Requirement already satisfied: idna<4,>=2.5 in /home/hamza/.cache/pypoetry/virtualenvs/zenml-5F48Ch7I-py3.8/lib/python3.8/site-packages (from requests<3.0,>=2.7->analytics-python<2.0.0,>=1.4.0->zenml) (3.3)\n",
      "Requirement already satisfied: certifi>=2017.4.17 in /home/hamza/.cache/pypoetry/virtualenvs/zenml-5F48Ch7I-py3.8/lib/python3.8/site-packages (from requests<3.0,>=2.7->analytics-python<2.0.0,>=1.4.0->zenml) (2021.10.8)\n",
      "Requirement already satisfied: charset-normalizer~=2.0.0 in /home/hamza/.cache/pypoetry/virtualenvs/zenml-5F48Ch7I-py3.8/lib/python3.8/site-packages (from requests<3.0,>=2.7->analytics-python<2.0.0,>=1.4.0->zenml) (2.0.12)\n",
      "Requirement already satisfied: urllib3<1.27,>=1.21.1 in /home/hamza/.cache/pypoetry/virtualenvs/zenml-5F48Ch7I-py3.8/lib/python3.8/site-packages (from requests<3.0,>=2.7->analytics-python<2.0.0,>=1.4.0->zenml) (1.26.7)\n",
      "Requirement already satisfied: greenlet!=0.4.17 in /home/hamza/.cache/pypoetry/virtualenvs/zenml-5F48Ch7I-py3.8/lib/python3.8/site-packages (from SQLAlchemy<1.5.0,>=1.4.17->sqlmodel<0.1.0,>=0.0.6->zenml) (1.1.2)\n",
      "Requirement already satisfied: sniffio>=1.1 in /home/hamza/.cache/pypoetry/virtualenvs/zenml-5F48Ch7I-py3.8/lib/python3.8/site-packages (from anyio<4,>=3.0.0->starlette==0.17.1->fastapi<0.76.0,>=0.75.0->zenml) (1.2.0)\n",
      "Requirement already satisfied: googleapis-common-protos<2.0dev,>=1.52.0 in /home/hamza/.cache/pypoetry/virtualenvs/zenml-5F48Ch7I-py3.8/lib/python3.8/site-packages (from google-api-core<3dev,>=1.21.0->google-api-python-client<2,>=1.8->ml-pipelines-sdk==1.7.1->zenml) (1.56.0)\n",
      "Requirement already satisfied: cachetools<5.0,>=2.0.0 in /home/hamza/.cache/pypoetry/virtualenvs/zenml-5F48Ch7I-py3.8/lib/python3.8/site-packages (from google-auth<3dev,>=1.16.0->google-api-python-client<2,>=1.8->ml-pipelines-sdk==1.7.1->zenml) (4.2.4)\n",
      "Requirement already satisfied: setuptools>=40.3.0 in /home/hamza/.cache/pypoetry/virtualenvs/zenml-5F48Ch7I-py3.8/lib/python3.8/site-packages (from google-auth<3dev,>=1.16.0->google-api-python-client<2,>=1.8->ml-pipelines-sdk==1.7.1->zenml) (59.5.0)\n"
     ]
    },
    {
     "name": "stdout",
     "output_type": "stream",
     "text": [
      "Requirement already satisfied: jupyter-client>=6.1.12 in /home/hamza/.cache/pypoetry/virtualenvs/zenml-5F48Ch7I-py3.8/lib/python3.8/site-packages (from ipykernel>=4.5.1->ipywidgets<8.0.0,>=7.5.1->rich[jupyter]<13.0.0,>=12.0.0->zenml) (7.2.2)\n",
      "Requirement already satisfied: nest-asyncio in /home/hamza/.cache/pypoetry/virtualenvs/zenml-5F48Ch7I-py3.8/lib/python3.8/site-packages (from ipykernel>=4.5.1->ipywidgets<8.0.0,>=7.5.1->rich[jupyter]<13.0.0,>=12.0.0->zenml) (1.5.5)\n",
      "Requirement already satisfied: tornado>=6.1 in /home/hamza/.cache/pypoetry/virtualenvs/zenml-5F48Ch7I-py3.8/lib/python3.8/site-packages (from ipykernel>=4.5.1->ipywidgets<8.0.0,>=7.5.1->rich[jupyter]<13.0.0,>=12.0.0->zenml) (6.1)\n",
      "Requirement already satisfied: matplotlib-inline>=0.1 in /home/hamza/.cache/pypoetry/virtualenvs/zenml-5F48Ch7I-py3.8/lib/python3.8/site-packages (from ipykernel>=4.5.1->ipywidgets<8.0.0,>=7.5.1->rich[jupyter]<13.0.0,>=12.0.0->zenml) (0.1.3)\n",
      "Requirement already satisfied: debugpy>=1.0 in /home/hamza/.cache/pypoetry/virtualenvs/zenml-5F48Ch7I-py3.8/lib/python3.8/site-packages (from ipykernel>=4.5.1->ipywidgets<8.0.0,>=7.5.1->rich[jupyter]<13.0.0,>=12.0.0->zenml) (1.6.0)\n",
      "Requirement already satisfied: jedi>=0.16 in /home/hamza/.cache/pypoetry/virtualenvs/zenml-5F48Ch7I-py3.8/lib/python3.8/site-packages (from ipython>=4.0.0->ipywidgets<8.0.0,>=7.5.1->rich[jupyter]<13.0.0,>=12.0.0->zenml) (0.18.1)\n",
      "Requirement already satisfied: backcall in /home/hamza/.cache/pypoetry/virtualenvs/zenml-5F48Ch7I-py3.8/lib/python3.8/site-packages (from ipython>=4.0.0->ipywidgets<8.0.0,>=7.5.1->rich[jupyter]<13.0.0,>=12.0.0->zenml) (0.2.0)\n",
      "Requirement already satisfied: pexpect>4.3 in /home/hamza/.cache/pypoetry/virtualenvs/zenml-5F48Ch7I-py3.8/lib/python3.8/site-packages (from ipython>=4.0.0->ipywidgets<8.0.0,>=7.5.1->rich[jupyter]<13.0.0,>=12.0.0->zenml) (4.8.0)\n",
      "Requirement already satisfied: pickleshare in /home/hamza/.cache/pypoetry/virtualenvs/zenml-5F48Ch7I-py3.8/lib/python3.8/site-packages (from ipython>=4.0.0->ipywidgets<8.0.0,>=7.5.1->rich[jupyter]<13.0.0,>=12.0.0->zenml) (0.7.5)\n",
      "Requirement already satisfied: prompt-toolkit!=3.0.0,!=3.0.1,<3.1.0,>=2.0.0 in /home/hamza/.cache/pypoetry/virtualenvs/zenml-5F48Ch7I-py3.8/lib/python3.8/site-packages (from ipython>=4.0.0->ipywidgets<8.0.0,>=7.5.1->rich[jupyter]<13.0.0,>=12.0.0->zenml) (3.0.29)\n",
      "Requirement already satisfied: decorator in /home/hamza/.cache/pypoetry/virtualenvs/zenml-5F48Ch7I-py3.8/lib/python3.8/site-packages (from ipython>=4.0.0->ipywidgets<8.0.0,>=7.5.1->rich[jupyter]<13.0.0,>=12.0.0->zenml) (5.1.1)\n",
      "Requirement already satisfied: jupyter-core in /home/hamza/.cache/pypoetry/virtualenvs/zenml-5F48Ch7I-py3.8/lib/python3.8/site-packages (from nbformat>=4.2.0->ipywidgets<8.0.0,>=7.5.1->rich[jupyter]<13.0.0,>=12.0.0->zenml) (4.9.2)\n",
      "Requirement already satisfied: jsonschema>=2.6 in /home/hamza/.cache/pypoetry/virtualenvs/zenml-5F48Ch7I-py3.8/lib/python3.8/site-packages (from nbformat>=4.2.0->ipywidgets<8.0.0,>=7.5.1->rich[jupyter]<13.0.0,>=12.0.0->zenml) (3.2.0)\n",
      "Requirement already satisfied: fastjsonschema in /home/hamza/.cache/pypoetry/virtualenvs/zenml-5F48Ch7I-py3.8/lib/python3.8/site-packages (from nbformat>=4.2.0->ipywidgets<8.0.0,>=7.5.1->rich[jupyter]<13.0.0,>=12.0.0->zenml) (2.15.3)\n",
      "Requirement already satisfied: notebook>=4.4.1 in /home/hamza/.cache/pypoetry/virtualenvs/zenml-5F48Ch7I-py3.8/lib/python3.8/site-packages (from widgetsnbextension~=3.6.0->ipywidgets<8.0.0,>=7.5.1->rich[jupyter]<13.0.0,>=12.0.0->zenml) (6.4.10)\n",
      "Requirement already satisfied: parso<0.9.0,>=0.8.0 in /home/hamza/.cache/pypoetry/virtualenvs/zenml-5F48Ch7I-py3.8/lib/python3.8/site-packages (from jedi>=0.16->ipython>=4.0.0->ipywidgets<8.0.0,>=7.5.1->rich[jupyter]<13.0.0,>=12.0.0->zenml) (0.8.3)\n",
      "Requirement already satisfied: pyrsistent>=0.14.0 in /home/hamza/.cache/pypoetry/virtualenvs/zenml-5F48Ch7I-py3.8/lib/python3.8/site-packages (from jsonschema>=2.6->nbformat>=4.2.0->ipywidgets<8.0.0,>=7.5.1->rich[jupyter]<13.0.0,>=12.0.0->zenml) (0.18.1)\n",
      "Requirement already satisfied: pyzmq>=22.3 in /home/hamza/.cache/pypoetry/virtualenvs/zenml-5F48Ch7I-py3.8/lib/python3.8/site-packages (from jupyter-client>=6.1.12->ipykernel>=4.5.1->ipywidgets<8.0.0,>=7.5.1->rich[jupyter]<13.0.0,>=12.0.0->zenml) (22.3.0)\n",
      "Requirement already satisfied: entrypoints in /home/hamza/.cache/pypoetry/virtualenvs/zenml-5F48Ch7I-py3.8/lib/python3.8/site-packages (from jupyter-client>=6.1.12->ipykernel>=4.5.1->ipywidgets<8.0.0,>=7.5.1->rich[jupyter]<13.0.0,>=12.0.0->zenml) (0.4)\n",
      "Requirement already satisfied: prometheus-client in /home/hamza/.cache/pypoetry/virtualenvs/zenml-5F48Ch7I-py3.8/lib/python3.8/site-packages (from notebook>=4.4.1->widgetsnbextension~=3.6.0->ipywidgets<8.0.0,>=7.5.1->rich[jupyter]<13.0.0,>=12.0.0->zenml) (0.14.1)\n",
      "Requirement already satisfied: terminado>=0.8.3 in /home/hamza/.cache/pypoetry/virtualenvs/zenml-5F48Ch7I-py3.8/lib/python3.8/site-packages (from notebook>=4.4.1->widgetsnbextension~=3.6.0->ipywidgets<8.0.0,>=7.5.1->rich[jupyter]<13.0.0,>=12.0.0->zenml) (0.13.3)\n",
      "Requirement already satisfied: argon2-cffi in /home/hamza/.cache/pypoetry/virtualenvs/zenml-5F48Ch7I-py3.8/lib/python3.8/site-packages (from notebook>=4.4.1->widgetsnbextension~=3.6.0->ipywidgets<8.0.0,>=7.5.1->rich[jupyter]<13.0.0,>=12.0.0->zenml) (21.3.0)\n",
      "Requirement already satisfied: nbconvert>=5 in /home/hamza/.cache/pypoetry/virtualenvs/zenml-5F48Ch7I-py3.8/lib/python3.8/site-packages (from notebook>=4.4.1->widgetsnbextension~=3.6.0->ipywidgets<8.0.0,>=7.5.1->rich[jupyter]<13.0.0,>=12.0.0->zenml) (6.4.4)\n",
      "Requirement already satisfied: Send2Trash>=1.8.0 in /home/hamza/.cache/pypoetry/virtualenvs/zenml-5F48Ch7I-py3.8/lib/python3.8/site-packages (from notebook>=4.4.1->widgetsnbextension~=3.6.0->ipywidgets<8.0.0,>=7.5.1->rich[jupyter]<13.0.0,>=12.0.0->zenml) (1.8.0)\n",
      "Requirement already satisfied: ptyprocess>=0.5 in /home/hamza/.cache/pypoetry/virtualenvs/zenml-5F48Ch7I-py3.8/lib/python3.8/site-packages (from pexpect>4.3->ipython>=4.0.0->ipywidgets<8.0.0,>=7.5.1->rich[jupyter]<13.0.0,>=12.0.0->zenml) (0.7.0)\n",
      "Requirement already satisfied: wcwidth in /home/hamza/.cache/pypoetry/virtualenvs/zenml-5F48Ch7I-py3.8/lib/python3.8/site-packages (from prompt-toolkit!=3.0.0,!=3.0.1,<3.1.0,>=2.0.0->ipython>=4.0.0->ipywidgets<8.0.0,>=7.5.1->rich[jupyter]<13.0.0,>=12.0.0->zenml) (0.2.5)\n",
      "Requirement already satisfied: beautifulsoup4 in /home/hamza/.cache/pypoetry/virtualenvs/zenml-5F48Ch7I-py3.8/lib/python3.8/site-packages (from nbconvert>=5->notebook>=4.4.1->widgetsnbextension~=3.6.0->ipywidgets<8.0.0,>=7.5.1->rich[jupyter]<13.0.0,>=12.0.0->zenml) (4.11.1)\n",
      "Requirement already satisfied: nbclient<0.6.0,>=0.5.0 in /home/hamza/.cache/pypoetry/virtualenvs/zenml-5F48Ch7I-py3.8/lib/python3.8/site-packages (from nbconvert>=5->notebook>=4.4.1->widgetsnbextension~=3.6.0->ipywidgets<8.0.0,>=7.5.1->rich[jupyter]<13.0.0,>=12.0.0->zenml) (0.5.13)\n",
      "Requirement already satisfied: bleach in /home/hamza/.cache/pypoetry/virtualenvs/zenml-5F48Ch7I-py3.8/lib/python3.8/site-packages (from nbconvert>=5->notebook>=4.4.1->widgetsnbextension~=3.6.0->ipywidgets<8.0.0,>=7.5.1->rich[jupyter]<13.0.0,>=12.0.0->zenml) (5.0.0)\n",
      "Requirement already satisfied: mistune<2,>=0.8.1 in /home/hamza/.cache/pypoetry/virtualenvs/zenml-5F48Ch7I-py3.8/lib/python3.8/site-packages (from nbconvert>=5->notebook>=4.4.1->widgetsnbextension~=3.6.0->ipywidgets<8.0.0,>=7.5.1->rich[jupyter]<13.0.0,>=12.0.0->zenml) (0.8.4)\n",
      "Requirement already satisfied: testpath in /home/hamza/.cache/pypoetry/virtualenvs/zenml-5F48Ch7I-py3.8/lib/python3.8/site-packages (from nbconvert>=5->notebook>=4.4.1->widgetsnbextension~=3.6.0->ipywidgets<8.0.0,>=7.5.1->rich[jupyter]<13.0.0,>=12.0.0->zenml) (0.6.0)\n",
      "Requirement already satisfied: defusedxml in /home/hamza/.cache/pypoetry/virtualenvs/zenml-5F48Ch7I-py3.8/lib/python3.8/site-packages (from nbconvert>=5->notebook>=4.4.1->widgetsnbextension~=3.6.0->ipywidgets<8.0.0,>=7.5.1->rich[jupyter]<13.0.0,>=12.0.0->zenml) (0.7.1)\n",
      "Requirement already satisfied: jupyterlab-pygments in /home/hamza/.cache/pypoetry/virtualenvs/zenml-5F48Ch7I-py3.8/lib/python3.8/site-packages (from nbconvert>=5->notebook>=4.4.1->widgetsnbextension~=3.6.0->ipywidgets<8.0.0,>=7.5.1->rich[jupyter]<13.0.0,>=12.0.0->zenml) (0.2.2)\n",
      "Requirement already satisfied: pandocfilters>=1.4.1 in /home/hamza/.cache/pypoetry/virtualenvs/zenml-5F48Ch7I-py3.8/lib/python3.8/site-packages (from nbconvert>=5->notebook>=4.4.1->widgetsnbextension~=3.6.0->ipywidgets<8.0.0,>=7.5.1->rich[jupyter]<13.0.0,>=12.0.0->zenml) (1.5.0)\n"
     ]
    },
    {
     "name": "stdout",
     "output_type": "stream",
     "text": [
      "Requirement already satisfied: argon2-cffi-bindings in /home/hamza/.cache/pypoetry/virtualenvs/zenml-5F48Ch7I-py3.8/lib/python3.8/site-packages (from argon2-cffi->notebook>=4.4.1->widgetsnbextension~=3.6.0->ipywidgets<8.0.0,>=7.5.1->rich[jupyter]<13.0.0,>=12.0.0->zenml) (21.2.0)\n",
      "Requirement already satisfied: cffi>=1.0.1 in /home/hamza/.cache/pypoetry/virtualenvs/zenml-5F48Ch7I-py3.8/lib/python3.8/site-packages (from argon2-cffi-bindings->argon2-cffi->notebook>=4.4.1->widgetsnbextension~=3.6.0->ipywidgets<8.0.0,>=7.5.1->rich[jupyter]<13.0.0,>=12.0.0->zenml) (1.15.0)\n",
      "Requirement already satisfied: soupsieve>1.2 in /home/hamza/.cache/pypoetry/virtualenvs/zenml-5F48Ch7I-py3.8/lib/python3.8/site-packages (from beautifulsoup4->nbconvert>=5->notebook>=4.4.1->widgetsnbextension~=3.6.0->ipywidgets<8.0.0,>=7.5.1->rich[jupyter]<13.0.0,>=12.0.0->zenml) (2.3.2)\n",
      "Requirement already satisfied: webencodings in /home/hamza/.cache/pypoetry/virtualenvs/zenml-5F48Ch7I-py3.8/lib/python3.8/site-packages (from bleach->nbconvert>=5->notebook>=4.4.1->widgetsnbextension~=3.6.0->ipywidgets<8.0.0,>=7.5.1->rich[jupyter]<13.0.0,>=12.0.0->zenml) (0.5.1)\n",
      "Requirement already satisfied: pycparser in /home/hamza/.cache/pypoetry/virtualenvs/zenml-5F48Ch7I-py3.8/lib/python3.8/site-packages (from cffi>=1.0.1->argon2-cffi-bindings->argon2-cffi->notebook>=4.4.1->widgetsnbextension~=3.6.0->ipywidgets<8.0.0,>=7.5.1->rich[jupyter]<13.0.0,>=12.0.0->zenml) (2.21)\n",
      "Installing collected packages: packaging, dill\n",
      "  Attempting uninstall: packaging\n",
      "    Found existing installation: packaging 21.3\n",
      "    Uninstalling packaging-21.3:\n",
      "      Successfully uninstalled packaging-21.3\n",
      "  Attempting uninstall: dill\n",
      "    Found existing installation: dill 0.3.4\n",
      "    Uninstalling dill-0.3.4:\n",
      "      Successfully uninstalled dill-0.3.4\n",
      "\u001b[31mERROR: pip's dependency resolver does not currently take into account all the packages that are installed. This behaviour is the source of the following dependency conflicts.\n",
      "statsmodels 0.13.2 requires packaging>=21.3, but you have packaging 20.9 which is incompatible.\n",
      "pathos 0.2.8 requires dill>=0.3.4, but you have dill 0.3.1.1 which is incompatible.\n",
      "multiprocess 0.70.12.2 requires dill>=0.3.4, but you have dill 0.3.1.1 which is incompatible.\n",
      "apache-airflow 2.2.0 requires packaging~=21.0, but you have packaging 20.9 which is incompatible.\u001b[0m\n",
      "Successfully installed dill-0.3.1.1 packaging-20.9\n",
      "\u001b[33mWARNING: You are using pip version 21.3.1; however, version 22.0.4 is available.\n",
      "You should consider upgrading via the '/home/hamza/.cache/pypoetry/virtualenvs/zenml-5F48Ch7I-py3.8/bin/python -m pip install --upgrade pip' command.\u001b[0m\n",
      "/home/hamza/.cache/pypoetry/virtualenvs/zenml-5F48Ch7I-py3.8/lib/python3.8/site-packages/pkg_resources/__init__.py:116: PkgResourcesDeprecationWarning: dev is an invalid version and will not be supported in a future release\n",
      "  warnings.warn(\n",
      "\u001b[2K\u001b[32m⠹\u001b[0m Installing integrations.....Collecting deepchecks>=0.6.3\n",
      "  Using cached deepchecks-0.6.3-py3-none-any.whl (368 kB)\n",
      "Requirement already satisfied: plotly>=5.5.0 in /home/hamza/.cache/pypoetry/virtualenvs/zenml-5F48Ch7I-py3.8/lib/python3.8/site-packages (from deepchecks>=0.6.3) (5.6.0)\n",
      "Requirement already satisfied: scipy>=1.4.1 in /home/hamza/.cache/pypoetry/virtualenvs/zenml-5F48Ch7I-py3.8/lib/python3.8/site-packages (from deepchecks>=0.6.3) (1.8.0)\n",
      "Requirement already satisfied: numpy>=1.19 in /home/hamza/.cache/pypoetry/virtualenvs/zenml-5F48Ch7I-py3.8/lib/python3.8/site-packages (from deepchecks>=0.6.3) (1.21.6)\n",
      "Requirement already satisfied: PyNomaly>=0.3.3 in /home/hamza/.cache/pypoetry/virtualenvs/zenml-5F48Ch7I-py3.8/lib/python3.8/site-packages (from deepchecks>=0.6.3) (0.3.3)\n",
      "Requirement already satisfied: pandas>=1.1.5 in /home/hamza/.cache/pypoetry/virtualenvs/zenml-5F48Ch7I-py3.8/lib/python3.8/site-packages (from deepchecks>=0.6.3) (1.3.5)\n",
      "Requirement already satisfied: jsonpickle>=2 in /home/hamza/.cache/pypoetry/virtualenvs/zenml-5F48Ch7I-py3.8/lib/python3.8/site-packages (from deepchecks>=0.6.3) (2.1.0)\n",
      "Requirement already satisfied: ipython<8,>=7.15.0 in /home/hamza/.cache/pypoetry/virtualenvs/zenml-5F48Ch7I-py3.8/lib/python3.8/site-packages (from deepchecks>=0.6.3) (7.32.0)\n",
      "Requirement already satisfied: scikit-learn>=0.24.2 in /home/hamza/.cache/pypoetry/virtualenvs/zenml-5F48Ch7I-py3.8/lib/python3.8/site-packages (from deepchecks>=0.6.3) (1.0.2)\n",
      "Requirement already satisfied: ipywidgets>=7.6.5 in /home/hamza/.cache/pypoetry/virtualenvs/zenml-5F48Ch7I-py3.8/lib/python3.8/site-packages (from deepchecks>=0.6.3) (7.7.0)\n",
      "Requirement already satisfied: tqdm>=4.62.3 in /home/hamza/.cache/pypoetry/virtualenvs/zenml-5F48Ch7I-py3.8/lib/python3.8/site-packages (from deepchecks>=0.6.3) (4.63.0)\n",
      "Requirement already satisfied: category-encoders>=2.3.0 in /home/hamza/.cache/pypoetry/virtualenvs/zenml-5F48Ch7I-py3.8/lib/python3.8/site-packages (from deepchecks>=0.6.3) (2.4.0)\n",
      "Requirement already satisfied: matplotlib>=3.2.2 in /home/hamza/.cache/pypoetry/virtualenvs/zenml-5F48Ch7I-py3.8/lib/python3.8/site-packages (from deepchecks>=0.6.3) (3.5.1)\n",
      "Requirement already satisfied: importlib-resources>=1.3 in /home/hamza/.cache/pypoetry/virtualenvs/zenml-5F48Ch7I-py3.8/lib/python3.8/site-packages (from deepchecks>=0.6.3) (5.2.3)\n",
      "Requirement already satisfied: ipykernel>=5.3.0 in /home/hamza/.cache/pypoetry/virtualenvs/zenml-5F48Ch7I-py3.8/lib/python3.8/site-packages (from deepchecks>=0.6.3) (6.13.0)\n",
      "Requirement already satisfied: statsmodels>=0.11.0 in /home/hamza/.cache/pypoetry/virtualenvs/zenml-5F48Ch7I-py3.8/lib/python3.8/site-packages (from deepchecks>=0.6.3) (0.13.2)\n",
      "Requirement already satisfied: typing-extensions>=3.7.4.3 in /home/hamza/.cache/pypoetry/virtualenvs/zenml-5F48Ch7I-py3.8/lib/python3.8/site-packages (from deepchecks>=0.6.3) (3.10.0.2)\n",
      "Requirement already satisfied: patsy>=0.5.1 in /home/hamza/.cache/pypoetry/virtualenvs/zenml-5F48Ch7I-py3.8/lib/python3.8/site-packages (from category-encoders>=2.3.0->deepchecks>=0.6.3) (0.5.2)\n",
      "\u001b[2K\u001b[32m⠸\u001b[0m Installing integrations...Requirement already satisfied: zipp>=3.1.0 in /home/hamza/.cache/pypoetry/virtualenvs/zenml-5F48Ch7I-py3.8/lib/python3.8/site-packages (from importlib-resources>=1.3->deepchecks>=0.6.3) (3.8.0)\n",
      "Requirement already satisfied: packaging in /home/hamza/.cache/pypoetry/virtualenvs/zenml-5F48Ch7I-py3.8/lib/python3.8/site-packages (from ipykernel>=5.3.0->deepchecks>=0.6.3) (20.9)\n",
      "Requirement already satisfied: jupyter-client>=6.1.12 in /home/hamza/.cache/pypoetry/virtualenvs/zenml-5F48Ch7I-py3.8/lib/python3.8/site-packages (from ipykernel>=5.3.0->deepchecks>=0.6.3) (7.2.2)\n",
      "Requirement already satisfied: traitlets>=5.1.0 in /home/hamza/.cache/pypoetry/virtualenvs/zenml-5F48Ch7I-py3.8/lib/python3.8/site-packages (from ipykernel>=5.3.0->deepchecks>=0.6.3) (5.1.1)\n",
      "Requirement already satisfied: matplotlib-inline>=0.1 in /home/hamza/.cache/pypoetry/virtualenvs/zenml-5F48Ch7I-py3.8/lib/python3.8/site-packages (from ipykernel>=5.3.0->deepchecks>=0.6.3) (0.1.3)\n",
      "Requirement already satisfied: debugpy>=1.0 in /home/hamza/.cache/pypoetry/virtualenvs/zenml-5F48Ch7I-py3.8/lib/python3.8/site-packages (from ipykernel>=5.3.0->deepchecks>=0.6.3) (1.6.0)\n",
      "Requirement already satisfied: psutil in /home/hamza/.cache/pypoetry/virtualenvs/zenml-5F48Ch7I-py3.8/lib/python3.8/site-packages (from ipykernel>=5.3.0->deepchecks>=0.6.3) (5.9.0)\n",
      "Requirement already satisfied: tornado>=6.1 in /home/hamza/.cache/pypoetry/virtualenvs/zenml-5F48Ch7I-py3.8/lib/python3.8/site-packages (from ipykernel>=5.3.0->deepchecks>=0.6.3) (6.1)\n",
      "Requirement already satisfied: nest-asyncio in /home/hamza/.cache/pypoetry/virtualenvs/zenml-5F48Ch7I-py3.8/lib/python3.8/site-packages (from ipykernel>=5.3.0->deepchecks>=0.6.3) (1.5.5)\n",
      "Requirement already satisfied: pickleshare in /home/hamza/.cache/pypoetry/virtualenvs/zenml-5F48Ch7I-py3.8/lib/python3.8/site-packages (from ipython<8,>=7.15.0->deepchecks>=0.6.3) (0.7.5)\n",
      "Requirement already satisfied: jedi>=0.16 in /home/hamza/.cache/pypoetry/virtualenvs/zenml-5F48Ch7I-py3.8/lib/python3.8/site-packages (from ipython<8,>=7.15.0->deepchecks>=0.6.3) (0.18.1)\n",
      "Requirement already satisfied: prompt-toolkit!=3.0.0,!=3.0.1,<3.1.0,>=2.0.0 in /home/hamza/.cache/pypoetry/virtualenvs/zenml-5F48Ch7I-py3.8/lib/python3.8/site-packages (from ipython<8,>=7.15.0->deepchecks>=0.6.3) (3.0.29)\n",
      "Requirement already satisfied: pexpect>4.3 in /home/hamza/.cache/pypoetry/virtualenvs/zenml-5F48Ch7I-py3.8/lib/python3.8/site-packages (from ipython<8,>=7.15.0->deepchecks>=0.6.3) (4.8.0)\n",
      "Requirement already satisfied: decorator in /home/hamza/.cache/pypoetry/virtualenvs/zenml-5F48Ch7I-py3.8/lib/python3.8/site-packages (from ipython<8,>=7.15.0->deepchecks>=0.6.3) (5.1.1)\n",
      "Requirement already satisfied: backcall in /home/hamza/.cache/pypoetry/virtualenvs/zenml-5F48Ch7I-py3.8/lib/python3.8/site-packages (from ipython<8,>=7.15.0->deepchecks>=0.6.3) (0.2.0)\n",
      "Requirement already satisfied: setuptools>=18.5 in /home/hamza/.cache/pypoetry/virtualenvs/zenml-5F48Ch7I-py3.8/lib/python3.8/site-packages (from ipython<8,>=7.15.0->deepchecks>=0.6.3) (59.5.0)\n",
      "Requirement already satisfied: pygments in /home/hamza/.cache/pypoetry/virtualenvs/zenml-5F48Ch7I-py3.8/lib/python3.8/site-packages (from ipython<8,>=7.15.0->deepchecks>=0.6.3) (2.11.2)\n",
      "Requirement already satisfied: ipython-genutils~=0.2.0 in /home/hamza/.cache/pypoetry/virtualenvs/zenml-5F48Ch7I-py3.8/lib/python3.8/site-packages (from ipywidgets>=7.6.5->deepchecks>=0.6.3) (0.2.0)\n",
      "Requirement already satisfied: widgetsnbextension~=3.6.0 in /home/hamza/.cache/pypoetry/virtualenvs/zenml-5F48Ch7I-py3.8/lib/python3.8/site-packages (from ipywidgets>=7.6.5->deepchecks>=0.6.3) (3.6.0)\n",
      "Requirement already satisfied: nbformat>=4.2.0 in /home/hamza/.cache/pypoetry/virtualenvs/zenml-5F48Ch7I-py3.8/lib/python3.8/site-packages (from ipywidgets>=7.6.5->deepchecks>=0.6.3) (5.3.0)\n",
      "Requirement already satisfied: jupyterlab-widgets>=1.0.0 in /home/hamza/.cache/pypoetry/virtualenvs/zenml-5F48Ch7I-py3.8/lib/python3.8/site-packages (from ipywidgets>=7.6.5->deepchecks>=0.6.3) (1.1.0)\n",
      "Requirement already satisfied: python-dateutil>=2.7 in /home/hamza/.cache/pypoetry/virtualenvs/zenml-5F48Ch7I-py3.8/lib/python3.8/site-packages (from matplotlib>=3.2.2->deepchecks>=0.6.3) (2.8.2)\n",
      "Requirement already satisfied: kiwisolver>=1.0.1 in /home/hamza/.cache/pypoetry/virtualenvs/zenml-5F48Ch7I-py3.8/lib/python3.8/site-packages (from matplotlib>=3.2.2->deepchecks>=0.6.3) (1.3.2)\n",
      "Requirement already satisfied: pyparsing>=2.2.1 in /home/hamza/.cache/pypoetry/virtualenvs/zenml-5F48Ch7I-py3.8/lib/python3.8/site-packages (from matplotlib>=3.2.2->deepchecks>=0.6.3) (2.4.7)\n",
      "Requirement already satisfied: cycler>=0.10 in /home/hamza/.cache/pypoetry/virtualenvs/zenml-5F48Ch7I-py3.8/lib/python3.8/site-packages (from matplotlib>=3.2.2->deepchecks>=0.6.3) (0.11.0)\n",
      "Requirement already satisfied: fonttools>=4.22.0 in /home/hamza/.cache/pypoetry/virtualenvs/zenml-5F48Ch7I-py3.8/lib/python3.8/site-packages (from matplotlib>=3.2.2->deepchecks>=0.6.3) (4.30.0)\n",
      "Requirement already satisfied: pillow>=6.2.0 in /home/hamza/.cache/pypoetry/virtualenvs/zenml-5F48Ch7I-py3.8/lib/python3.8/site-packages (from matplotlib>=3.2.2->deepchecks>=0.6.3) (9.1.0)\n",
      "Requirement already satisfied: pytz>=2017.3 in /home/hamza/.cache/pypoetry/virtualenvs/zenml-5F48Ch7I-py3.8/lib/python3.8/site-packages (from pandas>=1.1.5->deepchecks>=0.6.3) (2022.1)\n",
      "Requirement already satisfied: tenacity>=6.2.0 in /home/hamza/.cache/pypoetry/virtualenvs/zenml-5F48Ch7I-py3.8/lib/python3.8/site-packages (from plotly>=5.5.0->deepchecks>=0.6.3) (8.0.1)\n",
      "Requirement already satisfied: six in /home/hamza/.cache/pypoetry/virtualenvs/zenml-5F48Ch7I-py3.8/lib/python3.8/site-packages (from plotly>=5.5.0->deepchecks>=0.6.3) (1.16.0)\n",
      "Requirement already satisfied: python-utils in /home/hamza/.cache/pypoetry/virtualenvs/zenml-5F48Ch7I-py3.8/lib/python3.8/site-packages (from PyNomaly>=0.3.3->deepchecks>=0.6.3) (3.1.0)\n"
     ]
    },
    {
     "name": "stdout",
     "output_type": "stream",
     "text": [
      "Requirement already satisfied: threadpoolctl>=2.0.0 in /home/hamza/.cache/pypoetry/virtualenvs/zenml-5F48Ch7I-py3.8/lib/python3.8/site-packages (from scikit-learn>=0.24.2->deepchecks>=0.6.3) (3.1.0)\n",
      "Requirement already satisfied: joblib>=0.11 in /home/hamza/.cache/pypoetry/virtualenvs/zenml-5F48Ch7I-py3.8/lib/python3.8/site-packages (from scikit-learn>=0.24.2->deepchecks>=0.6.3) (1.1.0)\n",
      "\u001b[2K\u001b[32m⠼\u001b[0m Installing integrations...Collecting packaging\n",
      "  Using cached packaging-21.3-py3-none-any.whl (40 kB)\n",
      "Requirement already satisfied: parso<0.9.0,>=0.8.0 in /home/hamza/.cache/pypoetry/virtualenvs/zenml-5F48Ch7I-py3.8/lib/python3.8/site-packages (from jedi>=0.16->ipython<8,>=7.15.0->deepchecks>=0.6.3) (0.8.3)\n",
      "Requirement already satisfied: entrypoints in /home/hamza/.cache/pypoetry/virtualenvs/zenml-5F48Ch7I-py3.8/lib/python3.8/site-packages (from jupyter-client>=6.1.12->ipykernel>=5.3.0->deepchecks>=0.6.3) (0.4)\n",
      "Requirement already satisfied: pyzmq>=22.3 in /home/hamza/.cache/pypoetry/virtualenvs/zenml-5F48Ch7I-py3.8/lib/python3.8/site-packages (from jupyter-client>=6.1.12->ipykernel>=5.3.0->deepchecks>=0.6.3) (22.3.0)\n",
      "Requirement already satisfied: jupyter-core>=4.9.2 in /home/hamza/.cache/pypoetry/virtualenvs/zenml-5F48Ch7I-py3.8/lib/python3.8/site-packages (from jupyter-client>=6.1.12->ipykernel>=5.3.0->deepchecks>=0.6.3) (4.9.2)\n",
      "Requirement already satisfied: fastjsonschema in /home/hamza/.cache/pypoetry/virtualenvs/zenml-5F48Ch7I-py3.8/lib/python3.8/site-packages (from nbformat>=4.2.0->ipywidgets>=7.6.5->deepchecks>=0.6.3) (2.15.3)\n",
      "Requirement already satisfied: jsonschema>=2.6 in /home/hamza/.cache/pypoetry/virtualenvs/zenml-5F48Ch7I-py3.8/lib/python3.8/site-packages (from nbformat>=4.2.0->ipywidgets>=7.6.5->deepchecks>=0.6.3) (3.2.0)\n",
      "Requirement already satisfied: ptyprocess>=0.5 in /home/hamza/.cache/pypoetry/virtualenvs/zenml-5F48Ch7I-py3.8/lib/python3.8/site-packages (from pexpect>4.3->ipython<8,>=7.15.0->deepchecks>=0.6.3) (0.7.0)\n",
      "Requirement already satisfied: wcwidth in /home/hamza/.cache/pypoetry/virtualenvs/zenml-5F48Ch7I-py3.8/lib/python3.8/site-packages (from prompt-toolkit!=3.0.0,!=3.0.1,<3.1.0,>=2.0.0->ipython<8,>=7.15.0->deepchecks>=0.6.3) (0.2.5)\n",
      "\u001b[2K\u001b[32m⠴\u001b[0m Installing integrations...Requirement already satisfied: notebook>=4.4.1 in /home/hamza/.cache/pypoetry/virtualenvs/zenml-5F48Ch7I-py3.8/lib/python3.8/site-packages (from widgetsnbextension~=3.6.0->ipywidgets>=7.6.5->deepchecks>=0.6.3) (6.4.10)\n",
      "Requirement already satisfied: attrs>=17.4.0 in /home/hamza/.cache/pypoetry/virtualenvs/zenml-5F48Ch7I-py3.8/lib/python3.8/site-packages (from jsonschema>=2.6->nbformat>=4.2.0->ipywidgets>=7.6.5->deepchecks>=0.6.3) (20.3.0)\n",
      "Requirement already satisfied: pyrsistent>=0.14.0 in /home/hamza/.cache/pypoetry/virtualenvs/zenml-5F48Ch7I-py3.8/lib/python3.8/site-packages (from jsonschema>=2.6->nbformat>=4.2.0->ipywidgets>=7.6.5->deepchecks>=0.6.3) (0.18.1)\n",
      "Requirement already satisfied: argon2-cffi in /home/hamza/.cache/pypoetry/virtualenvs/zenml-5F48Ch7I-py3.8/lib/python3.8/site-packages (from notebook>=4.4.1->widgetsnbextension~=3.6.0->ipywidgets>=7.6.5->deepchecks>=0.6.3) (21.3.0)\n",
      "Requirement already satisfied: jinja2 in /home/hamza/.cache/pypoetry/virtualenvs/zenml-5F48Ch7I-py3.8/lib/python3.8/site-packages (from notebook>=4.4.1->widgetsnbextension~=3.6.0->ipywidgets>=7.6.5->deepchecks>=0.6.3) (2.11.3)\n",
      "Requirement already satisfied: nbconvert>=5 in /home/hamza/.cache/pypoetry/virtualenvs/zenml-5F48Ch7I-py3.8/lib/python3.8/site-packages (from notebook>=4.4.1->widgetsnbextension~=3.6.0->ipywidgets>=7.6.5->deepchecks>=0.6.3) (6.4.4)\n",
      "Requirement already satisfied: prometheus-client in /home/hamza/.cache/pypoetry/virtualenvs/zenml-5F48Ch7I-py3.8/lib/python3.8/site-packages (from notebook>=4.4.1->widgetsnbextension~=3.6.0->ipywidgets>=7.6.5->deepchecks>=0.6.3) (0.14.1)\n",
      "Requirement already satisfied: Send2Trash>=1.8.0 in /home/hamza/.cache/pypoetry/virtualenvs/zenml-5F48Ch7I-py3.8/lib/python3.8/site-packages (from notebook>=4.4.1->widgetsnbextension~=3.6.0->ipywidgets>=7.6.5->deepchecks>=0.6.3) (1.8.0)\n",
      "Requirement already satisfied: terminado>=0.8.3 in /home/hamza/.cache/pypoetry/virtualenvs/zenml-5F48Ch7I-py3.8/lib/python3.8/site-packages (from notebook>=4.4.1->widgetsnbextension~=3.6.0->ipywidgets>=7.6.5->deepchecks>=0.6.3) (0.13.3)\n",
      "\u001b[2K\u001b[32m⠦\u001b[0m Installing integrations...Requirement already satisfied: beautifulsoup4 in /home/hamza/.cache/pypoetry/virtualenvs/zenml-5F48Ch7I-py3.8/lib/python3.8/site-packages (from nbconvert>=5->notebook>=4.4.1->widgetsnbextension~=3.6.0->ipywidgets>=7.6.5->deepchecks>=0.6.3) (4.11.1)\n",
      "Requirement already satisfied: mistune<2,>=0.8.1 in /home/hamza/.cache/pypoetry/virtualenvs/zenml-5F48Ch7I-py3.8/lib/python3.8/site-packages (from nbconvert>=5->notebook>=4.4.1->widgetsnbextension~=3.6.0->ipywidgets>=7.6.5->deepchecks>=0.6.3) (0.8.4)\n",
      "Requirement already satisfied: pandocfilters>=1.4.1 in /home/hamza/.cache/pypoetry/virtualenvs/zenml-5F48Ch7I-py3.8/lib/python3.8/site-packages (from nbconvert>=5->notebook>=4.4.1->widgetsnbextension~=3.6.0->ipywidgets>=7.6.5->deepchecks>=0.6.3) (1.5.0)\n",
      "Requirement already satisfied: testpath in /home/hamza/.cache/pypoetry/virtualenvs/zenml-5F48Ch7I-py3.8/lib/python3.8/site-packages (from nbconvert>=5->notebook>=4.4.1->widgetsnbextension~=3.6.0->ipywidgets>=7.6.5->deepchecks>=0.6.3) (0.6.0)\n",
      "Requirement already satisfied: nbclient<0.6.0,>=0.5.0 in /home/hamza/.cache/pypoetry/virtualenvs/zenml-5F48Ch7I-py3.8/lib/python3.8/site-packages (from nbconvert>=5->notebook>=4.4.1->widgetsnbextension~=3.6.0->ipywidgets>=7.6.5->deepchecks>=0.6.3) (0.5.13)\n",
      "Requirement already satisfied: jupyterlab-pygments in /home/hamza/.cache/pypoetry/virtualenvs/zenml-5F48Ch7I-py3.8/lib/python3.8/site-packages (from nbconvert>=5->notebook>=4.4.1->widgetsnbextension~=3.6.0->ipywidgets>=7.6.5->deepchecks>=0.6.3) (0.2.2)\n",
      "Requirement already satisfied: bleach in /home/hamza/.cache/pypoetry/virtualenvs/zenml-5F48Ch7I-py3.8/lib/python3.8/site-packages (from nbconvert>=5->notebook>=4.4.1->widgetsnbextension~=3.6.0->ipywidgets>=7.6.5->deepchecks>=0.6.3) (5.0.0)\n",
      "Requirement already satisfied: defusedxml in /home/hamza/.cache/pypoetry/virtualenvs/zenml-5F48Ch7I-py3.8/lib/python3.8/site-packages (from nbconvert>=5->notebook>=4.4.1->widgetsnbextension~=3.6.0->ipywidgets>=7.6.5->deepchecks>=0.6.3) (0.7.1)\n",
      "Requirement already satisfied: MarkupSafe>=0.23 in /home/hamza/.cache/pypoetry/virtualenvs/zenml-5F48Ch7I-py3.8/lib/python3.8/site-packages (from jinja2->notebook>=4.4.1->widgetsnbextension~=3.6.0->ipywidgets>=7.6.5->deepchecks>=0.6.3) (1.1.1)\n",
      "Requirement already satisfied: argon2-cffi-bindings in /home/hamza/.cache/pypoetry/virtualenvs/zenml-5F48Ch7I-py3.8/lib/python3.8/site-packages (from argon2-cffi->notebook>=4.4.1->widgetsnbextension~=3.6.0->ipywidgets>=7.6.5->deepchecks>=0.6.3) (21.2.0)\n",
      "Requirement already satisfied: cffi>=1.0.1 in /home/hamza/.cache/pypoetry/virtualenvs/zenml-5F48Ch7I-py3.8/lib/python3.8/site-packages (from argon2-cffi-bindings->argon2-cffi->notebook>=4.4.1->widgetsnbextension~=3.6.0->ipywidgets>=7.6.5->deepchecks>=0.6.3) (1.15.0)\n",
      "Requirement already satisfied: soupsieve>1.2 in /home/hamza/.cache/pypoetry/virtualenvs/zenml-5F48Ch7I-py3.8/lib/python3.8/site-packages (from beautifulsoup4->nbconvert>=5->notebook>=4.4.1->widgetsnbextension~=3.6.0->ipywidgets>=7.6.5->deepchecks>=0.6.3) (2.3.2)\n",
      "Requirement already satisfied: webencodings in /home/hamza/.cache/pypoetry/virtualenvs/zenml-5F48Ch7I-py3.8/lib/python3.8/site-packages (from bleach->nbconvert>=5->notebook>=4.4.1->widgetsnbextension~=3.6.0->ipywidgets>=7.6.5->deepchecks>=0.6.3) (0.5.1)\n",
      "Requirement already satisfied: pycparser in /home/hamza/.cache/pypoetry/virtualenvs/zenml-5F48Ch7I-py3.8/lib/python3.8/site-packages (from cffi>=1.0.1->argon2-cffi-bindings->argon2-cffi->notebook>=4.4.1->widgetsnbextension~=3.6.0->ipywidgets>=7.6.5->deepchecks>=0.6.3) (2.21)\n",
      "\u001b[2K\u001b[32m⠏\u001b[0m Installing integrations...Installing collected packages: packaging, deepchecks\n",
      "  Attempting uninstall: packaging\n",
      "    Found existing installation: packaging 20.9\n",
      "    Uninstalling packaging-20.9:\n",
      "      Successfully uninstalled packaging-20.9\n",
      "  Attempting uninstall: deepchecks\n",
      "    Found existing installation: deepchecks dev\n"
     ]
    },
    {
     "name": "stdout",
     "output_type": "stream",
     "text": [
      "    Uninstalling deepchecks-dev:\n",
      "\u001b[2K\u001b[32m⠸\u001b[0m Installing integrations...      Successfully uninstalled deepchecks-dev\n",
      "\u001b[2K\u001b[32m⠴\u001b[0m Installing integrations...\u001b[31mERROR: pip's dependency resolver does not currently take into account all the packages that are installed. This behaviour is the source of the following dependency conflicts.\n",
      "ml-pipelines-sdk 1.7.1 requires packaging<21,>=20, but you have packaging 21.3 which is incompatible.\u001b[0m\n",
      "Successfully installed deepchecks-0.6.3 packaging-21.3\n",
      "\u001b[33mWARNING: You are using pip version 21.3.1; however, version 22.0.4 is available.\n",
      "You should consider upgrading via the '/home/hamza/.cache/pypoetry/virtualenvs/zenml-5F48Ch7I-py3.8/bin/python -m pip install --upgrade pip' command.\u001b[0m\n",
      "\u001b[2K\u001b[32m⠦\u001b[0m Installing integrations...\n",
      "\u001b[2K\u001b[32m⠙\u001b[0m Installing integrations...rations...Requirement already satisfied: scikit-learn in /home/hamza/.cache/pypoetry/virtualenvs/zenml-5F48Ch7I-py3.8/lib/python3.8/site-packages (1.0.2)\n",
      "\u001b[2K\u001b[32m⠹\u001b[0m Installing integrations...Requirement already satisfied: scipy>=1.1.0 in /home/hamza/.cache/pypoetry/virtualenvs/zenml-5F48Ch7I-py3.8/lib/python3.8/site-packages (from scikit-learn) (1.8.0)\n",
      "Requirement already satisfied: joblib>=0.11 in /home/hamza/.cache/pypoetry/virtualenvs/zenml-5F48Ch7I-py3.8/lib/python3.8/site-packages (from scikit-learn) (1.1.0)\n",
      "Requirement already satisfied: threadpoolctl>=2.0.0 in /home/hamza/.cache/pypoetry/virtualenvs/zenml-5F48Ch7I-py3.8/lib/python3.8/site-packages (from scikit-learn) (3.1.0)\n",
      "Requirement already satisfied: numpy>=1.14.6 in /home/hamza/.cache/pypoetry/virtualenvs/zenml-5F48Ch7I-py3.8/lib/python3.8/site-packages (from scikit-learn) (1.21.6)\n",
      "\u001b[2K\u001b[32m⠴\u001b[0m Installing integrations...^C\n",
      "\u001b[31mERROR: Operation cancelled by user\u001b[0m\n",
      "\u001b[33mWARNING: You are using pip version 21.3.1; however, version 22.0.4 is available.\n",
      "You should consider upgrading via the '/home/hamza/.cache/pypoetry/virtualenvs/zenml-5F48Ch7I-py3.8/bin/python -m pip install --upgrade pip' command.\u001b[0m\n",
      "\u001b[2K\u001b[32m⠧\u001b[0m Installing integrations...\n",
      "\u001b[1A\u001b[2K\n",
      "Aborted!\n"
     ]
    }
   ],
   "source": [
    "# Install the ZenML CLI tool, Deepchecks and scikit-learn\n",
    "\n",
    "!pip install zenml \n",
    "!zenml integration install deepchecks -f\n",
    "!zenml integration install sklearn -f"
   ]
  },
  {
   "cell_type": "markdown",
   "metadata": {
    "id": "T_RCPyaNzPy-"
   },
   "source": [
    "Once the installation is completed, you can go ahead and create a ZenML repository for this project by running:"
   ]
  },
  {
   "cell_type": "code",
   "execution_count": 2,
   "metadata": {
    "colab": {
     "base_uri": "https://localhost:8080/"
    },
    "id": "-lcfE3l2zTU-",
    "outputId": "3d3e70af-c87a-4ac9-917d-b322823431e1"
   },
   "outputs": [
    {
     "name": "stdout",
     "output_type": "stream",
     "text": [
      "\u001b[?25l\u001b[32m⠋\u001b[0m Initializing ZenML repository at \r\n",
      "/home/hamza/workspace/zenml_io/zenml/examples/deepchecks_data_validation.\r\n",
      "\r\n",
      "\u001b[?25h\r",
      "\u001b[1A\u001b[2K\u001b[1A\u001b[2K\u001b[1A\u001b[2KError: \u001b[31m\u001b[1mFound existing ZenML repository at path '/home/hamza/workspace/zenml_io/zenml/examples/deepchecks_data_validation'.\u001b[0m\r\n"
     ]
    }
   ],
   "source": [
    "# Initialize a ZenML repository\n",
    "!zenml init"
   ]
  },
  {
   "cell_type": "markdown",
   "metadata": {
    "id": "yQE8PSXDzL-_"
   },
   "source": [
    "Now, the setup is completed. For the next steps, just make sure that you are executing the code within your ZenML repository."
   ]
  },
  {
   "cell_type": "markdown",
   "metadata": {
    "id": "izjbDO-6yrFM"
   },
   "source": [
    "## Import relevant packages"
   ]
  },
  {
   "cell_type": "markdown",
   "metadata": {
    "id": "2gtj5QKCnSj0"
   },
   "source": [
    "We will use pipelines and steps to train our model."
   ]
  },
  {
   "cell_type": "code",
   "execution_count": 3,
   "metadata": {
    "colab": {
     "base_uri": "https://localhost:8080/"
    },
    "id": "LvFo9epOUE7G",
    "outputId": "42bec4a0-41f9-4560-e9a1-e139f08c4e0a"
   },
   "outputs": [],
   "source": [
    "import pandas as pd\n",
    "from deepchecks.core. import SuiteResult\n",
    "from deepchecks.tabular import Dataset\n",
    "from deepchecks.tabular.datasets.classification import iris\n",
    "from deepchecks.tabular.suites import full_suite\n",
    "from rich import print\n",
    "from sklearn.model_selection import train_test_split\n",
    "\n",
    "from zenml.integrations.constants import DEEPCHECKS, SKLEARN\n",
    "from zenml.integrations.deepchecks.visualizers import DeepchecksVisualizer\n",
    "from zenml.logger import get_logger\n",
    "from zenml.pipelines import pipeline\n",
    "from zenml.repository import Repository\n",
    "from zenml.steps import Output, step"
   ]
  },
  {
   "cell_type": "markdown",
   "metadata": {
    "id": "6UwqjAR2yvH_"
   },
   "source": [
    "## Define ZenML Steps"
   ]
  },
  {
   "cell_type": "markdown",
   "metadata": {
    "id": "QZI9i2FJ0k3H"
   },
   "source": [
    "The first step is a `data_loader` step that downloads the breast cancer Wisconsin dataset and returns it as a panda DataFrame. We'll use this as the reference dataset for our data drift detection example."
   ]
  },
  {
   "cell_type": "code",
   "execution_count": 4,
   "metadata": {
    "colab": {
     "base_uri": "https://localhost:8080/"
    },
    "id": "1VT_PAW10jbp",
    "outputId": "36ecdd08-3bca-42b4-d84d-be76126840e8"
   },
   "outputs": [],
   "source": [
    "@step\n",
    "def data_loader() -> Output(\n",
    "    reference_dataset=pd.DataFrame, comparison_dataset=pd.DataFrame\n",
    "):\n",
    "    \"\"\"Load the iris dataset.\"\"\"\n",
    "    iris_df = iris.load_data(data_format=\"Dataframe\", as_train_test=False)\n",
    "    label_col = \"target\"\n",
    "    df_train, df_test = train_test_split(\n",
    "        iris_df, stratify=iris_df[label_col], random_state=0\n",
    "    )\n",
    "    return df_train, df_test"
   ]
  },
  {
   "cell_type": "markdown",
   "metadata": {
    "id": "aU9ygH9s1BgR"
   },
   "source": [
    "Next, we add a data validator step from deepchecks"
   ]
  },
  {
   "cell_type": "code",
   "execution_count": 5,
   "metadata": {
    "colab": {
     "base_uri": "https://localhost:8080/"
    },
    "id": "37mMICD_URDW",
    "outputId": "873fe64b-1105-4181-8541-c31356069305"
   },
   "outputs": [],
   "source": [
    "@step\n",
    "def data_validator(\n",
    "    reference_dataset: pd.DataFrame, comparison_dataset: pd.DataFrame\n",
    ") -> SuiteResult:\n",
    "    \"\"\"Validate data using deepchecks\"\"\"\n",
    "    ds_train = Dataset(reference_dataset)\n",
    "    ds_test = Dataset(comparison_dataset)\n",
    "    suite = full_suite()\n",
    "    return suite.run(train_dataset=ds_train, test_dataset=ds_test)"
   ]
  },
  {
   "cell_type": "markdown",
   "metadata": {
    "id": "aU9ygH9s1BgR"
   },
   "source": [
    "This next step serves as an example showing how the Evidently profile returned as output from the previous step can be used in other steps in the pipeline to analyze the data drift report in detail and take different actions depending on the results. "
   ]
  },
  {
   "cell_type": "code",
   "execution_count": 6,
   "metadata": {
    "colab": {
     "base_uri": "https://localhost:8080/"
    },
    "id": "37mMICD_URDW",
    "outputId": "873fe64b-1105-4181-8541-c31356069305"
   },
   "outputs": [],
   "source": [
    "@step\n",
    "def post_validation(result: SuiteResult) -> None:\n",
    "    \"\"\"Consumes the SuiteResult.\"\"\"\n",
    "    print(result)\n",
    "    result.save_as_html()"
   ]
  },
  {
   "cell_type": "markdown",
   "metadata": {
    "id": "u_iZTIz8y7Cp"
   },
   "source": [
    "## Define ZenML Pipeline"
   ]
  },
  {
   "cell_type": "markdown",
   "metadata": {
    "id": "oKbU3WlbnoiA"
   },
   "source": [
    "A pipeline is defined with the `@pipeline` decorator. This defines the various steps of the pipeline and specifies the dependencies between the steps, thereby determining the order in which they will be run."
   ]
  },
  {
   "cell_type": "code",
   "execution_count": 7,
   "metadata": {
    "id": "rm8SIrLFWenn"
   },
   "outputs": [
    {
     "ename": "NameError",
     "evalue": "name 'DEEPCHECKSEVIDENTLY' is not defined",
     "output_type": "error",
     "traceback": [
      "\u001b[0;31m---------------------------------------------------------------------------\u001b[0m",
      "\u001b[0;31mNameError\u001b[0m                                 Traceback (most recent call last)",
      "\u001b[0;32m/tmp/ipykernel_33112/288060523.py\u001b[0m in \u001b[0;36m<cell line: 1>\u001b[0;34m()\u001b[0m\n\u001b[0;32m----> 1\u001b[0;31m \u001b[0;34m@\u001b[0m\u001b[0mpipeline\u001b[0m\u001b[0;34m(\u001b[0m\u001b[0mrequired_integrations\u001b[0m\u001b[0;34m=\u001b[0m\u001b[0;34m[\u001b[0m\u001b[0mDEEPCHECKSEVIDENTLY\u001b[0m\u001b[0;34m,\u001b[0m \u001b[0mSKLEARN\u001b[0m\u001b[0;34m]\u001b[0m\u001b[0;34m)\u001b[0m\u001b[0;34m\u001b[0m\u001b[0;34m\u001b[0m\u001b[0m\n\u001b[0m\u001b[1;32m      2\u001b[0m def data_validation_pipeline(\n\u001b[1;32m      3\u001b[0m     \u001b[0mdata_loader\u001b[0m\u001b[0;34m,\u001b[0m\u001b[0;34m\u001b[0m\u001b[0;34m\u001b[0m\u001b[0m\n\u001b[1;32m      4\u001b[0m     \u001b[0mdata_validator\u001b[0m\u001b[0;34m,\u001b[0m\u001b[0;34m\u001b[0m\u001b[0;34m\u001b[0m\u001b[0m\n\u001b[1;32m      5\u001b[0m     \u001b[0mpost_validation\u001b[0m\u001b[0;34m,\u001b[0m\u001b[0;34m\u001b[0m\u001b[0;34m\u001b[0m\u001b[0m\n",
      "\u001b[0;31mNameError\u001b[0m: name 'DEEPCHECKSEVIDENTLY' is not defined"
     ]
    }
   ],
   "source": [
    "@pipeline(required_integrations=[DEEPCHECKS, SKLEARN])\n",
    "def data_validation_pipeline(\n",
    "    data_loader,\n",
    "    data_validator,\n",
    "    post_validation,\n",
    "):\n",
    "    \"\"\"Links all the steps together in a pipeline\"\"\"\n",
    "    reference_dataset, comparison_dataset = data_loader()\n",
    "    validation_result = data_validator(\n",
    "        reference_dataset=reference_dataset,\n",
    "        comparison_dataset=comparison_dataset,\n",
    "    )\n",
    "    post_validation(validation_result)"
   ]
  },
  {
   "cell_type": "markdown",
   "metadata": {
    "id": "b-JtDHu_z1IX"
   },
   "source": [
    "## Run the pipeline"
   ]
  },
  {
   "cell_type": "markdown",
   "metadata": {
    "id": "NrJA5OSgnydC"
   },
   "source": [
    "Running the pipeline is as simple as calling the `run()` method on an instance of the defined pipeline."
   ]
  },
  {
   "cell_type": "code",
   "execution_count": null,
   "metadata": {
    "colab": {
     "base_uri": "https://localhost:8080/"
    },
    "id": "dRzZA406UVVz",
    "outputId": "2d5e9967-87b7-4553-a104-b1b6602e10a6"
   },
   "outputs": [],
   "source": [
    "pipeline = data_validation_pipeline(\n",
    "    data_loader=data_loader(),\n",
    "    data_validator=data_validator(),\n",
    "    post_validation=post_validation(),\n",
    ")\n",
    "pipeline.run()"
   ]
  },
  {
   "cell_type": "markdown",
   "metadata": {},
   "source": [
    "# Post execution workflow"
   ]
  },
  {
   "cell_type": "markdown",
   "metadata": {},
   "source": [
    "We can also visualize the results"
   ]
  },
  {
   "cell_type": "code",
   "execution_count": null,
   "metadata": {},
   "outputs": [],
   "source": [
    "repo = Repository()\n",
    "pipeline = repo.get_pipeline(pipeline_name=\"data_validation_pipeline\")\n",
    "last_run = pipeline.runs[-1]\n",
    "data_val_step = last_run.get_step(name=\"data_validator\")"
   ]
  },
  {
   "cell_type": "code",
   "execution_count": null,
   "metadata": {},
   "outputs": [],
   "source": [
    "DeepchecksVisualizer().visualize(data_val_step)"
   ]
  },
  {
   "cell_type": "markdown",
   "metadata": {},
   "source": [
    "# Congratulations!"
   ]
  },
  {
   "cell_type": "markdown",
   "metadata": {
    "id": "uOJtVVaFzlUO"
   },
   "source": [
    "You have successfully used ZenML and Deepchecks to validate data and generate a validation report.\n",
    "\n",
    "For more ZenML features and use-cases, you should check out some of the other ZenML examples. You should also take a look at our [docs](https://docs.zenml.io/) or our [Github](https://github.com/zenml-io/zenml) repo, or even better, join us on our [Slack channel](https://zenml.io/slack-invite).\n",
    "\n",
    "Cheers!"
   ]
  }
 ],
 "metadata": {
  "colab": {
   "collapsed_sections": [],
   "include_colab_link": true,
   "name": "ZenML Quickstart.ipynb",
   "provenance": []
  },
  "kernelspec": {
   "display_name": "Python 3 (ipykernel)",
   "language": "python",
   "name": "python3"
  },
  "language_info": {
   "codemirror_mode": {
    "name": "ipython",
    "version": 3
   },
   "file_extension": ".py",
   "mimetype": "text/x-python",
   "name": "python",
   "nbconvert_exporter": "python",
   "pygments_lexer": "ipython3",
   "version": "3.8.10"
  }
 },
 "nbformat": 4,
 "nbformat_minor": 1
}
