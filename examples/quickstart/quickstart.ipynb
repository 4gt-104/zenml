{
 "cells": [
  {
   "cell_type": "markdown",
   "metadata": {
    "colab_type": "text",
    "id": "view-in-github"
   },
   "source": [
    "<a href=\"https://colab.research.google.com/github/zenml-io/zenml/blob/main/examples/quickstart/quickstart.ipynb\" target=\"_parent\"><img src=\"https://colab.research.google.com/assets/colab-badge.svg\" alt=\"Open In Colab\"/></a>"
   ]
  },
  {
   "cell_type": "markdown",
   "metadata": {
    "id": "RO_v5iIaYFi2"
   },
   "source": [
    "# ZenML Quickstart Guide\n",
    "\n",
    "Our goal here is to help you to get the first practical experience with our tool and give you a brief overview on some basic functionalities of ZenML.\n",
    "\n",
    "The quickest way to get started is to create a simple pipeline. We'll be using the [MNIST](http://yann.lecun.com/exdb/mnist/) dataset (originally developed by Yann LeCun and others) digits, and then later the [Fashion MNIST](https://github.com/zalandoresearch/fashion-mnist) dataset developed by Zalando.\n",
    "\n",
    "If you want to run this notebook in an interactive environment, feel free to run it in a Google Colab.\n",
    "\n",
    "## Purpose\n",
    "\n",
    "This quickstart guide is designed to provide a practical introduction to some of the main concepts and paradigms used by the ZenML framework. If you want more detail, our [full documentation](https://docs.zenml.io/) provides more on the concepts and how to implement them.\n",
    "\n",
    "## Using Google Colab\n",
    "\n",
    "You will want to use a GPU for this example. If you are following this quickstart in Google's Colab, follow these steps:\n",
    "\n",
    "- Before running anything, you need to tell Colab that you want to use a GPU. You can do this by clicking on the ‘Runtime’ tab and selecting ‘Change runtime type’. A pop-up window will open up with a drop-down menu.\n",
    "- Select ‘GPU’ from the menu and click ‘Save’.\n",
    "- It may ask if you want to restart the runtime. If so, go ahead and do that.\n",
    "\n",
    "<!-- The code for the MNIST training borrows heavily from [this](https://www.tensorflow.org/datasets/keras_example) -->"
   ]
  },
  {
   "cell_type": "markdown",
   "metadata": {
    "id": "VNLEesHEyjkg"
   },
   "source": [
    "## Install libraries"
   ]
  },
  {
   "cell_type": "code",
   "execution_count": null,
   "metadata": {
    "colab": {
     "base_uri": "https://localhost:8080/"
    },
    "id": "x7l4qDgcI_5F",
    "outputId": "ed764976-0d95-4e5f-e75d-805d2bab804c"
   },
   "outputs": [],
   "source": [
    "# Install the ZenML CLI tool and Tensorflow\n",
    "!pip install zenml==\"0.5.0\" tensorflow"
   ]
  },
  {
   "cell_type": "markdown",
   "metadata": {
    "id": "T_RCPyaNzPy-"
   },
   "source": [
    "Once the installation is completed, you can go ahead and create your first ZenML repository for your project. As ZenML repositories are built on top of Git repositories, you can create yours in a desired empty directory through:"
   ]
  },
  {
   "cell_type": "code",
   "execution_count": null,
   "metadata": {
    "colab": {
     "base_uri": "https://localhost:8080/"
    },
    "id": "-lcfE3l2zTU-",
    "outputId": "3d3e70af-c87a-4ac9-917d-b322823431e1"
   },
   "outputs": [],
   "source": [
    "# Initialize a git repository\n",
    "!git init\n",
    "\n",
    "# Initialize ZenML's .zen file\n",
    "!zenml init"
   ]
  },
  {
   "cell_type": "markdown",
   "metadata": {
    "id": "yQE8PSXDzL-_"
   },
   "source": [
    "Now, the setup is completed. For the next steps, just make sure that you are executing the code within your ZenML repository."
   ]
  },
  {
   "cell_type": "markdown",
   "metadata": {
    "id": "izjbDO-6yrFM"
   },
   "source": [
    "## Import relevant packages"
   ]
  },
  {
   "cell_type": "markdown",
   "metadata": {
    "id": "2gtj5QKCnSj0"
   },
   "source": [
    "We will use pipelines and steps in to train our model."
   ]
  },
  {
   "cell_type": "code",
   "execution_count": 1,
   "metadata": {
    "colab": {
     "base_uri": "https://localhost:8080/"
    },
    "id": "LvFo9epOUE7G",
    "outputId": "42bec4a0-41f9-4560-e9a1-e139f08c4e0a"
   },
   "outputs": [
    {
     "name": "stdout",
     "output_type": "stream",
     "text": [
      "2021-10-15 15:46:39,543 — zenml.materializers.default_materializer_registry — DEBUG — Registered materializer <class 'zenml.materializers.beam_materializer.BeamMaterializer'> for <class 'apache_beam.pipeline.Pipeline'>\n",
      "2021-10-15 15:46:39,544 — zenml.materializers.default_materializer_registry — DEBUG — Registered materializer <class 'zenml.materializers.beam_materializer.BeamMaterializer'> for apache_beam.pvalue.PCollection\n",
      "2021-10-15 15:46:39,545 — zenml.materializers.default_materializer_registry — DEBUG — Registered materializer <class 'zenml.materializers.built_in_materializer.BuiltInMaterializer'> for <class 'int'>\n",
      "2021-10-15 15:46:39,545 — zenml.materializers.default_materializer_registry — DEBUG — Registered materializer <class 'zenml.materializers.built_in_materializer.BuiltInMaterializer'> for <class 'str'>\n",
      "2021-10-15 15:46:39,546 — zenml.materializers.default_materializer_registry — DEBUG — Registered materializer <class 'zenml.materializers.built_in_materializer.BuiltInMaterializer'> for <class 'bytes'>\n",
      "2021-10-15 15:46:39,547 — zenml.materializers.default_materializer_registry — DEBUG — Registered materializer <class 'zenml.materializers.built_in_materializer.BuiltInMaterializer'> for <class 'dict'>\n",
      "2021-10-15 15:46:39,547 — zenml.materializers.default_materializer_registry — DEBUG — Registered materializer <class 'zenml.materializers.built_in_materializer.BuiltInMaterializer'> for <class 'float'>\n",
      "2021-10-15 15:46:39,547 — zenml.materializers.default_materializer_registry — DEBUG — Registered materializer <class 'zenml.materializers.built_in_materializer.BuiltInMaterializer'> for <class 'list'>\n",
      "2021-10-15 15:46:39,548 — zenml.materializers.default_materializer_registry — DEBUG — Registered materializer <class 'zenml.materializers.built_in_materializer.BuiltInMaterializer'> for <class 'tuple'>\n",
      "2021-10-15 15:46:39,548 — zenml.materializers.default_materializer_registry — DEBUG — <class 'str'> already registered with <class 'zenml.materializers.built_in_materializer.BuiltInMaterializer'>. Cannot register <class 'zenml.materializers.built_in_materializer.BuiltInMaterializer'>.\n",
      "2021-10-15 15:46:39,549 — zenml.materializers.default_materializer_registry — DEBUG — Registered materializer <class 'zenml.materializers.built_in_materializer.BuiltInMaterializer'> for typing.List\n",
      "2021-10-15 15:46:39,549 — zenml.materializers.default_materializer_registry — DEBUG — Registered materializer <class 'zenml.materializers.built_in_materializer.BuiltInMaterializer'> for typing.Dict\n",
      "2021-10-15 15:46:39,550 — zenml.materializers.default_materializer_registry — DEBUG — Registered materializer <class 'zenml.materializers.built_in_materializer.BuiltInMaterializer'> for typing.Set\n",
      "2021-10-15 15:46:39,552 — zenml.materializers.default_materializer_registry — DEBUG — Registered materializer <class 'zenml.materializers.built_in_materializer.BuiltInMaterializer'> for typing.Tuple\n",
      "2021-10-15 15:46:39,553 — zenml.materializers.default_materializer_registry — DEBUG — Registered materializer <class 'zenml.materializers.numpy_materializer.NumpyMaterializer'> for <class 'numpy.ndarray'>\n",
      "2021-10-15 15:46:39,782 — zenml.materializers.default_materializer_registry — DEBUG — Registered materializer <class 'zenml.materializers.pandas_materializer.PandasMaterializer'> for <class 'pandas.core.frame.DataFrame'>\n",
      "2021-10-15 15:46:39,937 — zenml.materializers.default_materializer_registry — DEBUG — Registered materializer <class 'zenml.materializers.keras_meterializer.KerasMaterializer'> for <class 'keras.engine.training.Model'>\n",
      "2021-10-15 15:46:39,938 — zenml.materializers.default_materializer_registry — DEBUG — Registered materializer <class 'zenml.materializers.tf_dataset_materializer.TensorflowDatasetMaterializer'> for <class 'tensorflow.python.data.ops.dataset_ops.DatasetV2'>\n",
      "2021-10-15 15:46:39,938 — zenml.materializers.default_materializer_registry — DEBUG — Registered materializer <class 'zenml.materializers.tf_dataset_materializer.TensorflowDatasetMaterializer'> for <class 'tensorflow.python.data.ops.dataset_ops.PrefetchDataset'>\n",
      "2021-10-15 15:46:40,482 — zenml.materializers.default_materializer_registry — DEBUG — Registered materializer <class 'zenml.materializers.pytorch_materializer.PyTorchMaterializer'> for <class 'torch.nn.modules.module.Module'>\n",
      "2021-10-15 15:46:40,485 — zenml.materializers.default_materializer_registry — DEBUG — Registered materializer <class 'zenml.materializers.pytorch_materializer.PyTorchMaterializer'> for zenml.types.pytorch_types.TorchDict\n",
      "2021-10-15 15:46:40,687 — zenml.materializers.default_materializer_registry — DEBUG — Registered materializer <class 'zenml.materializers.pytorch_lightning_materializer.PyTorchLightningMaterializer'> for <class 'pytorch_lightning.trainer.trainer.Trainer'>\n",
      "2021-10-15 15:46:40,784 — zenml.steps.base_step — DEBUG — Registering class BaseStep, bases: (), dct: {'__module__': 'zenml.steps.base_step', '__qualname__': 'BaseStep', '__doc__': 'The base implementation of a ZenML Step which will be inherited by all\\n    the other step implementations', '__init__': <function BaseStep.__init__ at 0x7fca00d07400>, '__call__': <function BaseStep.__call__ at 0x7fca00d07488>, 'component': <property object at 0x7fca00d80d18>, 'process': <function BaseStep.process at 0x7fca00d07598>, 'with_return_materializers': <function BaseStep.with_return_materializers at 0x7fca00d076a8>, 'resolve_signature_materializers': <function BaseStep.resolve_signature_materializers at 0x7fca00d077b8>}\n",
      "2021-10-15 15:46:40,784 — zenml.steps.base_step — DEBUG — BaseStep args: ['self']\n",
      "2021-10-15 15:46:40,790 — zenml.logger — DEBUG — Logging set to level: DEBUG\n"
     ]
    }
   ],
   "source": [
    "import numpy as np\n",
    "import tensorflow as tf\n",
    "\n",
    "from zenml.pipelines import pipeline\n",
    "from zenml.steps import step\n",
    "from zenml.steps.base_step_config import BaseStepConfig\n",
    "from zenml.steps.step_output import Output"
   ]
  },
  {
   "cell_type": "markdown",
   "metadata": {
    "id": "6UwqjAR2yvH_"
   },
   "source": [
    "## Define ZenML Steps"
   ]
  },
  {
   "cell_type": "markdown",
   "metadata": {
    "id": "5wHcI2FinX2O"
   },
   "source": [
    "In the code that follows, you can see that we are defining the various steps of our pipeline. Each step is decorated with `@step`, the main abstraction that is currently available for creating pipeline steps."
   ]
  },
  {
   "cell_type": "markdown",
   "metadata": {
    "id": "QZI9i2FJ0k3H"
   },
   "source": [
    "The first step is an `import` step that downloads the MNIST dataset and samples the first hundred rows for demo purposes."
   ]
  },
  {
   "cell_type": "code",
   "execution_count": 2,
   "metadata": {
    "colab": {
     "base_uri": "https://localhost:8080/"
    },
    "id": "1VT_PAW10jbp",
    "outputId": "36ecdd08-3bca-42b4-d84d-be76126840e8"
   },
   "outputs": [
    {
     "name": "stdout",
     "output_type": "stream",
     "text": [
      "2021-10-15 15:46:41,341 — zenml.steps.base_step — DEBUG — Registering class importer_mnist, bases: (<class 'zenml.steps.base_step.BaseStep'>,), dct: {'process': <staticmethod object at 0x7fca00d33f60>}\n",
      "2021-10-15 15:46:41,344 — zenml.steps.base_step — DEBUG — importer_mnist args: []\n"
     ]
    }
   ],
   "source": [
    "@step\n",
    "def importer_mnist() -> Output(\n",
    "    X_train=np.ndarray, y_train=np.ndarray, X_test=np.ndarray, y_test=np.ndarray\n",
    "):\n",
    "    \"\"\"Download the MNIST data store it as an artifact\"\"\"\n",
    "    (X_train, y_train), (\n",
    "        X_test,\n",
    "        y_test,\n",
    "    ) = tf.keras.datasets.mnist.load_data()\n",
    "    return X_train, y_train, X_test, y_test"
   ]
  },
  {
   "cell_type": "markdown",
   "metadata": {
    "id": "AU4OSa7Z0sc0"
   },
   "source": [
    "Secondly, we normalize all images."
   ]
  },
  {
   "cell_type": "code",
   "execution_count": 3,
   "metadata": {
    "colab": {
     "base_uri": "https://localhost:8080/"
    },
    "id": "v_4bPrRB0rNy",
    "outputId": "06b150bd-e3ea-4940-c5be-f00f86331c7c"
   },
   "outputs": [
    {
     "name": "stdout",
     "output_type": "stream",
     "text": [
      "2021-10-15 15:46:41,359 — zenml.steps.base_step — DEBUG — Registering class normalizer, bases: (<class 'zenml.steps.base_step.BaseStep'>,), dct: {'process': <staticmethod object at 0x7fca00d33cc0>}\n",
      "2021-10-15 15:46:41,360 — zenml.steps.base_step — DEBUG — normalizer args: ['X_train', 'X_test']\n"
     ]
    }
   ],
   "source": [
    "@step\n",
    "def normalizer(\n",
    "    X_train: np.ndarray, X_test: np.ndarray\n",
    ") -> Output(X_train_normed=np.ndarray, X_test_normed=np.ndarray):\n",
    "    \"\"\"Normalize the values for all the images so they are between 0 and 1\"\"\"\n",
    "    X_train_normed = X_train / 255.0\n",
    "    X_test_normed = X_test / 255.0\n",
    "    return X_train_normed, X_test_normed"
   ]
  },
  {
   "cell_type": "markdown",
   "metadata": {
    "id": "ma53mucU0yF3"
   },
   "source": [
    "We then add a `Trainer` step, that takes the normalized data and trains a Keras classifier on the data. Note that the `Output[ModelArtifact]` type helps in writing the model out to our artifact store. "
   ]
  },
  {
   "cell_type": "code",
   "execution_count": 4,
   "metadata": {
    "colab": {
     "base_uri": "https://localhost:8080/"
    },
    "id": "ZEw7Cbqx0wXj",
    "outputId": "0603fa51-eb20-4c22-d499-9e7f1f3a972b"
   },
   "outputs": [
    {
     "name": "stdout",
     "output_type": "stream",
     "text": [
      "2021-10-15 15:46:41,371 — zenml.steps.base_step — DEBUG — Registering class trainer, bases: (<class 'zenml.steps.base_step.BaseStep'>,), dct: {'process': <staticmethod object at 0x7fca00cf2e48>}\n",
      "2021-10-15 15:46:41,373 — zenml.steps.base_step — DEBUG — trainer args: ['config', 'X_train', 'y_train']\n"
     ]
    }
   ],
   "source": [
    "class TrainerConfig(BaseStepConfig):\n",
    "    \"\"\"Trainer params\"\"\"\n",
    "\n",
    "    epochs: int = 1\n",
    "        \n",
    "@step\n",
    "def trainer(\n",
    "    config: TrainerConfig,\n",
    "    X_train: np.ndarray,\n",
    "    y_train: np.ndarray,\n",
    ") -> tf.keras.Model:\n",
    "    \"\"\"Train a neural net from scratch to recognise MNIST digits return our\n",
    "    model or the learner\"\"\"\n",
    "    model = tf.keras.Sequential(\n",
    "        [\n",
    "            tf.keras.layers.Flatten(input_shape=(28, 28)),\n",
    "            tf.keras.layers.Dense(10, activation=\"relu\"),\n",
    "            tf.keras.layers.Dense(10),\n",
    "        ]\n",
    "    )\n",
    "\n",
    "    model.compile(\n",
    "        optimizer=tf.keras.optimizers.Adam(0.001),\n",
    "        loss=tf.keras.losses.SparseCategoricalCrossentropy(from_logits=True),\n",
    "        metrics=[\"accuracy\"],\n",
    "    )\n",
    "\n",
    "    model.fit(\n",
    "        X_train,\n",
    "        y_train,\n",
    "        epochs=config.epochs,\n",
    "    )\n",
    "\n",
    "    # write model\n",
    "    return model"
   ]
  },
  {
   "cell_type": "markdown",
   "metadata": {
    "id": "aU9ygH9s1BgR"
   },
   "source": [
    "Finally, we add an `Evaluator` step that takes as input the test set and the trained model and evaluates some final metrics."
   ]
  },
  {
   "cell_type": "code",
   "execution_count": 5,
   "metadata": {
    "colab": {
     "base_uri": "https://localhost:8080/"
    },
    "id": "37mMICD_URDW",
    "outputId": "873fe64b-1105-4181-8541-c31356069305"
   },
   "outputs": [
    {
     "name": "stdout",
     "output_type": "stream",
     "text": [
      "2021-10-15 15:46:41,383 — zenml.steps.base_step — DEBUG — Registering class evaluator, bases: (<class 'zenml.steps.base_step.BaseStep'>,), dct: {'process': <staticmethod object at 0x7fca00cf2630>}\n",
      "2021-10-15 15:46:41,384 — zenml.steps.base_step — DEBUG — evaluator args: ['X_test', 'y_test', 'model']\n"
     ]
    }
   ],
   "source": [
    "@step\n",
    "def evaluator(\n",
    "    X_test: np.ndarray,\n",
    "    y_test: np.ndarray,\n",
    "    model: tf.keras.Model,\n",
    ") -> np.ndarray:\n",
    "    \"\"\"Calculate the loss for the model for each epoch in a graph\"\"\"\n",
    "\n",
    "    test_loss, test_acc = model.evaluate(X_test, y_test, verbose=2)\n",
    "    return np.array([test_loss, test_acc])"
   ]
  },
  {
   "cell_type": "markdown",
   "metadata": {
    "id": "u_iZTIz8y7Cp"
   },
   "source": [
    "## Define ZenML Pipeline"
   ]
  },
  {
   "cell_type": "markdown",
   "metadata": {
    "id": "oKbU3WlbnoiA"
   },
   "source": [
    "A pipeline is defined with the `@pipeline` decorator. This defines the various steps of the pipeline and specifies the dependencies between the steps, thereby determining the order in which they will be run."
   ]
  },
  {
   "cell_type": "code",
   "execution_count": 6,
   "metadata": {
    "id": "rm8SIrLFWenn"
   },
   "outputs": [],
   "source": [
    "# Define the pipeline\n",
    "\n",
    "@pipeline\n",
    "def mnist_pipeline(\n",
    "    importer,\n",
    "    normalizer: normalizer,\n",
    "    trainer,\n",
    "    evaluator,\n",
    "):\n",
    "    # Link all the steps artifacts together\n",
    "    X_train, y_train, X_test, y_test = importer()\n",
    "    X_trained_normed, X_test_normed = normalizer(X_train=X_train, X_test=X_test)\n",
    "    model = trainer(X_train=X_trained_normed, y_train=y_train)\n",
    "    evaluator(X_test=X_test_normed, y_test=y_test, model=model)"
   ]
  },
  {
   "cell_type": "markdown",
   "metadata": {
    "id": "b-JtDHu_z1IX"
   },
   "source": [
    "## Initialise a Pipeline Run"
   ]
  },
  {
   "cell_type": "markdown",
   "metadata": {
    "id": "NrJA5OSgnydC"
   },
   "source": [
    "Here we initialise a run of our `MNISTTrainingPipeline`."
   ]
  },
  {
   "cell_type": "code",
   "execution_count": 7,
   "metadata": {
    "colab": {
     "base_uri": "https://localhost:8080/"
    },
    "id": "dRzZA406UVVz",
    "outputId": "2d5e9967-87b7-4553-a104-b1b6602e10a6"
   },
   "outputs": [
    {
     "name": "stdout",
     "output_type": "stream",
     "text": [
      "2021-10-15 15:46:41,400 — zenml.core.utils — DEBUG — Parsing file: /home/hamza/workspace/maiot/github_temp/zenml/.zen/zenservice.json\n",
      "2021-10-15 15:46:41,404 — zenml.core.utils — DEBUG — Parsing file: /home/hamza/.config/zenml/.zenglobal.json\n",
      "2021-10-15 15:46:41,405 — zenml.core.local_service — DEBUG — Fetching stack with key local_stack\n"
     ]
    }
   ],
   "source": [
    "# Initialise the pipeline\n",
    "first_pipeline = mnist_pipeline(\n",
    "    importer=importer_mnist(),\n",
    "    normalizer=normalizer(),\n",
    "    trainer=trainer(config=TrainerConfig(epochs=1)),\n",
    "    evaluator=evaluator(),\n",
    ")"
   ]
  },
  {
   "cell_type": "markdown",
   "metadata": {
    "id": "zKpVG4RXz403"
   },
   "source": [
    "## Run the Pipeline"
   ]
  },
  {
   "cell_type": "markdown",
   "metadata": {
    "id": "QzSHv8GioAkW"
   },
   "source": [
    "Running the pipeline is as simple as calling the `run()` method on the defined pipeline."
   ]
  },
  {
   "cell_type": "code",
   "execution_count": 8,
   "metadata": {
    "colab": {
     "base_uri": "https://localhost:8080/"
    },
    "id": "mLZf7mdmUW_M",
    "outputId": "539b9c10-a3b4-4ac3-8f44-edc1b2babe11"
   },
   "outputs": [
    {
     "name": "stdout",
     "output_type": "stream",
     "text": [
      "2021-10-15 15:46:41,411 — zenml.core.utils — DEBUG — Parsing file: /home/hamza/workspace/maiot/github_temp/zenml/.zen/zenservice.json\n",
      "2021-10-15 15:46:41,415 — zenml.core.local_service — DEBUG — Fetching orchestrator with key local_orchestrator\n",
      "2021-10-15 15:46:41,415 — zenml.utils.source_utils — DEBUG — Unpinned step found with no git sha. Attempting to load class from current repository state.\n",
      "2021-10-15 15:46:41,417 — zenml.core.utils — DEBUG — Parsing file: /home/hamza/workspace/maiot/github_temp/zenml/.zen/orchestrators/890a0967-ebac-4d94-8646-c019775948cc.json\n",
      "2021-10-15 15:46:41,418 — zenml.materializers.spec_materializer_registry — DEBUG — Registered materializer <class 'zenml.materializers.numpy_materializer.NumpyMaterializer'> for X_train\n",
      "2021-10-15 15:46:41,419 — zenml.materializers.spec_materializer_registry — DEBUG — Registered materializer <class 'zenml.materializers.numpy_materializer.NumpyMaterializer'> for y_train\n",
      "2021-10-15 15:46:41,419 — zenml.materializers.spec_materializer_registry — DEBUG — Registered materializer <class 'zenml.materializers.numpy_materializer.NumpyMaterializer'> for X_test\n",
      "2021-10-15 15:46:41,419 — zenml.materializers.spec_materializer_registry — DEBUG — Registered materializer <class 'zenml.materializers.numpy_materializer.NumpyMaterializer'> for y_test\n",
      "2021-10-15 15:46:41,420 — zenml.materializers.spec_materializer_registry — DEBUG — Registered materializer <class 'zenml.materializers.numpy_materializer.NumpyMaterializer'> for X_train\n",
      "2021-10-15 15:46:41,421 — zenml.materializers.spec_materializer_registry — DEBUG — Registered materializer <class 'zenml.materializers.numpy_materializer.NumpyMaterializer'> for X_test\n",
      "2021-10-15 15:46:41,421 — zenml.materializers.spec_materializer_registry — DEBUG — Registered materializer <class 'zenml.materializers.numpy_materializer.NumpyMaterializer'> for X_train_normed\n",
      "2021-10-15 15:46:41,422 — zenml.materializers.spec_materializer_registry — DEBUG — Registered materializer <class 'zenml.materializers.numpy_materializer.NumpyMaterializer'> for X_test_normed\n",
      "2021-10-15 15:46:41,423 — zenml.materializers.spec_materializer_registry — DEBUG — Registered materializer <class 'zenml.materializers.numpy_materializer.NumpyMaterializer'> for X_train\n",
      "2021-10-15 15:46:41,423 — zenml.materializers.spec_materializer_registry — DEBUG — Registered materializer <class 'zenml.materializers.numpy_materializer.NumpyMaterializer'> for y_train\n",
      "2021-10-15 15:46:41,424 — zenml.materializers.spec_materializer_registry — DEBUG — Registered materializer <class 'zenml.materializers.keras_meterializer.KerasMaterializer'> for output\n",
      "2021-10-15 15:46:41,424 — zenml.materializers.spec_materializer_registry — DEBUG — Registered materializer <class 'zenml.materializers.numpy_materializer.NumpyMaterializer'> for X_test\n",
      "2021-10-15 15:46:41,425 — zenml.materializers.spec_materializer_registry — DEBUG — Registered materializer <class 'zenml.materializers.numpy_materializer.NumpyMaterializer'> for y_test\n",
      "2021-10-15 15:46:41,425 — zenml.materializers.spec_materializer_registry — DEBUG — Registered materializer <class 'zenml.materializers.keras_meterializer.KerasMaterializer'> for model\n",
      "2021-10-15 15:46:41,426 — zenml.materializers.spec_materializer_registry — DEBUG — Registered materializer <class 'zenml.materializers.numpy_materializer.NumpyMaterializer'> for output\n",
      "2021-10-15 15:46:41,430 — zenml.core.utils — DEBUG — Parsing file: /home/hamza/workspace/maiot/github_temp/zenml/.zen/zenservice.json\n",
      "2021-10-15 15:46:41,436 — zenml.core.local_service — DEBUG — Fetching artifact_store with key local_artifact_store\n",
      "2021-10-15 15:46:41,437 — zenml.utils.source_utils — DEBUG — Unpinned step found with no git sha. Attempting to load class from current repository state.\n",
      "2021-10-15 15:46:41,439 — zenml.core.utils — DEBUG — Parsing file: /home/hamza/workspace/maiot/github_temp/zenml/.zen/artifact_stores/a8b3e2ed-b20e-4ac9-8ad8-00cfc97f86d1.json\n",
      "2021-10-15 15:46:41,441 — zenml.core.utils — DEBUG — Parsing file: /home/hamza/workspace/maiot/github_temp/zenml/.zen/zenservice.json\n",
      "2021-10-15 15:46:41,446 — zenml.core.local_service — DEBUG — Fetching metadata store with key local_metadata_store\n",
      "2021-10-15 15:46:41,446 — zenml.utils.source_utils — DEBUG — Unpinned step found with no git sha. Attempting to load class from current repository state.\n",
      "2021-10-15 15:46:41,448 — zenml.core.utils — DEBUG — Parsing file: /home/hamza/workspace/maiot/github_temp/zenml/.zen/metadata_stores/1afb6c7a-cd33-415e-9289-6c85c9ad20f4.json\n"
     ]
    }
   ],
   "source": [
    "# Run the pipeline\n",
    "first_pipeline.run()"
   ]
  },
  {
   "cell_type": "markdown",
   "metadata": {
    "id": "gotkJdTQz8j2"
   },
   "source": [
    "## From MNIST to Fashion MNIST"
   ]
  },
  {
   "cell_type": "markdown",
   "metadata": {
    "id": "PMLU4cNW-Ei4"
   },
   "source": [
    "We got pretty good results on the MNIST model that we trained, but maybe we want to see how a similar training pipeline would work on a different dataset.\n",
    "\n",
    "You can see how easy it is to switch out one data import step and processing for another in our pipeline."
   ]
  },
  {
   "cell_type": "code",
   "execution_count": 9,
   "metadata": {
    "colab": {
     "base_uri": "https://localhost:8080/"
    },
    "id": "rIfD-3-Ms8k1",
    "outputId": "8e3d0006-e788-48ff-dfba-9e0fa4b550c0"
   },
   "outputs": [
    {
     "name": "stdout",
     "output_type": "stream",
     "text": [
      "2021-10-15 15:46:41,668 — zenml.steps.base_step — DEBUG — Registering class importer_fashion_mnist, bases: (<class 'zenml.steps.base_step.BaseStep'>,), dct: {'process': <staticmethod object at 0x7fca00461710>}\n",
      "2021-10-15 15:46:41,671 — zenml.steps.base_step — DEBUG — importer_fashion_mnist args: []\n"
     ]
    }
   ],
   "source": [
    "# Define a new modified import data step to download the Fashion MNIST model\n",
    "@step\n",
    "def importer_fashion_mnist() -> Output(\n",
    "    X_train=np.ndarray, y_train=np.ndarray, X_test=np.ndarray, y_test=np.ndarray\n",
    "):\n",
    "    \"\"\"Download the MNIST data store it as an artifact\"\"\"\n",
    "    (X_train, y_train), (\n",
    "        X_test,\n",
    "        y_test,\n",
    "    ) = tf.keras.datasets.fashion_mnist.load_data()\n",
    "    return X_train, y_train, X_test, y_test"
   ]
  },
  {
   "cell_type": "code",
   "execution_count": 10,
   "metadata": {
    "colab": {
     "base_uri": "https://localhost:8080/"
    },
    "id": "9oQO-ZGE4Kwf",
    "outputId": "c2fb7281-60ee-4126-b859-b8230a1d112b"
   },
   "outputs": [
    {
     "name": "stdout",
     "output_type": "stream",
     "text": [
      "2021-10-15 15:46:41,725 — zenml.core.utils — DEBUG — Parsing file: /home/hamza/workspace/maiot/github_temp/zenml/.zen/zenservice.json\n",
      "2021-10-15 15:46:41,739 — zenml.core.utils — DEBUG — Parsing file: /home/hamza/.config/zenml/.zenglobal.json\n",
      "2021-10-15 15:46:41,744 — zenml.core.local_service — DEBUG — Fetching stack with key local_stack\n"
     ]
    }
   ],
   "source": [
    "# Initialise a new pipeline\n",
    "second_pipeline = mnist_pipeline(\n",
    "    importer=importer_fashion_mnist(),\n",
    "    normalizer=normalizer(),\n",
    "    trainer=trainer(config=TrainerConfig(epochs=1)),\n",
    "    evaluator=evaluator(),\n",
    ")"
   ]
  },
  {
   "cell_type": "code",
   "execution_count": 11,
   "metadata": {
    "colab": {
     "base_uri": "https://localhost:8080/"
    },
    "id": "4t-KrsOfoKA4",
    "outputId": "5e78731d-df35-45d3-80ab-fe6ff1be2879"
   },
   "outputs": [
    {
     "name": "stdout",
     "output_type": "stream",
     "text": [
      "2021-10-15 15:46:41,756 — zenml.core.utils — DEBUG — Parsing file: /home/hamza/workspace/maiot/github_temp/zenml/.zen/zenservice.json\n",
      "2021-10-15 15:46:41,763 — zenml.core.local_service — DEBUG — Fetching orchestrator with key local_orchestrator\n",
      "2021-10-15 15:46:41,764 — zenml.utils.source_utils — DEBUG — Unpinned step found with no git sha. Attempting to load class from current repository state.\n",
      "2021-10-15 15:46:41,766 — zenml.core.utils — DEBUG — Parsing file: /home/hamza/workspace/maiot/github_temp/zenml/.zen/orchestrators/890a0967-ebac-4d94-8646-c019775948cc.json\n",
      "2021-10-15 15:46:41,768 — zenml.materializers.spec_materializer_registry — DEBUG — Registered materializer <class 'zenml.materializers.numpy_materializer.NumpyMaterializer'> for X_train\n",
      "2021-10-15 15:46:41,768 — zenml.materializers.spec_materializer_registry — DEBUG — Registered materializer <class 'zenml.materializers.numpy_materializer.NumpyMaterializer'> for y_train\n",
      "2021-10-15 15:46:41,769 — zenml.materializers.spec_materializer_registry — DEBUG — Registered materializer <class 'zenml.materializers.numpy_materializer.NumpyMaterializer'> for X_test\n",
      "2021-10-15 15:46:41,770 — zenml.materializers.spec_materializer_registry — DEBUG — Registered materializer <class 'zenml.materializers.numpy_materializer.NumpyMaterializer'> for y_test\n",
      "2021-10-15 15:46:41,773 — zenml.materializers.spec_materializer_registry — DEBUG — Registered materializer <class 'zenml.materializers.numpy_materializer.NumpyMaterializer'> for X_train\n",
      "2021-10-15 15:46:41,774 — zenml.materializers.spec_materializer_registry — DEBUG — Registered materializer <class 'zenml.materializers.numpy_materializer.NumpyMaterializer'> for X_test\n",
      "2021-10-15 15:46:41,775 — zenml.materializers.spec_materializer_registry — DEBUG — Registered materializer <class 'zenml.materializers.numpy_materializer.NumpyMaterializer'> for X_train_normed\n",
      "2021-10-15 15:46:41,776 — zenml.materializers.spec_materializer_registry — DEBUG — Registered materializer <class 'zenml.materializers.numpy_materializer.NumpyMaterializer'> for X_test_normed\n",
      "2021-10-15 15:46:41,778 — zenml.materializers.spec_materializer_registry — DEBUG — Registered materializer <class 'zenml.materializers.numpy_materializer.NumpyMaterializer'> for X_train\n",
      "2021-10-15 15:46:41,779 — zenml.materializers.spec_materializer_registry — DEBUG — Registered materializer <class 'zenml.materializers.numpy_materializer.NumpyMaterializer'> for y_train\n",
      "2021-10-15 15:46:41,780 — zenml.materializers.spec_materializer_registry — DEBUG — Registered materializer <class 'zenml.materializers.keras_meterializer.KerasMaterializer'> for output\n",
      "2021-10-15 15:46:41,781 — zenml.materializers.spec_materializer_registry — DEBUG — Registered materializer <class 'zenml.materializers.numpy_materializer.NumpyMaterializer'> for X_test\n",
      "2021-10-15 15:46:41,782 — zenml.materializers.spec_materializer_registry — DEBUG — Registered materializer <class 'zenml.materializers.numpy_materializer.NumpyMaterializer'> for y_test\n",
      "2021-10-15 15:46:41,783 — zenml.materializers.spec_materializer_registry — DEBUG — Registered materializer <class 'zenml.materializers.keras_meterializer.KerasMaterializer'> for model\n",
      "2021-10-15 15:46:41,784 — zenml.materializers.spec_materializer_registry — DEBUG — Registered materializer <class 'zenml.materializers.numpy_materializer.NumpyMaterializer'> for output\n",
      "2021-10-15 15:46:41,791 — zenml.core.utils — DEBUG — Parsing file: /home/hamza/workspace/maiot/github_temp/zenml/.zen/zenservice.json\n",
      "2021-10-15 15:46:41,796 — zenml.core.local_service — DEBUG — Fetching artifact_store with key local_artifact_store\n",
      "2021-10-15 15:46:41,796 — zenml.utils.source_utils — DEBUG — Unpinned step found with no git sha. Attempting to load class from current repository state.\n",
      "2021-10-15 15:46:41,799 — zenml.core.utils — DEBUG — Parsing file: /home/hamza/workspace/maiot/github_temp/zenml/.zen/artifact_stores/a8b3e2ed-b20e-4ac9-8ad8-00cfc97f86d1.json\n",
      "2021-10-15 15:46:41,802 — zenml.core.utils — DEBUG — Parsing file: /home/hamza/workspace/maiot/github_temp/zenml/.zen/zenservice.json\n",
      "2021-10-15 15:46:41,807 — zenml.core.local_service — DEBUG — Fetching metadata store with key local_metadata_store\n",
      "2021-10-15 15:46:41,809 — zenml.utils.source_utils — DEBUG — Unpinned step found with no git sha. Attempting to load class from current repository state.\n",
      "2021-10-15 15:46:41,811 — zenml.core.utils — DEBUG — Parsing file: /home/hamza/workspace/maiot/github_temp/zenml/.zen/metadata_stores/1afb6c7a-cd33-415e-9289-6c85c9ad20f4.json\n"
     ]
    }
   ],
   "source": [
    "# Run the new pipeline\n",
    "second_pipeline.run()"
   ]
  },
  {
   "cell_type": "markdown",
   "metadata": {
    "id": "uOJtVVaFzlUO"
   },
   "source": [
    "… and that's it for the quickstart. If you came here without a hiccup, you must have successly installed ZenML, set up a ZenML repo, configured a training pipeline, executed it and evaluated the results. And, this is just the tip of the iceberg on the capabilities of ZenML.\n",
    "\n",
    "However, if you had a hiccup or you have some suggestions/questions regarding our framework, you can always check our [docs](https://docs.zenml.io/) or our [Github](https://github.com/zenml-io/zenml) or even better join us on our [Slack channel](https://zenml.io/slack-invite).\n",
    "\n",
    "Cheers!"
   ]
  },
  {
   "cell_type": "markdown",
   "metadata": {
    "id": "22gkBKSntlF8"
   },
   "source": [
    "For more detailed information on all the components and steps that went into this short example, please continue reading [our more detailed documentation pages](https://docs.zenml.io/)."
   ]
  },
  {
   "cell_type": "markdown",
   "metadata": {},
   "source": [
    "# Post execution workflow"
   ]
  },
  {
   "cell_type": "code",
   "execution_count": 12,
   "metadata": {},
   "outputs": [],
   "source": [
    "from zenml.core.repo import Repository"
   ]
  },
  {
   "cell_type": "markdown",
   "metadata": {},
   "source": [
    "## Get repo"
   ]
  },
  {
   "cell_type": "code",
   "execution_count": 13,
   "metadata": {},
   "outputs": [
    {
     "name": "stdout",
     "output_type": "stream",
     "text": [
      "2021-10-15 15:46:44,038 — zenml.core.utils — DEBUG — Parsing file: /home/hamza/workspace/maiot/github_temp/zenml/.zen/zenservice.json\n"
     ]
    }
   ],
   "source": [
    "repo = Repository()"
   ]
  },
  {
   "cell_type": "markdown",
   "metadata": {},
   "source": [
    "## Pipelines "
   ]
  },
  {
   "cell_type": "code",
   "execution_count": 14,
   "metadata": {},
   "outputs": [
    {
     "name": "stdout",
     "output_type": "stream",
     "text": [
      "2021-10-15 15:46:44,308 — zenml.core.utils — DEBUG — Parsing file: /home/hamza/.config/zenml/.zenglobal.json\n",
      "2021-10-15 15:46:44,319 — zenml.utils.analytics_utils — DEBUG — Analytics opt-in: False.\n",
      "2021-10-15 15:46:44,327 — zenml.core.utils — DEBUG — Parsing file: /home/hamza/.config/zenml/.zenglobal.json\n",
      "2021-10-15 15:46:44,334 — zenml.core.local_service — DEBUG — Fetching stack with key local_stack\n",
      "2021-10-15 15:46:44,343 — zenml.core.utils — DEBUG — Parsing file: /home/hamza/workspace/maiot/github_temp/zenml/.zen/zenservice.json\n",
      "2021-10-15 15:46:44,358 — zenml.core.local_service — DEBUG — Fetching metadata store with key local_metadata_store\n",
      "2021-10-15 15:46:44,359 — zenml.utils.source_utils — DEBUG — Unpinned step found with no git sha. Attempting to load class from current repository state.\n",
      "2021-10-15 15:46:44,363 — zenml.core.utils — DEBUG — Parsing file: /home/hamza/workspace/maiot/github_temp/zenml/.zen/metadata_stores/1afb6c7a-cd33-415e-9289-6c85c9ad20f4.json\n",
      "2021-10-15 15:46:44,371 — zenml.metadata.base_metadata_store — DEBUG — Fetched 1 pipelines.\n"
     ]
    }
   ],
   "source": [
    "pipelines = repo.get_pipelines()"
   ]
  },
  {
   "cell_type": "code",
   "execution_count": 15,
   "metadata": {},
   "outputs": [],
   "source": [
    "mnist_pipeline = pipelines[0]"
   ]
  },
  {
   "cell_type": "code",
   "execution_count": 16,
   "metadata": {},
   "outputs": [
    {
     "name": "stdout",
     "output_type": "stream",
     "text": [
      "2021-10-15 15:46:44,692 — zenml.metadata.base_metadata_store — DEBUG — Fetched 10 pipeline runs for pipeline named 'mnist_pipeline'.\n"
     ]
    }
   ],
   "source": [
    "runs = mnist_pipeline.get_runs()\n",
    "run = runs[0]"
   ]
  },
  {
   "cell_type": "code",
   "execution_count": 17,
   "metadata": {},
   "outputs": [
    {
     "name": "stdout",
     "output_type": "stream",
     "text": [
      "2021-10-15 15:46:44,764 — zenml.metadata.base_metadata_store — DEBUG — Fetched 4 steps for pipeline run '2021-10-15T14:28:29.388282'.\n"
     ]
    },
    {
     "data": {
      "text/plain": [
       "[StepView(id=1, name='importer_mnist', parameters={}),\n",
       " StepView(id=2, name='normalizer', parameters={}),\n",
       " StepView(id=3, name='trainer', parameters={'epochs': '1'}),\n",
       " StepView(id=4, name='evaluator', parameters={})]"
      ]
     },
     "execution_count": 17,
     "metadata": {},
     "output_type": "execute_result"
    }
   ],
   "source": [
    "steps = run.steps\n",
    "steps"
   ]
  },
  {
   "cell_type": "code",
   "execution_count": 21,
   "metadata": {},
   "outputs": [
    {
     "data": {
      "text/plain": [
       "StepView(id=4, name='evaluator', parameters={})"
      ]
     },
     "execution_count": 21,
     "metadata": {},
     "output_type": "execute_result"
    }
   ],
   "source": [
    "eval_step = steps[3]\n",
    "eval_step"
   ]
  },
  {
   "cell_type": "code",
   "execution_count": 22,
   "metadata": {},
   "outputs": [
    {
     "name": "stdout",
     "output_type": "stream",
     "text": [
      "2021-10-15 15:46:58,770 — zenml.metadata.base_metadata_store — DEBUG — Fetched 3 inputs and 1 outputs for step 'evaluator'.\n"
     ]
    },
    {
     "data": {
      "text/plain": [
       "ArtifactView(id=8, type='BaseArtifact', uri='/home/hamza/workspace/maiot/github_temp/zenml/.zen/local_store/evaluator/output/4', materializer='zenml.materializers.numpy_materializer.NumpyMaterializer@zenml_0.5.0rc2')"
      ]
     },
     "execution_count": 22,
     "metadata": {},
     "output_type": "execute_result"
    }
   ],
   "source": [
    "evaluator_output = eval_step.outputs[0]\n",
    "evaluator_output"
   ]
  },
  {
   "cell_type": "code",
   "execution_count": 24,
   "metadata": {},
   "outputs": [
    {
     "name": "stdout",
     "output_type": "stream",
     "text": [
      "2021-10-15 15:47:07,083 — zenml.utils.source_utils — DEBUG — Unpinned step found with no git sha. Attempting to load class from current repository state.\n",
      "2021-10-15 15:47:07,086 — zenml.post_execution.artifact — DEBUG — Using 'NumpyMaterializer' to read 'BaseArtifact' (uri: /home/hamza/workspace/maiot/github_temp/zenml/.zen/local_store/evaluator/output/4).\n"
     ]
    },
    {
     "data": {
      "text/plain": [
       "array([0.305024  , 0.91329998])"
      ]
     },
     "execution_count": 24,
     "metadata": {},
     "output_type": "execute_result"
    }
   ],
   "source": [
    "evaluator_output.read(np.ndarray)"
   ]
  },
  {
   "cell_type": "code",
   "execution_count": null,
   "metadata": {},
   "outputs": [],
   "source": []
  }
 ],
 "metadata": {
  "colab": {
   "collapsed_sections": [],
   "include_colab_link": true,
   "name": "ZenML Quickstart.ipynb",
   "provenance": []
  },
  "kernelspec": {
   "display_name": "Python 3",
   "language": "python",
   "name": "python3"
  },
  "language_info": {
   "codemirror_mode": {
    "name": "ipython",
    "version": 3
   },
   "file_extension": ".py",
   "mimetype": "text/x-python",
   "name": "python",
   "nbconvert_exporter": "python",
   "pygments_lexer": "ipython3",
   "version": "3.6.9"
  }
 },
 "nbformat": 4,
 "nbformat_minor": 1
}
