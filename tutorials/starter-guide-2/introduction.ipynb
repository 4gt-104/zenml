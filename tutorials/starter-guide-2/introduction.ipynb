{
 "cells": [
  {
   "cell_type": "markdown",
   "metadata": {},
   "source": [
    "# 🐣 Starter guide\n",
    "\n",
    "[![Open In Colab](https://colab.research.google.com/assets/colab-badge.svg)](https://colab.research.google.com/github/your-repo/zenml-docs/blob/main/notebooks/01_introduction.ipynb) [![Run Locally](https://img.shields.io/badge/run-locally-blue)](https://github.com/your-repo/zenml-docs)\n",
    "\n",
    "Welcome to the ZenML Starter Guide! If you're an MLOps engineer aiming to build robust ML platforms, or a data scientist interested in leveraging the power of MLOps, this is the perfect place to begin. Our guide is designed to provide you with the foundational knowledge of the ZenML framework and equip you with the initial tools to manage the complexity of machine learning operations.\n",
    "\n",
    "![Embarking on MLOps can be intricate. ZenML simplifies the journey.](../../docs/book/.gitbook/assets/01_pipeline.png)\n",
    "\n",
    "Throughout this guide, we'll cover essential topics including:\n",
    "\n",
    "- Creating your first ML pipeline\n",
    "- Understanding caching between pipeline steps\n",
    "- Fetching objects after pipelines have run\n",
    "- Managing data and data versioning\n",
    "- Tracking your machine learning models\n",
    "- Structuring your pipelines, models, and artifacts\n",
    "\n",
    "Before jumping in, make sure you have a Python environment ready and `virtualenv` installed to follow along with ease."
   ]
  },
  {
   "cell_type": "code",
   "execution_count": null,
   "metadata": {},
   "outputs": [],
   "source": [
    "!pip install zenml"
   ]
  },
  {
   "cell_type": "markdown",
   "metadata": {},
   "source": [
    "By the end, you will have completed a starter project, marking the beginning of your journey into MLOps with ZenML.\n",
    "\n",
    "Let this guide be not only your introduction to ZenML but also a foundational asset in your MLOps toolkit. Prepare your development environment, and let's get started!"
   ]
  },
  {
   "cell_type": "code",
   "execution_count": 1,
   "metadata": {},
   "outputs": [
    {
     "name": "stderr",
     "output_type": "stream",
     "text": [
      "/Users/htahir1/Envs/zenml_development/lib/python3.9/site-packages/urllib3/__init__.py:35: NotOpenSSLWarning: urllib3 v2 only supports OpenSSL 1.1.1+, currently the 'ssl' module is compiled with 'LibreSSL 2.8.3'. See: https://github.com/urllib3/urllib3/issues/3020\n",
      "  warnings.warn(\n"
     ]
    },
    {
     "name": "stdout",
     "output_type": "stream",
     "text": [
      "\u001b[1;35mInitiating a new run for the pipeline: \u001b[0m\u001b[1;36msimple_ml_pipeline\u001b[1;35m.\u001b[0m\n"
     ]
    }
   ],
   "source": [
    "from zenml import pipeline, step\n",
    "\n",
    "@step\n",
    "def load_data() -> dict:\n",
    "    \"\"\"Simulates loading of training data and labels.\"\"\"\n",
    "\n",
    "    training_data = [[1, 2], [3, 4], [5, 6]]\n",
    "    labels = [0, 1, 0]\n",
    "    \n",
    "    return {'features': training_data, 'labels': labels}\n",
    "\n",
    "@step\n",
    "def train_model(data: dict) -> None:\n",
    "    \"\"\"\n",
    "    A mock 'training' process that also demonstrates using the input data.\n",
    "    In a real-world scenario, this would be replaced with actual model fitting logic.\n",
    "    \"\"\"\n",
    "    total_features = sum(map(sum, data['features']))\n",
    "    total_labels = sum(data['labels'])\n",
    "    \n",
    "    print(f\"Trained model using {len(data['features'])} data points. \"\n",
    "          f\"Feature sum is {total_features}, label sum is {total_labels}\")\n",
    "\n",
    "@pipeline\n",
    "def simple_ml_pipeline():\n",
    "    \"\"\"Define a pipeline that connects the steps.\"\"\"\n",
    "    dataset = load_data()\n",
    "    train_model(dataset)\n",
    "\n",
    "if __name__ == \"__main__\":\n",
    "    run = simple_ml_pipeline()\n",
    "    # You can now use the `run` object to see steps, outputs, etc."
   ]
  },
  {
   "cell_type": "markdown",
   "metadata": {},
   "source": [
    "\n",
    "{% hint style=\"info\" %}\n",
    "* **`@step`** is a decorator that converts its function into a step that can be used within a pipeline\n",
    "* **`@pipeline`** defines a function as a pipeline and within this function, the steps are called and their outputs link them together.\n",
    "{% endhint %}\n",
    "\n",
    "Copy this code into a new file and name it `run.py`. Then run it with your command line:"
   ]
  },
  {
   "cell_type": "markdown",
   "metadata": {},
   "source": []
  }
 ],
 "metadata": {
  "kernelspec": {
   "display_name": "Python 3",
   "language": "python",
   "name": "python3"
  },
  "language_info": {
   "codemirror_mode": {
    "name": "ipython",
    "version": 3
   },
   "file_extension": ".py",
   "mimetype": "text/x-python",
   "name": "python",
   "nbconvert_exporter": "python",
   "pygments_lexer": "ipython3",
   "version": "3.9.6"
  }
 },
 "nbformat": 4,
 "nbformat_minor": 4
}
