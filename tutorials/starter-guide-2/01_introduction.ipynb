{
 "cells": [
  {
   "cell_type": "markdown",
   "metadata": {},
   "source": [
    "# 🐣 Starter guide\n",
    "\n",
    "[![Open In Colab](https://colab.research.google.com/assets/colab-badge.svg)](https://colab.research.google.com/github/your-repo/zenml-docs/blob/main/notebooks/01_introduction.ipynb) [![Run Locally](https://img.shields.io/badge/run-locally-blue)](https://github.com/your-repo/zenml-docs)\n",
    "\n",
    "Welcome to the ZenML Starter Guide! If you're an MLOps engineer aiming to build robust ML platforms, or a data scientist interested in leveraging the power of MLOps, this is the perfect place to begin. Our guide is designed to provide you with the foundational knowledge of the ZenML framework and equip you with the initial tools to manage the complexity of machine learning operations.\n",
    "\n",
    "![Embarking on MLOps can be intricate. ZenML simplifies the journey.](../../docs/book/.gitbook/assets/01_pipeline.png)\n",
    "\n",
    "Throughout this guide, we'll cover essential topics including:\n",
    "\n",
    "- Creating your first ML pipeline\n",
    "- Understanding caching between pipeline steps\n",
    "- Fetching objects after pipelines have run\n",
    "- Managing data and data versioning\n",
    "- Tracking your machine learning models\n",
    "- Structuring your pipelines, models, and artifacts\n",
    "\n",
    "Before jumping in, make sure you have a Python environment ready and `virtualenv` installed to follow along with ease."
   ]
  },
  {
   "cell_type": "code",
   "execution_count": null,
   "metadata": {},
   "outputs": [],
   "source": [
    "!pip install zenml"
   ]
  },
  {
   "cell_type": "markdown",
   "metadata": {},
   "source": [
    "By the end, you will have completed a starter project, marking the beginning of your journey into MLOps with ZenML.\n",
    "\n",
    "Let this guide be not only your introduction to ZenML but also a foundational asset in your MLOps toolkit. Prepare your development environment, and let's get started!"
   ]
  }
 ],
 "metadata": {
  "kernelspec": {
   "display_name": "Python 3",
   "language": "python",
   "name": "python3"
  },
  "language_info": {
   "codemirror_mode": {
    "name": "ipython",
    "version": 3
   },
   "file_extension": ".py",
   "mimetype": "text/x-python",
   "name": "python",
   "nbconvert_exporter": "python",
   "pygments_lexer": "ipython3",
   "version": "3.8.0"
  }
 },
 "nbformat": 4,
 "nbformat_minor": 4
}
